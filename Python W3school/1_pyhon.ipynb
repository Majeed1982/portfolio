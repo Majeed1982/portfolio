{
 "cells": [
  {
   "cell_type": "markdown",
   "metadata": {},
   "source": [
    "# Learn Python\n",
    "Python is a popular programming language.\n",
    "\n",
    "Python can be used on a server to create web applications.\n",
    "\n",
    "# What is Python?\n",
    "\n",
    "Python is a popular programming language. It was created by Guido van Rossum, and released in 1991.\n",
    "\n",
    "# It is used for:\n",
    "\n",
    "web development (server-side),\n",
    "software development,\n",
    "mathematics,\n",
    "system scripting.\n",
    "\n",
    "# What can Python do?\n",
    "\n",
    "Python can be used on a server to create web applications.\n",
    "\n",
    "Python can be used alongside software to create workflows.\n",
    "\n",
    "Python can connect to database systems. \n",
    "\n",
    "It can also read and modify files.\n",
    "\n",
    "Python can be used to handle big data and perform complex mathematics.\n",
    "\n",
    "Python can be used for rapid prototyping, or for production-ready software development.\n",
    "\n",
    "# Why Python?\n",
    "\n",
    "Python works on different platforms (Windows, Mac, Linux, Raspberry Pi, etc).\n",
    "\n",
    "Python has a simple syntax similar to the English language.\n",
    "\n",
    "Python has syntax that allows developers to write programs with fewer lines than some other programming languages.\n",
    "\n",
    "Python runs on an interpreter system, meaning that code can be executed as soon as it is written. \n",
    "\n",
    "This means that prototyping can be very quick.\n",
    "\n",
    "Python can be treated in a procedural way, an object-oriented way or a functional way.\n",
    "\n",
    "# Good to know\n",
    "\n",
    "The most recent major version of Python is Python 3, which we shall be using in this tutorial. \n",
    "\n",
    "However, Python 2, although not being updated with anything other than security updates, is still quite popular.\n",
    "\n",
    "\n",
    "# In this tutorial \n",
    "\n",
    "Python will be written in a text editor. \n",
    "\n",
    "It is possible to write Python in an Integrated Development Environment, such as Thonny, Pycharm, Netbeans or Eclipse which are particularly useful when managing larger collections of Python files.\n",
    "\n",
    "Python Syntax compared to other programming languages\n",
    "\n",
    "Python was designed for readability, and has some similarities to the English language with influence from mathematics.\n",
    "\n",
    "Python uses new lines to complete a command, as opposed to other programming languages which often use semicolons or parentheses.\n",
    "\n",
    "Python relies on indentation, using whitespace, to define scope; such as the scope of loops, functions and classes. \n",
    "\n",
    "Other programming languages often use curly-brackets for this purpose."
   ]
  },
  {
   "cell_type": "markdown",
   "metadata": {},
   "source": [
    "# Python Install\n",
    "\n",
    "Many PCs and Macs will have python already installed.\n",
    "\n",
    "To check if you have python installed on a Windows PC, search in the start bar for Python or run the following on the Command Line (cmd.exe):\n",
    "\n",
    "C:\\Users\\Your Name>python --version"
   ]
  },
  {
   "cell_type": "markdown",
   "metadata": {},
   "source": [
    "To check if you have python installed on a Linux or Mac, then on linux open the command line or on Mac open the Terminal and type:\n",
    "\n",
    "python --version"
   ]
  },
  {
   "cell_type": "markdown",
   "metadata": {},
   "source": [
    "If you find that you do not have Python installed on your computer, then you can download it for free from the following website: https://www.python.org/\n",
    "\n",
    "# Python Quickstart\n",
    "\n",
    "Python is an interpreted programming language, this means that as a developer you write Python (.py) files in a text editor and then put those files into the python interpreter to be executed.\n",
    "\n",
    "The way to run a python file is like this on the command line:\n",
    "\n",
    "C:\\Users\\Your Name>python helloworld.py"
   ]
  },
  {
   "cell_type": "markdown",
   "metadata": {},
   "source": [
    "Where \"helloworld.py\" is the name of your python file.\n",
    "\n",
    "Let's write our first Python file, called helloworld.py, which can be done in any text editor.\n",
    "\n",
    "helloworld.py"
   ]
  },
  {
   "cell_type": "code",
   "execution_count": 5,
   "metadata": {},
   "outputs": [
    {
     "name": "stdout",
     "output_type": "stream",
     "text": [
      "Hello, World!\n"
     ]
    }
   ],
   "source": [
    "print(\"Hello, World!\")"
   ]
  },
  {
   "cell_type": "markdown",
   "metadata": {},
   "source": [
    "Simple as that. Save your file. Open your command line, navigate to the directory where you saved your file, and run:\n",
    "\n",
    "C:\\Users\\Your Name>python helloworld.py"
   ]
  },
  {
   "cell_type": "markdown",
   "metadata": {},
   "source": [
    "Python Version\n",
    "\n",
    "To check the Python version of the editor, you can find it by importing the sys module:\n",
    "\n",
    "import sys\n",
    "\n",
    "print(sys.version)"
   ]
  },
  {
   "cell_type": "markdown",
   "metadata": {},
   "source": [
    "# The Python Command Line\n",
    "\n",
    "To test a short amount of code in python sometimes it is quickest and easiest not to write the code in a file. This is made possible because Python can be run as a command line itself.\n",
    "\n",
    "Type the following on the Windows, Mac or Linux command line:\n",
    "\n",
    "C:\\Users\\Your Name>python\n",
    "\n",
    "Or, if the \"python\" command did not work, you can try \"py\":\n",
    "\n",
    "C:\\Users\\Your Name>py\n",
    "\n",
    "you can write \"Hello, World!\" in the command line:\n",
    "\n",
    "Whenever you are done in the python command line, you can simply type the following to quit the python command line interface:\n",
    "\n",
    "exit()\n",
    "\n"
   ]
  },
  {
   "cell_type": "markdown",
   "metadata": {},
   "source": []
  }
 ],
 "metadata": {
  "kernelspec": {
   "display_name": "Python 3",
   "language": "python",
   "name": "python3"
  },
  "language_info": {
   "codemirror_mode": {
    "name": "ipython",
    "version": 3
   },
   "file_extension": ".py",
   "mimetype": "text/x-python",
   "name": "python",
   "nbconvert_exporter": "python",
   "pygments_lexer": "ipython3",
   "version": "3.11.4"
  }
 },
 "nbformat": 4,
 "nbformat_minor": 2
}
