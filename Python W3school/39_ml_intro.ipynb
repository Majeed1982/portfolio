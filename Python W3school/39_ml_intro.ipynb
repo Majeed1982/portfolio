{
 "cells": [
  {
   "cell_type": "markdown",
   "metadata": {},
   "source": [
    "# Machine Learning\n",
    "Machine Learning is making the computer learn from studying data and statistics.\n",
    "\n",
    "Machine Learning is a step into the direction of artificial intelligence (AI).\n",
    "\n",
    "Machine Learning is a program that analyses data and learns to predict the outcome."
   ]
  },
  {
   "cell_type": "markdown",
   "metadata": {},
   "source": [
    "### Where To Start?\n",
    "In this tutorial we will go back to mathematics and study statistics, and how to calculate important numbers based on data sets.\n",
    "\n",
    "We will also learn how to use various Python modules to get the answers we need.\n",
    "\n",
    "And we will learn how to make functions that are able to predict the outcome based on what we have learned."
   ]
  },
  {
   "cell_type": "markdown",
   "metadata": {},
   "source": [
    "### Data Set\n",
    "In the mind of a computer, a data set is any collection of data. It can be anything from an array to a complete database.\n",
    "\n",
    "Example of an array:\n",
    "\n",
    "[99,86,87,88,111,86,103,87,94,78,77,85,86]"
   ]
  },
  {
   "cell_type": "markdown",
   "metadata": {},
   "source": [
    "### Example of a database:\n",
    "\n",
    "Carname\t- Color - Age -\tSpeed -\tAutoPass\n",
    "\n",
    "BMW\t--- red\t--- 5\t--- 99\t--- Y\n",
    "\n",
    "Volvo --- black ---\t7\t--- 86 ---\tY\n",
    "\n",
    "VW --- gray --- 8 --- 87\t--- N\n",
    "\n",
    "VW ---\twhite\t--- 7 ---\t88 ---\tY\n",
    "\n",
    "Ford --- white ---\t2 ---\t111 ---\tY\n",
    "\n",
    "VW ---\twhite ---\t17 ---\t86 ---\tY\n",
    "\n",
    "Tesla ---\tred\t--- 2 ---\t103 ---\tY\n",
    "\n",
    "BMW ---\tblack\t--- 9\t--- 87 ---\tY\n",
    "\n",
    "Volvo ---\tgray --- 4 ---\t94 ---\tN\n",
    "\n",
    "Ford\twhite\t11\t78\tN\n",
    "\n",
    "Toyota\tgray\t12\t77\tN\n",
    "\n",
    "VW\twhite\t9\t85\tN\n",
    "\n",
    "Toyota\tblue\t6\t86\tY"
   ]
  },
  {
   "cell_type": "markdown",
   "metadata": {},
   "source": [
    "By looking at the array, we can guess that the average value is probably around 80 or 90, and we are also able to determine the highest value and the lowest value, but what else can we do?\n",
    "\n",
    "And by looking at the database we can see that the most popular color is white, and the oldest car is 17 years, but what if we could predict if a car had an AutoPass, just by looking at the other values?\n",
    "\n",
    "That is what Machine Learning is for! Analyzing data and predicting the outcome!"
   ]
  },
  {
   "cell_type": "markdown",
   "metadata": {},
   "source": [
    "In Machine Learning it is common to work with very large data sets. In this tutorial we will try to make it as easy as possible to understand the different concepts of machine learning, and we will work with small easy-to-understand data sets."
   ]
  },
  {
   "cell_type": "markdown",
   "metadata": {},
   "source": [
    "### Data Types\n",
    "To analyze data, it is important to know what type of data we are dealing with.\n",
    "\n",
    "We can split the data types into three main categories:\n",
    "\n",
    "Numerical\n",
    "\n",
    "Categorical\n",
    "\n",
    "Ordinal"
   ]
  },
  {
   "cell_type": "markdown",
   "metadata": {},
   "source": [
    "### Numerical data are numbers, and can be split into two numerical categories:\n",
    "\n",
    "Discrete Data\n",
    "- counted data that are limited to integers. Example: The number of cars passing by.\n",
    "\n",
    "Continuous Data\n",
    "- measured data that can be any number. Example: The price of an item, or the size of an item"
   ]
  },
  {
   "cell_type": "markdown",
   "metadata": {},
   "source": [
    "Categorical data are values that cannot be measured up against each other. Example: a color value, or any yes/no values.\n",
    "\n",
    "Ordinal data are like categorical data, but can be measured up against each other. Example: school grades where A is better than B and so on.\n",
    "\n",
    "By knowing the data type of your data source, you will be able to know what technique to use when analyzing them."
   ]
  },
  {
   "cell_type": "markdown",
   "metadata": {},
   "source": []
  }
 ],
 "metadata": {
  "language_info": {
   "name": "python"
  }
 },
 "nbformat": 4,
 "nbformat_minor": 2
}
