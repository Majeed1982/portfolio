{
 "cells": [
  {
   "cell_type": "markdown",
   "metadata": {},
   "source": [
    "# Matplotlib Histograms\n",
    "### Histogram\n",
    "A histogram is a graph showing frequency distributions.\n",
    "\n",
    "It is a graph showing the number of observations within each given interval.\n",
    "\n",
    "Example: Say you ask for the height of 250 people, you might end up with a histogram like this:\n",
    "\n",
    "You can read from the histogram that there are approximately:\n",
    "\n",
    "2 people from 140 to 145cm\n",
    "\n",
    "5 people from 145 to 150cm\n",
    "\n",
    "15 people from 151 to 156cm\n",
    "\n",
    "31 people from 157 to 162cm\n",
    "\n",
    "46 people from 163 to 168cm\n",
    "\n",
    "53 people from 168 to 173cm\n",
    "\n",
    "45 people from 173 to 178cm\n",
    "\n",
    "28 people from 179 to 184cm\n",
    "\n",
    "21 people from 185 to 190cm\n",
    "\n",
    "4 people from 190 to 195cm"
   ]
  },
  {
   "cell_type": "code",
   "execution_count": 1,
   "metadata": {},
   "outputs": [
    {
     "data": {
      "image/png": "[encoded data removed]",
      "text/plain": [
       "<Figure size 432x288 with 1 Axes>"
      ]
     },
     "metadata": {
      "needs_background": "light"
     },
     "output_type": "display_data"
    }
   ],
   "source": [
    "import matplotlib.pyplot as plt\n",
    "import numpy as np\n",
    "\n",
    "x = np.random.normal(170, 10, 250)\n",
    "\n",
    "plt.hist(x)\n",
    "plt.show() "
   ]
  },
  {
   "cell_type": "markdown",
   "metadata": {},
   "source": [
    "### Create Histogram\n",
    "In Matplotlib, we use the hist() function to create histograms.\n",
    "\n",
    "The hist() function will use an array of numbers to create a histogram, the array is sent into the function as an argument.\n",
    "\n",
    "For simplicity we use NumPy to randomly generate an array with 250 values, where the values will concentrate around 170, and the standard deviation is 10. Learn more about Normal Data Distribution in our Machine Learning Tutorial.\n",
    "\n",
    "Example\n",
    "\n",
    "A Normal Data Distribution by NumPy:"
   ]
  },
  {
   "cell_type": "code",
   "execution_count": 2,
   "metadata": {},
   "outputs": [
    {
     "name": "stdout",
     "output_type": "stream",
     "text": [
      "[171.94344163 184.05312015 178.84047324 173.45432065 178.75079122\n",
      " 170.0245087  188.7845899  176.70855847 168.63409998 176.24902734\n",
      " 175.00774379 175.37053632 172.16396193 173.39274212 177.48850379\n",
      " 159.33175685 177.33597915 175.2511557  167.49783031 165.63709904\n",
      " 172.3345857  177.80161571 188.78679478 165.27939733 159.2453218\n",
      " 163.73222307 162.27741242 163.32490653 160.72768444 164.3935824\n",
      " 169.15399049 158.49793023 173.50517523 176.49563328 175.82752869\n",
      " 171.16300832 186.01920399 175.3041369  163.20104049 181.41465835\n",
      " 172.48926666 175.75195277 160.43504864 166.16055335 149.5075866\n",
      " 170.85001461 184.41137269 145.83599728 165.83656381 155.93692613\n",
      " 167.89398347 173.80011974 166.95424153 153.82045661 170.9392533\n",
      " 150.55304139 179.38776149 161.98675302 181.10915746 186.03400695\n",
      " 168.41938357 162.85198442 166.77280449 163.69245358 164.12727013\n",
      " 177.82074538 163.85019775 194.8037516  185.13963849 172.48423034\n",
      " 182.38863684 158.09788993 153.78216132 169.06379904 179.19065601\n",
      " 161.46054681 183.09868735 172.80420971 165.83833554 153.53666927\n",
      " 160.44937251 164.60832905 182.4969761  180.36182479 166.68458964\n",
      " 159.32780881 174.38537767 185.48306943 165.18146229 160.88703093\n",
      " 162.06449926 162.80095927 160.23366416 181.35936286 169.05871395\n",
      " 158.17285685 177.28723529 139.52850658 177.03431745 171.35532949\n",
      " 153.83267406 167.33514467 164.38602879 169.61689911 183.18447665\n",
      " 160.84469673 186.90590799 165.3492731  184.66967532 174.28883998\n",
      " 167.36965937 160.64820784 179.47997969 146.6410119  160.30791442\n",
      " 155.79814981 165.33954905 159.12288155 168.97249017 166.97560788\n",
      " 177.94552412 156.2494399  159.46358388 167.69347111 163.70859125\n",
      " 158.2795893  177.9835396  158.53098944 156.43014935 179.90510936\n",
      " 169.77891273 161.71593336 186.62038185 168.03088537 166.12870098\n",
      " 171.24833641 138.59394597 185.92190491 179.19553483 173.93181271\n",
      " 170.03375563 154.36062894 153.20627133 176.597562   159.59493045\n",
      " 165.53246373 191.21939849 157.39206801 160.34166031 172.20407166\n",
      " 186.00899466 170.11577676 170.69399635 147.22405455 181.17676338\n",
      " 170.20665881 162.87147057 163.23998581 173.16566898 185.45912317\n",
      " 163.0501496  161.69400159 180.65059937 166.09626261 186.19190237\n",
      " 172.63098117 167.33128322 176.45502239 169.05321465 162.51536196\n",
      " 167.26539365 163.83982843 167.26150638 188.65960503 175.0443968\n",
      " 163.60710156 168.23084503 179.66308114 175.15780163 160.97517973\n",
      " 185.29538984 177.20204885 182.16325309 178.41757441 156.04989173\n",
      " 180.9246684  160.72282128 158.86649819 184.24813364 196.88120937\n",
      " 162.70658196 159.25933033 180.11775705 172.89037724 162.66952216\n",
      " 174.66566937 166.53082527 169.7919009  148.65411248 185.25856198\n",
      " 149.12253476 179.56483252 133.68336547 167.91807925 176.48858259\n",
      " 165.47673146 150.58795334 159.40054335 173.01055924 159.08127875\n",
      " 191.33893501 174.85084839 173.10285844 165.84622601 190.1460416\n",
      " 162.94526208 155.4599832  169.2764519  157.75678564 174.6272705\n",
      " 170.80866791 153.55928479 187.74116664 174.57149701 173.66376408\n",
      " 158.42770698 179.54091359 155.93461956 161.10651522 176.60941989\n",
      " 147.08013118 164.4115209  166.61535664 162.68054795 174.36139228\n",
      " 174.98183082 178.527014   163.32433888 159.45309573 169.93562053\n",
      " 188.20327694 163.99897767 170.63903651 161.47432455 167.95670701\n",
      " 171.49417098 180.58367253 176.49743709 170.69422391 174.24233671]\n"
     ]
    }
   ],
   "source": [
    "import numpy as np\n",
    "\n",
    "x = np.random.normal(170, 10, 250)\n",
    "\n",
    "print(x)"
   ]
  },
  {
   "cell_type": "markdown",
   "metadata": {},
   "source": [
    "The hist() function will read the array and produce a histogram:\n",
    "\n",
    "Example\n",
    "\n",
    "A simple histogram:"
   ]
  },
  {
   "cell_type": "code",
   "execution_count": 3,
   "metadata": {},
   "outputs": [
    {
     "data": {
      "image/png": "[encoded data removed]",
      "text/plain": [
       "<Figure size 432x288 with 1 Axes>"
      ]
     },
     "metadata": {
      "needs_background": "light"
     },
     "output_type": "display_data"
    }
   ],
   "source": [
    "import matplotlib.pyplot as plt\n",
    "import numpy as np\n",
    "\n",
    "x = np.random.normal(170, 10, 250)\n",
    "\n",
    "plt.hist(x)\n",
    "plt.show() "
   ]
  }
 ],
 "metadata": {
  "kernelspec": {
   "display_name": "Python 3",
   "language": "python",
   "name": "python3"
  },
  "language_info": {
   "codemirror_mode": {
    "name": "ipython",
    "version": 3
   },
   "file_extension": ".py",
   "mimetype": "text/x-python",
   "name": "python",
   "nbconvert_exporter": "python",
   "pygments_lexer": "ipython3",
   "version": "3.11.4"
  }
 },
 "nbformat": 4,
 "nbformat_minor": 2
}
