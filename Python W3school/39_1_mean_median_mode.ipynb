{
 "cells": [
  {
   "cell_type": "markdown",
   "metadata": {},
   "source": [
    "# Machine Learning - Mean Median Mode\n",
    "### Mean, Median, and Mode\n",
    "What can we learn from looking at a group of numbers?\n",
    "\n",
    "In Machine Learning (and in mathematics) there are often three values that interests us:\n",
    "\n",
    "Mean - The average value\n",
    "\n",
    "Median - The mid point value\n",
    "\n",
    "Mode - The most common value\n",
    "\n",
    "Example: We have registered the speed of 13 cars:\n",
    "\n",
    "speed = [99,86,87,88,111,86,103,87,94,78,77,85,86]\n",
    "\n",
    "What is the average, the middle, or the most common speed value?"
   ]
  },
  {
   "cell_type": "markdown",
   "metadata": {},
   "source": [
    "### Mean\n",
    "The mean value is the average value.\n",
    "\n",
    "To calculate the mean, find the sum of all values, and divide the sum by the number of values:\n",
    "\n",
    "(99+86+87+88+111+86+103+87+94+78+77+85+86) / 13 = 89.77\n",
    "\n",
    "The NumPy module has a method for this. Learn about the NumPy module in our NumPy Tutorial.\n",
    "\n",
    "Example\n",
    "Use the NumPy mean() method to find the average speed:"
   ]
  },
  {
   "cell_type": "code",
   "execution_count": 2,
   "metadata": {},
   "outputs": [
    {
     "data": {
      "text/plain": [
       "89.76923076923077"
      ]
     },
     "execution_count": 2,
     "metadata": {},
     "output_type": "execute_result"
    }
   ],
   "source": [
    "import numpy\n",
    "\n",
    "speed = [99,86,87,88,111,86,103,87,94,78,77,85,86]\n",
    "\n",
    "x = numpy.mean(speed)\n",
    "x"
   ]
  },
  {
   "cell_type": "markdown",
   "metadata": {},
   "source": [
    "### Median\n",
    "The median value is the value in the middle, after you have sorted all the values:\n",
    "\n",
    "77, 78, 85, 86, 86, 86, 87, 87, 88, 94, 99, 103, 111\n",
    "\n",
    "It is important that the numbers are sorted before you can find the median.\n",
    "\n",
    "The NumPy module has a method for this:\n",
    "\n",
    "Example\n",
    "\n",
    "Use the NumPy median() method to find the middle value:"
   ]
  },
  {
   "cell_type": "code",
   "execution_count": 3,
   "metadata": {},
   "outputs": [
    {
     "name": "stdout",
     "output_type": "stream",
     "text": [
      "87.0\n"
     ]
    }
   ],
   "source": [
    "import numpy\n",
    "\n",
    "speed = [99,86,87,88,111,86,103,87,94,78,77,85,86]\n",
    "\n",
    "x = numpy.median(speed)\n",
    "\n",
    "print(x)"
   ]
  },
  {
   "cell_type": "markdown",
   "metadata": {},
   "source": [
    "If there are two numbers in the middle, divide the sum of those numbers by two.\n",
    "\n",
    "77, 78, 85, 86, 86, 86, 87, 87, 94, 98, 99, 103\n",
    "\n",
    "(86 + 87) / 2 = 86.5\n",
    "\n",
    "Example\n",
    "\n",
    "Using the NumPy module:"
   ]
  },
  {
   "cell_type": "code",
   "execution_count": 7,
   "metadata": {},
   "outputs": [
    {
     "name": "stdout",
     "output_type": "stream",
     "text": [
      "86.5\n"
     ]
    }
   ],
   "source": [
    "import numpy\n",
    "\n",
    "speed = [99,86,87,88,86,103,87,94,78,77,85,86]\n",
    "\n",
    "x = numpy.median(speed)\n",
    "\n",
    "print(x)"
   ]
  },
  {
   "cell_type": "markdown",
   "metadata": {},
   "source": [
    "### Mode\n",
    "The Mode value is the value that appears the most number of times:\n",
    "\n",
    "99, 86, 87, 88, 111, 86, 103, 87, 94, 78, 77, 85, 86 = 86\n",
    "\n",
    "The SciPy module has a method for this. Learn about the SciPy module in our SciPy Tutorial.\n",
    "\n",
    "Example\n",
    "\n",
    "Use the SciPy mode() method to find the number that appears the most:\n"
   ]
  },
  {
   "cell_type": "code",
   "execution_count": 9,
   "metadata": {},
   "outputs": [
    {
     "name": "stdout",
     "output_type": "stream",
     "text": [
      "ModeResult(mode=86, count=3)\n"
     ]
    }
   ],
   "source": [
    "from scipy import stats\n",
    "speed = [99,86,87,88,111,86,103,87,94,78,77,85,86]\n",
    "\n",
    "x = stats.mode(speed)\n",
    "\n",
    "print(x)"
   ]
  },
  {
   "cell_type": "markdown",
   "metadata": {},
   "source": [
    "### Chapter Summary\n",
    "The Mean, Median, and Mode are techniques that are often used in Machine Learning, so it is important to understand the concept behind them."
   ]
  },
  {
   "cell_type": "code",
   "execution_count": null,
   "metadata": {},
   "outputs": [],
   "source": []
  }
 ],
 "metadata": {
  "kernelspec": {
   "display_name": "Python 3",
   "language": "python",
   "name": "python3"
  },
  "language_info": {
   "codemirror_mode": {
    "name": "ipython",
    "version": 3
   },
   "file_extension": ".py",
   "mimetype": "text/x-python",
   "name": "python",
   "nbconvert_exporter": "python",
   "pygments_lexer": "ipython3",
   "version": "3.11.4"
  }
 },
 "nbformat": 4,
 "nbformat_minor": 2
}
