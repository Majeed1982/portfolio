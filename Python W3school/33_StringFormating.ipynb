{
 "cells": [
  {
   "cell_type": "markdown",
   "metadata": {},
   "source": [
    "# String Formatting\n",
    "F-String was introduced in Python 3.6, and is now the preferred way of formatting strings.\n",
    "\n",
    "Before Python 3.6 we had to use the format() method.\n",
    "\n",
    "### F-Strings\n",
    "F-string allows you to format selected parts of a string.\n",
    "\n",
    "To specify a string as an f-string, simply put an f in front of the string literal, like this:\n",
    "\n",
    "Example\n",
    "\n",
    "Create an f-string:"
   ]
  },
  {
   "cell_type": "code",
   "execution_count": 1,
   "metadata": {},
   "outputs": [
    {
     "name": "stdout",
     "output_type": "stream",
     "text": [
      "The price is 49 dollars\n"
     ]
    }
   ],
   "source": [
    "txt = f\"The price is 49 dollars\"\n",
    "print(txt)"
   ]
  },
  {
   "cell_type": "markdown",
   "metadata": {},
   "source": [
    "Example\n",
    "\n",
    "Add a placeholder for the price variable:"
   ]
  },
  {
   "cell_type": "code",
   "execution_count": 2,
   "metadata": {},
   "outputs": [
    {
     "name": "stdout",
     "output_type": "stream",
     "text": [
      "The price is 59 dollars\n"
     ]
    }
   ],
   "source": [
    "price = 59\n",
    "txt = f\"The price is {price} dollars\"\n",
    "print(txt)"
   ]
  },
  {
   "cell_type": "markdown",
   "metadata": {},
   "source": [
    "A placeholder can also include a modifier to format the value.\n",
    "\n",
    "A modifier is included by adding a colon : followed by a legal formatting type, like .2f which means fixed point number with 2 decimals:\n",
    "\n",
    "Example\n",
    "\n",
    "Display the price with 2 decimals:"
   ]
  },
  {
   "cell_type": "code",
   "execution_count": 3,
   "metadata": {},
   "outputs": [
    {
     "name": "stdout",
     "output_type": "stream",
     "text": [
      "The price is 59.00 dollars\n"
     ]
    }
   ],
   "source": [
    "price = 59\n",
    "txt = f\"The price is {price:.2f} dollars\"\n",
    "print(txt)"
   ]
  },
  {
   "cell_type": "markdown",
   "metadata": {},
   "source": [
    "You can also format a value directly without keeping it in a variable:\n",
    "\n",
    "Example\n",
    "\n",
    "Display the value 95 with 2 decimals:"
   ]
  },
  {
   "cell_type": "code",
   "execution_count": 4,
   "metadata": {},
   "outputs": [
    {
     "name": "stdout",
     "output_type": "stream",
     "text": [
      "The price is 95.00 dollars\n"
     ]
    }
   ],
   "source": [
    "txt = f\"The price is {95:.2f} dollars\"\n",
    "print(txt)"
   ]
  },
  {
   "cell_type": "markdown",
   "metadata": {},
   "source": [
    "### Perform Operations in F-Strings\n",
    "You can perform Python operations inside the placeholders.\n",
    "\n",
    "You can do math operations:\n",
    "\n",
    "Example\n",
    "\n",
    "Perform a math operation in the placeholder, and return the result:"
   ]
  },
  {
   "cell_type": "code",
   "execution_count": 5,
   "metadata": {},
   "outputs": [
    {
     "name": "stdout",
     "output_type": "stream",
     "text": [
      "The price is 1180 dollars\n"
     ]
    }
   ],
   "source": [
    "txt = f\"The price is {20 * 59} dollars\"\n",
    "print(txt)"
   ]
  },
  {
   "cell_type": "markdown",
   "metadata": {},
   "source": [
    "### You can perform math operations on variables:\n",
    "\n",
    "Example\n",
    "\n",
    "Add taxes before displaying the price:"
   ]
  },
  {
   "cell_type": "code",
   "execution_count": 6,
   "metadata": {},
   "outputs": [
    {
     "name": "stdout",
     "output_type": "stream",
     "text": [
      "The price is 73.75 dollars\n"
     ]
    }
   ],
   "source": [
    "price = 59\n",
    "tax = 0.25\n",
    "txt = f\"The price is {price + (price * tax)} dollars\"\n",
    "print(txt)"
   ]
  },
  {
   "cell_type": "markdown",
   "metadata": {},
   "source": [
    "### You can perform if...else statements inside the placeholders:\n",
    "\n",
    "Example\n",
    "\n",
    "Return \"Expensive\" if the price is over 50, otherwise return \"Cheap\":"
   ]
  },
  {
   "cell_type": "code",
   "execution_count": 7,
   "metadata": {},
   "outputs": [
    {
     "name": "stdout",
     "output_type": "stream",
     "text": [
      "It is very Cheap\n"
     ]
    }
   ],
   "source": [
    "price = 49\n",
    "txt = f\"It is very {'Expensive' if price>50 else 'Cheap'}\"\n",
    "\n",
    "print(txt)"
   ]
  },
  {
   "cell_type": "markdown",
   "metadata": {},
   "source": [
    "### Execute Functions in F-Strings\n",
    "You can execute functions inside the placeholder:\n",
    "\n",
    "Use the string method upper()to convert a value into upper case letters:"
   ]
  },
  {
   "cell_type": "code",
   "execution_count": 8,
   "metadata": {},
   "outputs": [
    {
     "name": "stdout",
     "output_type": "stream",
     "text": [
      "I love APPLES\n"
     ]
    }
   ],
   "source": [
    "fruit = \"apples\"\n",
    "txt = f\"I love {fruit.upper()}\"\n",
    "print(txt)"
   ]
  },
  {
   "cell_type": "markdown",
   "metadata": {},
   "source": [
    "### The function does not have to be a built-in Python method, you can create your own functions and use them:\n",
    "\n",
    "Example\n",
    "\n",
    "Create a function that converts feet into meters:"
   ]
  },
  {
   "cell_type": "code",
   "execution_count": 9,
   "metadata": {},
   "outputs": [
    {
     "name": "stdout",
     "output_type": "stream",
     "text": [
      "The plane is flying at a 9144.0 meter altitude\n"
     ]
    }
   ],
   "source": [
    "def myconverter(x):\n",
    "  return x * 0.3048\n",
    "\n",
    "txt = f\"The plane is flying at a {myconverter(30000)} meter altitude\"\n",
    "print(txt)"
   ]
  },
  {
   "cell_type": "markdown",
   "metadata": {},
   "source": [
    "### More Modifiers\n",
    "At the beginning of this chapter we explained how to use the .2f modifier to format a number into a fixed point number with 2 decimals.\n",
    "\n",
    "There are several other modifiers that can be used to format values:\n",
    "\n",
    "Example\n",
    "\n",
    "Use a comma as a thousand separator:"
   ]
  },
  {
   "cell_type": "code",
   "execution_count": 10,
   "metadata": {},
   "outputs": [
    {
     "name": "stdout",
     "output_type": "stream",
     "text": [
      "The price is 59,000 dollars\n"
     ]
    }
   ],
   "source": [
    "price = 59000\n",
    "txt = f\"The price is {price:,} dollars\"\n",
    "print(txt)"
   ]
  },
  {
   "cell_type": "markdown",
   "metadata": {},
   "source": [
    "### Here is a list of all the formatting types.\n",
    "\n",
    "Formatting Types\n",
    "\n",
    ":<\t\tLeft aligns the result (within the available space)\n",
    "\n",
    ":>\t\tRight aligns the result (within the available space)\n",
    "\n",
    ":^\t\tCenter aligns the result (within the available space)\n",
    "\n",
    ":=\t\tPlaces the sign to the left most position\n",
    "\n",
    ":+\t\tUse a plus sign to indicate if the result is positive or negative\n",
    "\n",
    ":-\t\tUse a minus sign for negative values only\n",
    "\n",
    ": \t\tUse a space to insert an extra space before positive numbers (and a minus sign before negative numbers)\n",
    "\n",
    ":,\t\tUse a comma as a thousand separator\n",
    "\n",
    ":_\t\tUse a underscore as a thousand separator\n",
    "\n",
    ":b\t\tBinary format\n",
    "\n",
    ":c\t\tConverts the value into the corresponding Unicode character\n",
    "\n",
    ":d\t\tDecimal format\n",
    "\n",
    ":e\t\tScientific format, with a lower case e\n",
    "\n",
    ":E\t\tScientific format, with an upper case E\n",
    "\n",
    ":f\t\tFix point number format\n",
    "\n",
    ":F\t\tFix point number format, in uppercase format (show inf and nan as INF and NAN)\n",
    "\n",
    ":g\t\tGeneral format\n",
    "\n",
    ":G\t\tGeneral format (using a upper case E for scientific notations)\n",
    "\n",
    ":o\t\tOctal format\n",
    "\n",
    ":x\t\tHex format, lower case\n",
    "\n",
    ":X\t\tHex format, upper case\n",
    "\n",
    ":n\t\tNumber format\n",
    "\n",
    ":%\t\tPercentage format\n"
   ]
  },
  {
   "cell_type": "code",
   "execution_count": 1,
   "metadata": {},
   "outputs": [
    {
     "name": "stdout",
     "output_type": "stream",
     "text": [
      "We have 49       chickens.\n"
     ]
    }
   ],
   "source": [
    "# :<\t\tLeft aligns the result (within the available space)\n",
    "#To demonstrate, we insert the number 8 to set the available space for the value\n",
    "# to 8 characters.\n",
    "\n",
    "#Use \"<\" to left-align the value:\n",
    "\n",
    "txt = f\"We have {49:<8} chickens.\"\n",
    "print(txt)\n"
   ]
  },
  {
   "cell_type": "code",
   "execution_count": 2,
   "metadata": {},
   "outputs": [
    {
     "name": "stdout",
     "output_type": "stream",
     "text": [
      "We have       49 chickens.\n"
     ]
    }
   ],
   "source": [
    "# :>\t\tRight aligns the result (within the available space)\n",
    "#To demonstrate, we insert the number 8 to set the available space for the value to 8 characters.\n",
    "\n",
    "#Use \">\" to right-align the value:\n",
    "\n",
    "txt = f\"We have {49:>8} chickens.\"\n",
    "print(txt)"
   ]
  },
  {
   "cell_type": "code",
   "execution_count": 3,
   "metadata": {},
   "outputs": [
    {
     "name": "stdout",
     "output_type": "stream",
     "text": [
      "We have    49    chickens.\n"
     ]
    }
   ],
   "source": [
    "# :^\t\tCenter aligns the result (within the available space)\n",
    "#To demonstrate, we insert the number 8 to set the available space for the value to 8 characters.\n",
    "\n",
    "#Use \"^\" to center-align the value:\n",
    "\n",
    "txt = f\"We have {49:^8} chickens.\"\n",
    "print(txt)"
   ]
  },
  {
   "cell_type": "code",
   "execution_count": 4,
   "metadata": {},
   "outputs": [
    {
     "name": "stdout",
     "output_type": "stream",
     "text": [
      "The temperature is -      5 degrees celsius.\n"
     ]
    }
   ],
   "source": [
    "# :=\t\tPlaces the sign to the left most position\n",
    "#To demonstrate, we insert the number 8 to specify the available space \n",
    "# for the value.\n",
    "\n",
    "#Use \"=\" to place the plus/minus sign at the left most position:\n",
    "\n",
    "txt = f\"The temperature is {-5:=8} degrees celsius.\"\n",
    "\n",
    "print(txt)"
   ]
  },
  {
   "cell_type": "code",
   "execution_count": 5,
   "metadata": {},
   "outputs": [
    {
     "name": "stdout",
     "output_type": "stream",
     "text": [
      "The temperature is between -3 and +7 degrees celsius.\n"
     ]
    }
   ],
   "source": [
    "# :+\t\tUse a plus sign to indicate if the result is positive or negative\n",
    "#Use \"+\" to always indicate if the number is positive or negative:\n",
    "\n",
    "txt = f\"The temperature is between {-3:+} and {7:+} degrees celsius.\"\n",
    "\n",
    "print(txt)"
   ]
  },
  {
   "cell_type": "code",
   "execution_count": 6,
   "metadata": {},
   "outputs": [
    {
     "name": "stdout",
     "output_type": "stream",
     "text": [
      "The temperature is between -3 and 7 degrees celsius.\n"
     ]
    }
   ],
   "source": [
    "# :-\t\tUse a minus sign for negative values only\n",
    "#Use \"-\" to always indicate if the number is negative \n",
    "# (positive numbers are displayed without any sign):\n",
    "\n",
    "txt = f\"The temperature is between {-3:-} and {7:-} degrees celsius.\"\n",
    "\n",
    "print(txt)"
   ]
  },
  {
   "cell_type": "code",
   "execution_count": 7,
   "metadata": {},
   "outputs": [
    {
     "name": "stdout",
     "output_type": "stream",
     "text": [
      "The temperature is between -3 and  7 degrees celsius.\n"
     ]
    }
   ],
   "source": [
    "# : \t\tUse a space to insert an extra space before positive numbers \n",
    "# (and a minus sign before negative numbers)\n",
    "#Use \" \" (a space) to insert a space before positive numbers and a minus sign \n",
    "# before negative numbers:\n",
    "\n",
    "txt = f\"The temperature is between {-3: } and {7: } degrees celsius.\"\n",
    "\n",
    "print(txt)\n"
   ]
  },
  {
   "cell_type": "code",
   "execution_count": 8,
   "metadata": {},
   "outputs": [
    {
     "name": "stdout",
     "output_type": "stream",
     "text": [
      "The universe is 13,800,000,000 years old.\n"
     ]
    }
   ],
   "source": [
    "# :,\t\tUse a comma as a thousand separator\n",
    "#Use \",\" to add a comma as a thousand separator:\n",
    "\n",
    "txt = f\"The universe is {13800000000:,} years old.\"\n",
    "\n",
    "print(txt)"
   ]
  },
  {
   "cell_type": "code",
   "execution_count": 9,
   "metadata": {},
   "outputs": [
    {
     "name": "stdout",
     "output_type": "stream",
     "text": [
      "The universe is 13_800_000_000 years old.\n"
     ]
    }
   ],
   "source": [
    "# :_\t\tUse a underscore as a thousand separato\n",
    "#Use \"_\" to add a underscore character as a thousand separator:\n",
    "\n",
    "txt = f\"The universe is {13800000000:_} years old.\"\n",
    "\n",
    "print(txt)"
   ]
  },
  {
   "cell_type": "code",
   "execution_count": 10,
   "metadata": {},
   "outputs": [
    {
     "name": "stdout",
     "output_type": "stream",
     "text": [
      "The binary version of 5 is 101\n"
     ]
    }
   ],
   "source": [
    "# :b\t\tBinary format\n",
    "#Use \"b\" to convert the number into binary format:\n",
    "\n",
    "txt = f\"The binary version of 5 is {5:b}\"\n",
    "\n",
    "print(txt)"
   ]
  },
  {
   "cell_type": "code",
   "execution_count": 12,
   "metadata": {},
   "outputs": [],
   "source": [
    "# :c\t\tConverts the value into the corresponding Unicode character\n"
   ]
  },
  {
   "cell_type": "code",
   "execution_count": 13,
   "metadata": {},
   "outputs": [
    {
     "name": "stdout",
     "output_type": "stream",
     "text": [
      "We have 5 chickens.\n"
     ]
    }
   ],
   "source": [
    "# :d\t\tDecimal format\n",
    "#Use \"d\" to convert a number, in this case a binary number, into decimal number format:\n",
    "\n",
    "txt = f\"We have {0b101:d} chickens.\"\n",
    "\n",
    "print(txt)"
   ]
  },
  {
   "cell_type": "code",
   "execution_count": 14,
   "metadata": {},
   "outputs": [
    {
     "name": "stdout",
     "output_type": "stream",
     "text": [
      "We have 5.000000e+00 chickens.\n"
     ]
    }
   ],
   "source": [
    "# :e\t\tScientific format, with a lower case e\n",
    "#Use \"e\" to convert a number into scientific number format (with a lower-case e):\n",
    "\n",
    "txt = f\"We have {5:e} chickens.\"\n",
    "\n",
    "print(txt)"
   ]
  },
  {
   "cell_type": "code",
   "execution_count": 15,
   "metadata": {},
   "outputs": [
    {
     "name": "stdout",
     "output_type": "stream",
     "text": [
      "We have 5.000000E+00 chickens.\n"
     ]
    }
   ],
   "source": [
    "# :E\t\tScientific format, with an upper case E\n",
    "#Use \"E\" to convert a number into scientific number format (with an upper-case E):\n",
    "\n",
    "txt = f\"We have {5:E} chickens.\"\n",
    "\n",
    "print(txt)"
   ]
  },
  {
   "cell_type": "code",
   "execution_count": 16,
   "metadata": {},
   "outputs": [
    {
     "name": "stdout",
     "output_type": "stream",
     "text": [
      "The price is 45.00 dollars.\n",
      "The price is 45.000000 dollars.\n"
     ]
    }
   ],
   "source": [
    "# :f\t\tFix point number format\n",
    "#Use \"f\" to convert a number into a fixed point number, default with 6 decimals, \n",
    "# but use a period followed by a number to specify the number of decimals:\n",
    "\n",
    "txt = f\"The price is {45:.2f} dollars.\"\n",
    "print(txt)\n",
    "\n",
    "#without the \".2\" inside the placeholder, this number will be displayed like this:\n",
    "\n",
    "txt = f\"The price is {45:f} dollars.\"\n",
    "print(txt)\n"
   ]
  },
  {
   "cell_type": "code",
   "execution_count": 17,
   "metadata": {},
   "outputs": [
    {
     "name": "stdout",
     "output_type": "stream",
     "text": [
      "The price is INF dollars.\n",
      "The price is inf dollars.\n"
     ]
    }
   ],
   "source": [
    "# :F\t\tFix point number format, in uppercase format (show inf and nan as INF and NAN)\n",
    "#Use \"F\" to convert a number into a fixed point number, but display inf and nan as INF and NAN:\n",
    "\n",
    "x = float('inf')\n",
    "\n",
    "txt = f\"The price is {x:F} dollars.\"\n",
    "print(txt)\n",
    "\n",
    "#same example, but with a lower case f:\n",
    "\n",
    "txt = f\"The price is {x:f} dollars.\"\n",
    "print(txt)\n"
   ]
  },
  {
   "cell_type": "code",
   "execution_count": 18,
   "metadata": {},
   "outputs": [],
   "source": [
    "\n",
    "# :g\t\tGeneral format"
   ]
  },
  {
   "cell_type": "code",
   "execution_count": 19,
   "metadata": {},
   "outputs": [],
   "source": [
    "\n",
    "# :G\t\tGeneral format (using a upper case E for scientific notations)"
   ]
  },
  {
   "cell_type": "code",
   "execution_count": 20,
   "metadata": {},
   "outputs": [
    {
     "name": "stdout",
     "output_type": "stream",
     "text": [
      "The octal version of 10 is 12\n"
     ]
    }
   ],
   "source": [
    "# :o\t\tOctal format\n",
    "#Use \"o\" to convert the number into octal format:\n",
    "\n",
    "txt = f\"The octal version of 10 is {10:o}\"\n",
    "\n",
    "print(txt)\n"
   ]
  },
  {
   "cell_type": "code",
   "execution_count": 21,
   "metadata": {},
   "outputs": [
    {
     "name": "stdout",
     "output_type": "stream",
     "text": [
      "The Hexadecimal version of 255 is ff\n"
     ]
    }
   ],
   "source": [
    "# :x\t\tHex format, lower case\n",
    "#Use \"x\" to convert the number into Hex format:\n",
    "\n",
    "txt = f\"The Hexadecimal version of 255 is {255:x}\"\n",
    "\n",
    "print(txt)"
   ]
  },
  {
   "cell_type": "code",
   "execution_count": 22,
   "metadata": {},
   "outputs": [
    {
     "name": "stdout",
     "output_type": "stream",
     "text": [
      "The Hexadecimal version of 255 is FF\n"
     ]
    }
   ],
   "source": [
    "# :X\t\tHex format, upper case\n",
    "#Use \"X\" to convert the number into upper-case Hex format:\n",
    "\n",
    "txt = f\"The Hexadecimal version of 255 is {255:X}\"\n",
    "\n",
    "print(txt)"
   ]
  },
  {
   "cell_type": "code",
   "execution_count": 23,
   "metadata": {},
   "outputs": [],
   "source": [
    "# :n\t\tNumber format"
   ]
  },
  {
   "cell_type": "code",
   "execution_count": 24,
   "metadata": {},
   "outputs": [
    {
     "name": "stdout",
     "output_type": "stream",
     "text": [
      "You scored 25.000000%\n",
      "You scored 25%\n"
     ]
    }
   ],
   "source": [
    "# :%\t\tPercentage format\n",
    "#Use \"%\" to convert the number into a percentage format:\n",
    "\n",
    "txt = f\"You scored {0.25:%}\"\n",
    "print(txt)\n",
    "\n",
    "#Or, without any decimals:\n",
    "\n",
    "txt = f\"You scored {0.25:.0%}\"\n",
    "print(txt)\n"
   ]
  },
  {
   "cell_type": "markdown",
   "metadata": {},
   "source": [
    "### String format()\n",
    "Before Python 3.6 we used the format() method to format strings.\n",
    "\n",
    "The format() method can still be used, but f-strings are faster and the preferred way to format strings.\n",
    "\n",
    "The next examples in this page demonstrates how to format strings with the format() method.\n",
    "\n",
    "The format() method also uses curly brackets as placeholders {}, but the syntax is slightly different:\n",
    "\n",
    "Example\n",
    "\n",
    "Add a placeholder where you want to display the price:\n"
   ]
  },
  {
   "cell_type": "code",
   "execution_count": 25,
   "metadata": {},
   "outputs": [
    {
     "name": "stdout",
     "output_type": "stream",
     "text": [
      "The price is 49 dollars\n"
     ]
    }
   ],
   "source": [
    "price = 49\n",
    "txt = \"The price is {} dollars\"\n",
    "print(txt.format(price))"
   ]
  },
  {
   "cell_type": "markdown",
   "metadata": {},
   "source": [
    "You can add parameters inside the curly brackets to specify how to convert the value:\n",
    "\n",
    "Example\n",
    "\n",
    "Format the price to be displayed as a number with two decimals:"
   ]
  },
  {
   "cell_type": "code",
   "execution_count": 26,
   "metadata": {},
   "outputs": [],
   "source": [
    "txt = \"The price is {:.2f} dollars\""
   ]
  },
  {
   "cell_type": "markdown",
   "metadata": {},
   "source": [
    "### Multiple Values\n",
    "If you want to use more values, just add more values to the format() method:"
   ]
  },
  {
   "cell_type": "code",
   "execution_count": 28,
   "metadata": {},
   "outputs": [],
   "source": [
    "# print(txt.format(price, itemno, count))"
   ]
  },
  {
   "cell_type": "markdown",
   "metadata": {},
   "source": [
    "And add more placeholders:\n",
    "\n",
    "Example\n",
    "quantity = 3\n",
    "itemno = 567\n",
    "price = 49\n",
    "myorder = \"I want {} pieces of item number {} for {:.2f} dollars.\"\n",
    "print(myorder.format(quantity, itemno, price))"
   ]
  },
  {
   "cell_type": "markdown",
   "metadata": {},
   "source": [
    "And add more placeholders:\n",
    "\n",
    "Example"
   ]
  },
  {
   "cell_type": "code",
   "execution_count": 29,
   "metadata": {},
   "outputs": [
    {
     "name": "stdout",
     "output_type": "stream",
     "text": [
      "I want 3 pieces of item number 567 for 49.00 dollars.\n"
     ]
    }
   ],
   "source": [
    "quantity = 3\n",
    "itemno = 567\n",
    "price = 49\n",
    "myorder = \"I want {} pieces of item number {} for {:.2f} dollars.\"\n",
    "print(myorder.format(quantity, itemno, price))"
   ]
  },
  {
   "cell_type": "markdown",
   "metadata": {},
   "source": [
    "### Index Numbers\n",
    "You can use index numbers (a number inside the curly brackets {0}) to be sure the values are placed in the correct placeholders:\n",
    "\n",
    "Example"
   ]
  },
  {
   "cell_type": "code",
   "execution_count": 30,
   "metadata": {},
   "outputs": [
    {
     "name": "stdout",
     "output_type": "stream",
     "text": [
      "I want 3 pieces of item number 567 for 49.00 dollars.\n"
     ]
    }
   ],
   "source": [
    "quantity = 3\n",
    "itemno = 567\n",
    "price = 49\n",
    "myorder = \"I want {0} pieces of item number {1} for {2:.2f} dollars.\"\n",
    "print(myorder.format(quantity, itemno, price))\n"
   ]
  },
  {
   "cell_type": "markdown",
   "metadata": {},
   "source": [
    "Also, if you want to refer to the same value more than once, use the index number:\n",
    "\n",
    "Example"
   ]
  },
  {
   "cell_type": "code",
   "execution_count": 31,
   "metadata": {},
   "outputs": [
    {
     "name": "stdout",
     "output_type": "stream",
     "text": [
      "His name is John. John is 36 years old.\n"
     ]
    }
   ],
   "source": [
    "age = 36\n",
    "name = \"John\"\n",
    "txt = \"His name is {1}. {1} is {0} years old.\"\n",
    "print(txt.format(age, name))"
   ]
  },
  {
   "cell_type": "markdown",
   "metadata": {},
   "source": [
    "### Named Indexes\n",
    "You can also use named indexes by entering a name inside the curly brackets {carname}, but then you must use names when you pass the parameter values txt.format(carname = \"Ford\"):\n",
    "\n",
    "Example"
   ]
  },
  {
   "cell_type": "code",
   "execution_count": 32,
   "metadata": {},
   "outputs": [
    {
     "name": "stdout",
     "output_type": "stream",
     "text": [
      "I have a Ford, it is a Mustang.\n"
     ]
    }
   ],
   "source": [
    "myorder = \"I have a {carname}, it is a {model}.\"\n",
    "print(myorder.format(carname = \"Ford\", model = \"Mustang\"))"
   ]
  }
 ],
 "metadata": {
  "kernelspec": {
   "display_name": "Python 3",
   "language": "python",
   "name": "python3"
  },
  "language_info": {
   "codemirror_mode": {
    "name": "ipython",
    "version": 3
   },
   "file_extension": ".py",
   "mimetype": "text/x-python",
   "name": "python",
   "nbconvert_exporter": "python",
   "pygments_lexer": "ipython3",
   "version": "3.11.4"
  }
 },
 "nbformat": 4,
 "nbformat_minor": 2
}
