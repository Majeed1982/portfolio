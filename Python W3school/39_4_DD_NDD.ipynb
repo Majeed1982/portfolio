{
 "cells": [
  {
   "cell_type": "markdown",
   "metadata": {},
   "source": [
    "# Machine Learning - Data Distribution\n",
    "### Data Distribution\n",
    "Earlier in this tutorial we have worked with very small amounts of data in our examples, just to understand the different concepts.\n",
    "\n",
    "In the real world, the data sets are much bigger, but it can be difficult to gather real world data, at least at an early stage of a project."
   ]
  },
  {
   "cell_type": "markdown",
   "metadata": {},
   "source": [
    "### How Can we Get Big Data Sets?\n",
    "To create big data sets for testing, we use the Python module NumPy, which comes with a number of methods to create random data sets, of any size.\n",
    "\n",
    "ExampleGet your own Python Server\n",
    "Create an array containing 250 random floats between 0 and 5:"
   ]
  },
  {
   "cell_type": "code",
   "execution_count": 1,
   "metadata": {},
   "outputs": [
    {
     "name": "stdout",
     "output_type": "stream",
     "text": [
      "[1.92149592e+00 4.50403422e+00 2.41634847e+00 3.26227954e+00\n",
      " 1.78164358e-01 2.03280361e-02 4.83278936e+00 1.96468737e+00\n",
      " 4.43866419e+00 2.65323309e+00 2.71206963e+00 2.07534557e+00\n",
      " 1.55306371e+00 1.15541222e+00 4.66691034e+00 3.17961367e+00\n",
      " 1.06720578e+00 2.81440490e+00 7.95671390e-01 1.96938971e+00\n",
      " 2.09034719e+00 1.05387352e+00 1.67981070e+00 1.79174637e+00\n",
      " 4.13674710e+00 1.93562759e+00 8.43790557e-01 3.70435582e-01\n",
      " 2.16276462e+00 2.74126458e+00 1.83087685e+00 1.67731400e+00\n",
      " 7.55886120e-01 3.59223272e+00 3.78261787e+00 9.49081395e-01\n",
      " 3.70566015e+00 4.54304369e-02 4.73965311e+00 1.72813309e+00\n",
      " 1.63076507e+00 2.19060439e+00 4.51703877e+00 3.17568013e+00\n",
      " 2.29814944e+00 2.04463414e+00 2.05757473e+00 8.05532024e-01\n",
      " 1.08362915e+00 2.46062449e+00 2.73141669e+00 9.53118292e-01\n",
      " 4.61108547e-01 3.27308182e+00 4.24094634e+00 4.29788728e+00\n",
      " 4.47825382e+00 3.14530170e+00 3.52900148e+00 4.15384668e+00\n",
      " 4.30451286e+00 4.16503800e-01 1.11666940e+00 1.96725613e+00\n",
      " 1.15126807e+00 4.58378415e+00 2.99762911e+00 1.28509957e+00\n",
      " 2.35828966e+00 3.38372336e+00 1.31792330e+00 1.45115232e+00\n",
      " 2.70466454e+00 2.60337941e+00 1.74158507e+00 2.58972855e+00\n",
      " 3.17854491e+00 3.77405817e+00 2.31179590e+00 2.07906895e+00\n",
      " 1.86119770e-01 4.34090815e+00 1.00812315e+00 6.07724814e-02\n",
      " 6.38620231e-01 8.18307923e-01 5.88736843e-02 2.06144530e+00\n",
      " 1.60377650e+00 4.61544605e+00 3.89085352e+00 2.92597114e+00\n",
      " 2.17430305e+00 4.06283817e+00 4.05277409e+00 2.98899410e+00\n",
      " 3.99987263e+00 1.75122432e+00 3.28321517e+00 2.31012119e+00\n",
      " 3.36049197e+00 4.73654997e+00 4.40485291e+00 5.14272403e-01\n",
      " 1.62866681e+00 2.86129554e+00 8.92262067e-02 1.29637670e+00\n",
      " 2.16791723e+00 3.76924536e+00 4.48455916e+00 1.45679995e+00\n",
      " 3.43452830e+00 1.04554074e+00 9.88338666e-01 1.34219252e+00\n",
      " 1.44472879e+00 4.74603654e+00 4.18936439e+00 3.95216342e+00\n",
      " 2.07344273e+00 3.35791058e+00 2.64685643e+00 2.02702875e+00\n",
      " 1.31463897e+00 2.09755249e+00 1.38375812e+00 2.82831322e+00\n",
      " 2.40034141e+00 1.37694414e+00 2.98798282e+00 3.49942895e+00\n",
      " 2.07521427e+00 2.36868629e+00 1.02790144e+00 1.27263687e-02\n",
      " 4.79819256e+00 4.71883847e+00 4.39695838e+00 2.43548997e+00\n",
      " 4.03209998e+00 3.69750561e+00 3.40898182e+00 2.21118552e+00\n",
      " 3.60140733e+00 8.38996849e-01 3.02284868e+00 1.76070349e+00\n",
      " 1.07975276e+00 4.20813741e+00 3.81837339e+00 4.26307907e+00\n",
      " 2.17254842e+00 3.79923140e-01 1.84311432e-03 3.00351708e+00\n",
      " 4.99158292e+00 2.37812259e+00 3.52414156e+00 2.36048696e+00\n",
      " 3.45322145e+00 3.62574531e+00 3.58702861e-01 3.94746300e+00\n",
      " 3.92405457e+00 1.82966594e+00 5.28818790e-01 3.97480576e-01\n",
      " 1.56973613e+00 4.58127633e+00 6.40924695e-01 4.83317625e+00\n",
      " 2.31218521e+00 3.64896848e+00 3.05131963e+00 4.69319559e+00\n",
      " 1.25240358e+00 5.29820292e-01 3.79067247e+00 4.28324167e+00\n",
      " 2.84576838e+00 4.58245591e+00 8.89033195e-01 3.46046641e+00\n",
      " 3.08744931e+00 4.48910060e+00 3.11593173e+00 1.25293504e+00\n",
      " 3.23849963e+00 4.74968522e+00 1.37604885e+00 3.47894711e+00\n",
      " 6.73995763e-01 3.02399364e+00 9.00010194e-01 2.10223659e+00\n",
      " 4.52391506e+00 4.58479275e+00 4.79900622e+00 4.08570738e+00\n",
      " 7.77179132e-01 1.09355889e+00 9.18463891e-01 4.69328533e+00\n",
      " 2.34285281e+00 1.80973689e+00 3.86239525e+00 2.57578115e+00\n",
      " 2.21137541e-01 1.93828463e-01 4.52960101e+00 2.87617235e+00\n",
      " 4.59785829e+00 2.48410569e+00 4.48877148e-01 4.78803975e+00\n",
      " 1.32798917e+00 1.47821835e+00 4.55046463e+00 1.41473591e+00\n",
      " 2.66938990e+00 3.25261301e+00 3.24437591e+00 1.30674580e+00\n",
      " 1.52323280e-01 4.26118702e+00 2.39178310e+00 2.53590000e+00\n",
      " 2.20285821e+00 3.34484661e+00 4.41920524e+00 3.05225581e+00\n",
      " 2.80870773e+00 3.85849583e+00 4.38572055e-01 3.03470454e+00\n",
      " 4.12535018e+00 4.04784763e+00 3.56565433e+00 6.81962080e-01\n",
      " 4.15669283e+00 4.11941693e-01 4.11155143e+00 1.61471046e+00\n",
      " 4.04176533e+00 3.40773790e-01 3.45833417e+00 5.56305959e-01\n",
      " 1.06383616e+00 2.97488340e+00]\n"
     ]
    }
   ],
   "source": [
    "import numpy\n",
    "\n",
    "x = numpy.random.uniform(0.0, 5.0, 250)\n",
    "\n",
    "print(x)"
   ]
  },
  {
   "cell_type": "markdown",
   "metadata": {},
   "source": [
    "### Histogram\n",
    "To visualize the data set we can draw a histogram with the data we collected.\n",
    "\n",
    "We will use the Python module Matplotlib to draw a histogram.\n",
    "\n",
    "Learn about the Matplotlib module in our Matplotlib Tutorial.\n",
    "\n",
    "Example\n",
    "\n",
    "Draw a histogram:"
   ]
  },
  {
   "cell_type": "code",
   "execution_count": 2,
   "metadata": {},
   "outputs": [
    {
     "data": {
      "image/png": "[encoded data removed]",
      "text/plain": [
       "<Figure size 432x288 with 1 Axes>"
      ]
     },
     "metadata": {
      "needs_background": "light"
     },
     "output_type": "display_data"
    }
   ],
   "source": [
    "import numpy\n",
    "import matplotlib.pyplot as plt\n",
    "\n",
    "x = numpy.random.uniform(0.0, 5.0, 250)\n",
    "\n",
    "plt.hist(x, 5)\n",
    "plt.show()"
   ]
  },
  {
   "cell_type": "markdown",
   "metadata": {},
   "source": [
    "### Histogram Explained\n",
    "We use the array from the example above to draw a histogram with 5 bars.\n",
    "\n",
    "The first bar represents how many values in the array are between 0 and 1.\n",
    "\n",
    "The second bar represents how many values are between 1 and 2.\n",
    "\n",
    "Etc.\n",
    "\n",
    "Which gives us this result:\n",
    "\n",
    "58 values are between 0 and 1\n",
    "\n",
    "56 values are between 1 and 2\n",
    "\n",
    "38 values are between 2 and 3\n",
    "\n",
    "40 values are between 3 and 4\n",
    "\n",
    "58 values are between 4 and 5\n",
    "\n",
    "Note: The array values are random numbers and will not show the exact same result on your computer."
   ]
  },
  {
   "cell_type": "markdown",
   "metadata": {},
   "source": [
    "### Big Data Distributions\n",
    "An array containing 250 values is not considered very big, but now you know how to create a random set of values, and by changing the parameters, you can create the data set as big as you want.\n",
    "\n",
    "Example\n",
    "\n",
    "Create an array with 100000 random numbers, and display them using a histogram with 100 bars:"
   ]
  },
  {
   "cell_type": "code",
   "execution_count": 3,
   "metadata": {},
   "outputs": [
    {
     "data": {
      "image/png": "[encoded data removed]",
      "text/plain": [
       "<Figure size 432x288 with 1 Axes>"
      ]
     },
     "metadata": {
      "needs_background": "light"
     },
     "output_type": "display_data"
    }
   ],
   "source": [
    "import numpy\n",
    "import matplotlib.pyplot as plt\n",
    "\n",
    "x = numpy.random.uniform(0.0, 5.0, 100000)\n",
    "\n",
    "plt.hist(x, 100)\n",
    "plt.show()"
   ]
  },
  {
   "cell_type": "markdown",
   "metadata": {},
   "source": [
    "# Machine Learning - Normal Data Distribution\n",
    "### Normal Data Distribution\n",
    "In the previous chapter we learned how to create a completely random array, of a given size, and between two given values.\n",
    "\n",
    "In this chapter we will learn how to create an array where the values are concentrated around a given value.\n",
    "\n",
    "In probability theory this kind of data distribution is known as the normal data distribution, or the Gaussian data distribution, after the mathematician Carl Friedrich Gauss who came up with the formula of this data distribution.\n",
    "\n",
    "Example\n",
    "\n",
    "A typical normal data distribution:"
   ]
  },
  {
   "cell_type": "code",
   "execution_count": 1,
   "metadata": {},
   "outputs": [
    {
     "data": {
      "image/png": "[encoded data removed]",
      "text/plain": [
       "<Figure size 432x288 with 1 Axes>"
      ]
     },
     "metadata": {
      "needs_background": "light"
     },
     "output_type": "display_data"
    }
   ],
   "source": [
    "import numpy\n",
    "import matplotlib.pyplot as plt\n",
    "\n",
    "x = numpy.random.normal(5.0, 1.0, 100000)\n",
    "\n",
    "plt.hist(x, 100)\n",
    "plt.show()"
   ]
  },
  {
   "cell_type": "markdown",
   "metadata": {},
   "source": [
    "Note: A normal distribution graph is also known as the bell curve because of it's characteristic shape of a bell.\n",
    "\n",
    "### Histogram Explained\n",
    "We use the array from the numpy.random.normal() method, with 100000 values,  to draw a histogram with 100 bars.\n",
    "\n",
    "We specify that the mean value is 5.0, and the standard deviation is 1.0.\n",
    "\n",
    "Meaning that the values should be concentrated around 5.0, and rarely further away than 1.0 from the mean.\n",
    "\n",
    "And as you can see from the histogram, most values are between 4.0 and 6.0, with a top at approximately 5.0."
   ]
  }
 ],
 "metadata": {
  "kernelspec": {
   "display_name": "Python 3",
   "language": "python",
   "name": "python3"
  },
  "language_info": {
   "codemirror_mode": {
    "name": "ipython",
    "version": 3
   },
   "file_extension": ".py",
   "mimetype": "text/x-python",
   "name": "python",
   "nbconvert_exporter": "python",
   "pygments_lexer": "ipython3",
   "version": "3.11.4"
  }
 },
 "nbformat": 4,
 "nbformat_minor": 2
}
