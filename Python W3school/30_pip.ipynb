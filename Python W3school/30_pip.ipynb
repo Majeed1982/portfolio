{
 "cells": [
  {
   "cell_type": "markdown",
   "metadata": {},
   "source": [
    "# PIP\n",
    "### What is PIP?\n",
    "PIP is a package manager for Python packages, or modules if you like.\n",
    "\n",
    "Note: If you have Python version 3.4 or later, PIP is included by default.\n",
    "\n",
    "### What is a Package?\n",
    "A package contains all the files you need for a module.\n",
    "\n",
    "Modules are Python code libraries you can include in your project.\n",
    "\n",
    "Check if PIP is Installed\n",
    "\n",
    "Navigate your command line to the location of Python's script directory, and type the following:\n",
    "\n",
    "Example\n",
    "\n",
    "Check PIP version:\n",
    "\n",
    "C:\\Users\\Your Name\\AppData\\Local\\Programs\\Python\\Python36-32\\Scripts>pip --version\n",
    "\n",
    "### Install PIP\n",
    "If you do not have PIP installed, you can download and install it from this page: https://pypi.org/project/pip/\n",
    "\n",
    "### Download a Package\n",
    "Downloading a package is very easy.\n",
    "\n",
    "Open the command line interface and tell PIP to download the package you want.\n",
    "\n",
    "Navigate your command line to the location of Python's script directory, and type the following:\n",
    "\n",
    "Example\n",
    "\n",
    "Download a package named \"camelcase\":\n",
    "\n",
    "C:\\Users\\Your Name\\AppData\\Local\\Programs\\Python\\Python36-32\\Scripts>pip install camelcase\n",
    "\n",
    "write in cmd pip install camelcase then"
   ]
  },
  {
   "cell_type": "markdown",
   "metadata": {},
   "source": [
    "Using a Package\n",
    "Once the package is installed, it is ready to use.\n",
    "\n",
    "Import the \"camelcase\" package into your project.\n",
    "\n",
    "Example\n",
    "\n",
    "Import and use \"camelcase\":"
   ]
  },
  {
   "cell_type": "code",
   "execution_count": 1,
   "metadata": {},
   "outputs": [],
   "source": [
    "import camelcase"
   ]
  },
  {
   "cell_type": "code",
   "execution_count": 2,
   "metadata": {},
   "outputs": [
    {
     "name": "stdout",
     "output_type": "stream",
     "text": [
      "Hello World\n"
     ]
    }
   ],
   "source": [
    "c = camelcase.CamelCase()\n",
    "\n",
    "txt = \"hello world\"\n",
    "\n",
    "print(c.hump(txt))"
   ]
  },
  {
   "cell_type": "markdown",
   "metadata": {},
   "source": [
    "### Find Packages\n",
    "Find more packages at https://pypi.org/.\n",
    "\n",
    "### Remove a Package\n",
    "Use the uninstall command to remove a package:\n",
    "\n",
    "Example\n",
    "\n",
    "Uninstall the package named \"camelcase\":\n",
    "\n",
    "C:\\Users\\Your Name\\AppData\\Local\\Programs\\Python\\Python36-32\\Scripts>pip uninstall camelcase\n",
    "\n",
    "The PIP Package Manager will ask you to confirm that you want to remove the camelcase package:\n",
    "\n",
    "Uninstalling camelcase-02.1:\n",
    "\n",
    "  Would remove:\n",
    "\n",
    "    c:\\users\\Your \n",
    "\n",
    "    Name\\appdata\\local\\programs\\python\\python36-32\\lib\\site-packages\\camelcase-0.2-py3.6.egg-info\n",
    "\n",
    "    c:\\users\\Your \n",
    "\n",
    "    Name\\appdata\\local\\programs\\python\\python36-32\\lib\\site-packages\\camelcase\\*\n",
    "Proceed (y/n)?\n",
    "\n",
    "Press y and the package will be removed."
   ]
  },
  {
   "cell_type": "markdown",
   "metadata": {},
   "source": [
    "### List Packages\n",
    "Use the list command to list all the packages installed on your system:\n",
    "\n",
    "Example\n",
    "\n",
    "List installed packages:\n",
    "\n",
    "C:\\Users\\Your Name\\AppData\\Local\\Programs\\Python\\Python36-32\\Scripts>pip list\n",
    "Result:\n",
    "\n",
    "Package         Version\n",
    "\n",
    "-----------------------\n",
    "\n",
    "camelcase       0.2\n",
    "\n",
    "mysql-connector 2.1.6\n",
    "\n",
    "pip             18.1\n",
    "\n",
    "pymongo         3.6.1\n",
    "\n",
    "setuptools      39.0.1"
   ]
  },
  {
   "cell_type": "code",
   "execution_count": null,
   "metadata": {},
   "outputs": [],
   "source": []
  }
 ],
 "metadata": {
  "kernelspec": {
   "display_name": "Python 3",
   "language": "python",
   "name": "python3"
  },
  "language_info": {
   "codemirror_mode": {
    "name": "ipython",
    "version": 3
   },
   "file_extension": ".py",
   "mimetype": "text/x-python",
   "name": "python",
   "nbconvert_exporter": "python",
   "pygments_lexer": "ipython3",
   "version": "3.11.4"
  }
 },
 "nbformat": 4,
 "nbformat_minor": 2
}
