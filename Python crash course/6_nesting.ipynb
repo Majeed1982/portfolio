{
 "cells": [
  {
   "cell_type": "code",
   "execution_count": 3,
   "metadata": {},
   "outputs": [
    {
     "name": "stdout",
     "output_type": "stream",
     "text": [
      "{'color': 'green', 'points': 5}\n",
      "{'color': 'red', 'points': 10}\n",
      "{'color': 'yellow', 'points': 15}\n"
     ]
    }
   ],
   "source": [
    "# Nesting\n",
    "# to store multiple dictionaries in a list, or a list of \n",
    "# items as a value in a dictionary. This is called nesting\n",
    "user0 = {\"color\": \"green\", \"points\": 5}\n",
    "user1 = {\"color\": \"red\", \"points\": 10}\n",
    "user2 = {\"color\": \"yellow\", \"points\": 15}\n",
    "users = [user0, user1, user2]\n",
    "for user in users:\n",
    "    print(user)"
   ]
  },
  {
   "cell_type": "code",
   "execution_count": 1,
   "metadata": {},
   "outputs": [],
   "source": [
    "users = []\n",
    "for user_numbers in range(30):\n",
    "    neW_users = {\"color\": \"green\", \"points\": 10, \"speed\": \"low\"}\n",
    "    (users.append(neW_users))"
   ]
  },
  {
   "cell_type": "code",
   "execution_count": 2,
   "metadata": {},
   "outputs": [
    {
     "data": {
      "text/plain": [
       "[{'color': 'green', 'points': 10, 'speed': 'low'},\n",
       " {'color': 'green', 'points': 10, 'speed': 'low'},\n",
       " {'color': 'green', 'points': 10, 'speed': 'low'}]"
      ]
     },
     "execution_count": 2,
     "metadata": {},
     "output_type": "execute_result"
    }
   ],
   "source": [
    "users[:3]"
   ]
  },
  {
   "cell_type": "code",
   "execution_count": 3,
   "metadata": {},
   "outputs": [
    {
     "name": "stdout",
     "output_type": "stream",
     "text": [
      "{'color': 'green', 'points': 10, 'speed': 'low'}\n",
      "{'color': 'green', 'points': 10, 'speed': 'low'}\n",
      "{'color': 'green', 'points': 10, 'speed': 'low'}\n"
     ]
    }
   ],
   "source": [
    "for user in users[:3]:\n",
    "    print(user)"
   ]
  },
  {
   "cell_type": "code",
   "execution_count": 4,
   "metadata": {},
   "outputs": [],
   "source": [
    "for user in users[:2]:\n",
    "    if user[\"color\"] == \"green\":\n",
    "        user[\"color\"] = \"yellow\"\n",
    "        user[\"points\"] = 15\n",
    "        user[\"speed\"] = \"medium\""
   ]
  },
  {
   "cell_type": "code",
   "execution_count": 5,
   "metadata": {},
   "outputs": [
    {
     "name": "stdout",
     "output_type": "stream",
     "text": [
      "{'color': 'yellow', 'points': 15, 'speed': 'medium'}\n",
      "{'color': 'yellow', 'points': 15, 'speed': 'medium'}\n",
      "{'color': 'green', 'points': 10, 'speed': 'low'}\n"
     ]
    }
   ],
   "source": [
    "for user in users[:3]:\n",
    "    print(user)"
   ]
  },
  {
   "cell_type": "code",
   "execution_count": 6,
   "metadata": {},
   "outputs": [],
   "source": [
    "for user in users[:3]:\n",
    "    if user[\"color\"] == \"green\":\n",
    "        user[\"color\"] = \"red\"\n",
    "        user[\"points\"] = 20\n",
    "        user[\"speed\"] = \"high\"\n",
    "    elif user[\"color\"] == \"yellow\":\n",
    "        user[\"color\"] = \"purple\"\n",
    "        user[\"points\"] = 25\n",
    "        user[\"speed\"] = \"low\""
   ]
  },
  {
   "cell_type": "code",
   "execution_count": 10,
   "metadata": {},
   "outputs": [
    {
     "data": {
      "text/plain": [
       "[{'color': 'purple', 'points': 25, 'speed': 'low'},\n",
       " {'color': 'purple', 'points': 25, 'speed': 'low'},\n",
       " {'color': 'red', 'points': 20, 'speed': 'high'},\n",
       " {'color': 'green', 'points': 10, 'speed': 'low'},\n",
       " {'color': 'green', 'points': 10, 'speed': 'low'}]"
      ]
     },
     "execution_count": 10,
     "metadata": {},
     "output_type": "execute_result"
    }
   ],
   "source": [
    "users[:5]"
   ]
  },
  {
   "cell_type": "code",
   "execution_count": 37,
   "metadata": {},
   "outputs": [
    {
     "data": {
      "text/plain": [
       "{'ahmed': ['c plus'], 'sarah': ['python', 'r'], 'saleem': ['jawa']}"
      ]
     },
     "execution_count": 37,
     "metadata": {},
     "output_type": "execute_result"
    }
   ],
   "source": [
    "favourite_languages = {\"ahmed\": [\"c plus\"], \"sarah\": [\"python\", \"r\"], \"saleem\": [\"jawa\"],}\n",
    "favourite_languages"
   ]
  },
  {
   "cell_type": "code",
   "execution_count": 39,
   "metadata": {},
   "outputs": [
    {
     "name": "stdout",
     "output_type": "stream",
     "text": [
      "Ahmed's favourite language is ['c plus']\n",
      "Sarah's favourite language is ['python', 'r']\n",
      "Saleem's favourite language is ['jawa']\n"
     ]
    }
   ],
   "source": [
    "for name, languages in favourite_languages.items():\n",
    "    print(f\"{name.title()}'s favourite language is {languages}\")"
   ]
  },
  {
   "cell_type": "code",
   "execution_count": 46,
   "metadata": {},
   "outputs": [
    {
     "name": "stdout",
     "output_type": "stream",
     "text": [
      "\n",
      "Ahmed's favourite language is\n",
      "\tC Plus\n",
      "\n",
      "Sarah's favourite language is\n",
      "\tPython\n",
      "\tR\n",
      "\n",
      "Saleem's favourite language is\n",
      "\tJawa\n"
     ]
    }
   ],
   "source": [
    "for name, languages in favourite_languages.items():\n",
    "    print(f\"\\n{name.title()}'s favourite language is\")\n",
    "    for language in languages:\n",
    "        print(f\"\\t{language.title()}\")"
   ]
  },
  {
   "cell_type": "code",
   "execution_count": 59,
   "metadata": {},
   "outputs": [
    {
     "name": "stdout",
     "output_type": "stream",
     "text": [
      "Ahmed's favourite language is\n",
      "\tC Plus.\n",
      "\n",
      "Sarah's favourite languages are\n",
      "\tPython\n",
      "\tR\n",
      "Saleem's favourite language is\n",
      "\tJawa.\n"
     ]
    }
   ],
   "source": [
    "for name, languages in favourite_languages.items():\n",
    "        if len(languages) == 2:\n",
    "             print(f\"\\n{name.title()}'s favourite languages are\")\n",
    "             for language in languages:\n",
    "                    print(f\"\\t{language.title()}\")\n",
    "        else:\n",
    "               print(f\"{name.title()}'s favourite language is\")\n",
    "               for language in languages:\n",
    "                      print(f\"\\t{language.title()}.\")"
   ]
  },
  {
   "cell_type": "code",
   "execution_count": 9,
   "metadata": {},
   "outputs": [],
   "source": [
    "users = {\n",
    "    \"user1\": {\"first name\": \"ahmed\", \"second name\": \"ali\", \"city\": \"khipro\"},\n",
    "  \"user2\": {\"first name\": \"aslam\", \"second name\": \"khan\", \"city\": \"sangher\"},\n",
    "  \"user3\": {\"first name\": \"saleem\", \"second name\": \"muhammad\", \"city\": \"khahi\"}, \n",
    "}"
   ]
  },
  {
   "cell_type": "code",
   "execution_count": 15,
   "metadata": {},
   "outputs": [
    {
     "name": "stdout",
     "output_type": "stream",
     "text": [
      "\n",
      "user name: user1\n",
      "\tfull name: Ahmed Ali\n",
      "\tlocation: Khipro\n",
      "\n",
      "user name: user2\n",
      "\tfull name: Aslam Khan\n",
      "\tlocation: Sangher\n",
      "\n",
      "user name: user3\n",
      "\tfull name: Saleem Muhammad\n",
      "\tlocation: Khahi\n"
     ]
    }
   ],
   "source": [
    "for user_name, location in users.items():\n",
    "    print(f\"\\nuser name: {user_name}\")\n",
    "    full_name = f\"{location['first name']} {location['second name']}\"\n",
    "    location = f\"{location['city']}\"\n",
    "    print(f\"\\tfull name: {full_name.title()}\")\n",
    "    print(f\"\\tlocation: {location.title()}\")"
   ]
  },
  {
   "cell_type": "code",
   "execution_count": 1,
   "metadata": {},
   "outputs": [
    {
     "name": "stdout",
     "output_type": "stream",
     "text": [
      "{'color': 'red', 'height': 5, 'speed': 'low'}\n",
      "{'color': 'green', 'height': 57, 'speed': 'high'}\n"
     ]
    }
   ],
   "source": [
    "ahmed = {\"color\": \"red\", \"height\": 5, \"speed\": \"low\"}\n",
    "ali = {\"color\": \"green\", \"height\": 57, \"speed\": \"high\"}\n",
    "peoples = [ahmed, ali]\n",
    "for people in peoples:\n",
    "    print(people)"
   ]
  },
  {
   "cell_type": "code",
   "execution_count": 7,
   "metadata": {},
   "outputs": [
    {
     "name": "stdout",
     "output_type": "stream",
     "text": [
      "Ahmed's favirite palce is : khipro\n",
      "Ali's favirite palce is : sanghar\n",
      "Samad's favirite palce is : khahi\n"
     ]
    }
   ],
   "source": [
    "favourite_places = {\"ahmed\": \"khipro\", \"ali\": \"sanghar\", \"samad\": \"khahi\"}\n",
    "for name, palce in favourite_places.items():\n",
    "    print(f\"{name.title()}'s favirite palce is : {palce}\")\n"
   ]
  }
 ],
 "metadata": {
  "kernelspec": {
   "display_name": "Python 3",
   "language": "python",
   "name": "python3"
  },
  "language_info": {
   "codemirror_mode": {
    "name": "ipython",
    "version": 3
   },
   "file_extension": ".py",
   "mimetype": "text/x-python",
   "name": "python",
   "nbconvert_exporter": "python",
   "pygments_lexer": "ipython3",
   "version": "3.11.4"
  }
 },
 "nbformat": 4,
 "nbformat_minor": 2
}
