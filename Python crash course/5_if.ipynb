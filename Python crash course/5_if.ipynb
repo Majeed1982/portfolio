{
 "cells": [
  {
   "cell_type": "code",
   "execution_count": 4,
   "metadata": {},
   "outputs": [
    {
     "name": "stdout",
     "output_type": "stream",
     "text": [
      "ALTO\n",
      "Sivix\n",
      "Mehran\n",
      "Alts\n"
     ]
    }
   ],
   "source": [
    "cars = [\"alto\", \"sivix\", \"mehran\", \"alts\"]\n",
    "for car in cars:\n",
    "    if car == \"alto\":\n",
    "        print(car.upper())\n",
    "    else:\n",
    "        print(car.title())"
   ]
  },
  {
   "cell_type": "code",
   "execution_count": 7,
   "metadata": {},
   "outputs": [
    {
     "name": "stdout",
     "output_type": "stream",
     "text": [
      "True\n",
      "False\n"
     ]
    }
   ],
   "source": [
    "car = \"alto\"\n",
    "print(car == \"alto\")\n",
    "print(car == \"sivix\")"
   ]
  },
  {
   "cell_type": "code",
   "execution_count": 11,
   "metadata": {},
   "outputs": [
    {
     "name": "stdout",
     "output_type": "stream",
     "text": [
      "False\n",
      "True\n"
     ]
    }
   ],
   "source": [
    "car = \"Sivix\" # testing case sensitive in python\n",
    "print(car == \"sivix\")\n",
    "print(car.lower() == \"sivix\")"
   ]
  },
  {
   "cell_type": "code",
   "execution_count": 13,
   "metadata": {},
   "outputs": [
    {
     "name": "stdout",
     "output_type": "stream",
     "text": [
      "this is not correct player\n"
     ]
    }
   ],
   "source": [
    "player = [\"ahmed\", \"aslam\"] # unequal operator\n",
    "if player != \"akram\":\n",
    "    print(\"this is not correct player\")"
   ]
  },
  {
   "cell_type": "code",
   "execution_count": 15,
   "metadata": {},
   "outputs": [
    {
     "name": "stdout",
     "output_type": "stream",
     "text": [
      "True\n",
      "False\n"
     ]
    }
   ],
   "source": [
    "age = 18 # numerical comparison\n",
    "print(age == 18) # there are other operator such as <= or >= pr < or >\n",
    "print(age != 18)"
   ]
  },
  {
   "cell_type": "code",
   "execution_count": 20,
   "metadata": {},
   "outputs": [
    {
     "name": "stdout",
     "output_type": "stream",
     "text": [
      "True\n",
      "True\n",
      "False\n"
     ]
    }
   ],
   "source": [
    "# and and or conditional operators\n",
    "age = 18\n",
    "print(age == 18 and age != 17)\n",
    "print(age == 18 or age != 17)\n",
    "print(age == 18 and age != 18)"
   ]
  },
  {
   "cell_type": "code",
   "execution_count": 24,
   "metadata": {},
   "outputs": [
    {
     "name": "stdout",
     "output_type": "stream",
     "text": [
      "True\n",
      "False\n",
      "False\n",
      "True\n"
     ]
    }
   ],
   "source": [
    "# use of in and not in\n",
    "game1 = [\"rustam\", \"rano\", \"sajan\", \"sareer\"]\n",
    "print(\"rustam\" in game1)\n",
    "print(\"rustam\" not in game1)\n",
    "print(\"ahmed\" in game1)\n",
    "print(\"ahmed\" not in game1)\n"
   ]
  },
  {
   "cell_type": "code",
   "execution_count": 27,
   "metadata": {},
   "outputs": [
    {
     "name": "stdout",
     "output_type": "stream",
     "text": [
      "this is player\n"
     ]
    }
   ],
   "source": [
    "if \"rustam\" in game1:\n",
    "    print('this is player')"
   ]
  },
  {
   "cell_type": "code",
   "execution_count": 28,
   "metadata": {},
   "outputs": [
    {
     "name": "stdout",
     "output_type": "stream",
     "text": [
      "sory you are too youn to vote\n"
     ]
    }
   ],
   "source": [
    "age = 17\n",
    "if age == 18:\n",
    "    print('you are old enough to vote')\n",
    "else:\n",
    "    print(\"sory you are too youn to vote\")"
   ]
  },
  {
   "cell_type": "code",
   "execution_count": 33,
   "metadata": {},
   "outputs": [
    {
     "name": "stdout",
     "output_type": "stream",
     "text": [
      "yout admission cost is 12\n"
     ]
    }
   ],
   "source": [
    "age = 12\n",
    "if age < 4:\n",
    "    print(\"your admission cost is 0\")\n",
    "elif age > 12:\n",
    "    print(\"your admission cost is 20\")\n",
    "elif age > 5:\n",
    "    print(\"yout admission cost is 12\")\n",
    "else:\n",
    "    print(\"your admission cost is 10\")"
   ]
  },
  {
   "cell_type": "code",
   "execution_count": 37,
   "metadata": {},
   "outputs": [
    {
     "name": "stdout",
     "output_type": "stream",
     "text": [
      "your admission cost is 40.\n"
     ]
    }
   ],
   "source": [
    "if age < 4:\n",
    "    price = 10\n",
    "elif age < 8:\n",
    "    price = 20\n",
    "elif age < 10:\n",
    "    price = 30\n",
    "else:\n",
    "    price = 40\n",
    "print(f\"your admission cost is {price}.\")"
   ]
  },
  {
   "cell_type": "code",
   "execution_count": 38,
   "metadata": {},
   "outputs": [
    {
     "name": "stdout",
     "output_type": "stream",
     "text": [
      "add this cake.\n",
      "add this sugar.\n",
      "add this oil.\n",
      "pizza is ready.\n"
     ]
    }
   ],
   "source": [
    "pizza_items = [\"cake\", \"sugar\", \"oil\"]\n",
    "for item in pizza_items:\n",
    "    print(f\"add this {item}.\")\n",
    "print(\"pizza is ready.\")"
   ]
  },
  {
   "cell_type": "code",
   "execution_count": 43,
   "metadata": {},
   "outputs": [
    {
     "name": "stdout",
     "output_type": "stream",
     "text": [
      "add this cake.\n",
      "add this sugar.\n",
      "use oil carefully\n",
      "pizza is ready.\n"
     ]
    }
   ],
   "source": [
    "for item in pizza_items:\n",
    "    if item == \"oil\":\n",
    "        print(\"use oil carefully\")\n",
    "    else:\n",
    "        print(f\"add this {item}.\")\n",
    "print(\"pizza is ready.\")"
   ]
  },
  {
   "cell_type": "code",
   "execution_count": 49,
   "metadata": {},
   "outputs": [
    {
     "name": "stdout",
     "output_type": "stream",
     "text": [
      "are you plan a pizza\n"
     ]
    }
   ],
   "source": [
    "pizza_items = []\n",
    "if pizza_items:\n",
    "    for item in pizza_items:\n",
    "        print(f\"add this {item}.\")\n",
    "else:\n",
    "    print(\"are you plan a pizza\")"
   ]
  },
  {
   "cell_type": "code",
   "execution_count": 50,
   "metadata": {},
   "outputs": [
    {
     "name": "stdout",
     "output_type": "stream",
     "text": [
      "add this oil.\n",
      "add this sugar.\n",
      "add this cake.\n",
      "pizza is ready.\n"
     ]
    }
   ],
   "source": [
    "pizza_items = [\"oil\", 'sugar', \"cake\"]\n",
    "if pizza_items:\n",
    "    for item in pizza_items:\n",
    "        print(f\"add this {item}.\")\n",
    "    print(\"pizza is ready.\")\n",
    "else:\n",
    "    print(\"are yoe plan a pizza.\")"
   ]
  },
  {
   "cell_type": "code",
   "execution_count": 56,
   "metadata": {},
   "outputs": [
    {
     "name": "stdout",
     "output_type": "stream",
     "text": [
      "I have added oil.\n",
      "I have added cake.\n",
      "sorry there is not tomato.\n",
      "\n",
      "pizza is ready for use\n"
     ]
    }
   ],
   "source": [
    "available_list = [\"apple\", \"cake\", \"oil\", \"orange\", \"sugar\"]\n",
    "requested_list = [\"oil\", \"cake\", \"tomato\"]\n",
    "for requested_list in requested_list:\n",
    "    if requested_list in available_list:\n",
    "        print(f\"I have added {requested_list}.\")\n",
    "    else:\n",
    "        print(f\"sorry there is not {requested_list}.\")\n",
    "print(\"\\npizza is ready for use\")\n"
   ]
  },
  {
   "cell_type": "code",
   "execution_count": 57,
   "metadata": {},
   "outputs": [
    {
     "name": "stdout",
     "output_type": "stream",
     "text": [
      "hello ahmed thank you for logging again\n",
      "hello aslam thank you for logging again\n",
      "hello admin would you like to see report?\n",
      "hello ahsan thank you for logging again\n"
     ]
    }
   ],
   "source": [
    "users = [\"ahmed\", \"aslam\", \"admin\", \"ahsan\"]\n",
    "for user in users:\n",
    "    if user == \"admin\":\n",
    "        print(f\"hello {user} would you like to see report?\")\n",
    "    else:\n",
    "        print(f\"hello {user} thank you for logging again\")"
   ]
  },
  {
   "cell_type": "code",
   "execution_count": 58,
   "metadata": {},
   "outputs": [
    {
     "name": "stdout",
     "output_type": "stream",
     "text": [
      "we need to find some users.\n"
     ]
    }
   ],
   "source": [
    "usernames = []\n",
    "if usernames:\n",
    "    for name in usernames:\n",
    "        print(\"hello {name} welcome.\")\n",
    "else:\n",
    "    print(\"we need to find some users.\")"
   ]
  },
  {
   "cell_type": "code",
   "execution_count": 64,
   "metadata": {},
   "outputs": [
    {
     "name": "stdout",
     "output_type": "stream",
     "text": [
      "sana you have to enter new user\n",
      "rasheed is available\n",
      "waseem is available\n",
      "aslam you have to enter new user\n",
      "chana is available\n"
     ]
    }
   ],
   "source": [
    "current_users = [\"ahmed\", \"aslam\", \"ahsan\", \"sarmad\", 'sana']\n",
    "new_users = [\"sana\", \"rasheed\", \"waseem\", \"aslam\", \"chana\"]\n",
    "for new_users in new_users:\n",
    "    if new_users in current_users:\n",
    "        print(f\"{new_users} you have to enter new user\")\n",
    "    else:\n",
    "        print(f\"{new_users} is available\")"
   ]
  },
  {
   "cell_type": "code",
   "execution_count": 72,
   "metadata": {},
   "outputs": [
    {
     "name": "stdout",
     "output_type": "stream",
     "text": [
      "[1, 2, 3, 4]\n",
      "1st\n",
      "2nd\n",
      "3rd\n",
      "4th\n"
     ]
    }
   ],
   "source": [
    "number = list(range(1,5))\n",
    "print(number)\n",
    "for i in number:\n",
    "    if i == 1:\n",
    "        print(\"1st\")\n",
    "    elif i == 2:\n",
    "        print(\"2nd\")\n",
    "    elif i == 3:\n",
    "        print(\"3rd\")\n",
    "    else:\n",
    "        print(\"4th\")\n"
   ]
  },
  {
   "cell_type": "code",
   "execution_count": null,
   "metadata": {},
   "outputs": [],
   "source": []
  }
 ],
 "metadata": {
  "kernelspec": {
   "display_name": "Python 3",
   "language": "python",
   "name": "python3"
  },
  "language_info": {
   "codemirror_mode": {
    "name": "ipython",
    "version": 3
   },
   "file_extension": ".py",
   "mimetype": "text/x-python",
   "name": "python",
   "nbconvert_exporter": "python",
   "pygments_lexer": "ipython3",
   "version": "3.11.4"
  }
 },
 "nbformat": 4,
 "nbformat_minor": 2
}
