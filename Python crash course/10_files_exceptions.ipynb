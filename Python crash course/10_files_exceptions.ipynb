{
 "cells": [
  {
   "cell_type": "code",
   "execution_count": 3,
   "metadata": {},
   "outputs": [
    {
     "name": "stdout",
     "output_type": "stream",
     "text": [
      "3.1415926535\n",
      "  8979323846\n",
      "  2643383279\n",
      "\n"
     ]
    }
   ],
   "source": [
    "#  A path is the exact location of a file or folder on a system. \n",
    "# Python provides a module called pathlib that makes it easier to work with files and directories. \n",
    "# A module that provides specific functionality like this is often called a library, \n",
    "# hence the name pathlib. \n",
    "# The contents of the file are returned as a single string, which we assign to the variable contents \n",
    "# The only difference between this output and the original file is the extra blank line \n",
    "# at the end of the output. The blank line appears because read_text() returns an empty string \n",
    "# when it reaches the end of the file; this empty string shows up as a blank line.\n",
    "\n",
    "from pathlib import Path\n",
    "path = Path(\"pi_digits.txt\")\n",
    "contents = path.read_text()\n",
    "print(contents)"
   ]
  },
  {
   "cell_type": "code",
   "execution_count": 4,
   "metadata": {},
   "outputs": [
    {
     "name": "stdout",
     "output_type": "stream",
     "text": [
      "3.1415926535\n",
      "  8979323846\n",
      "  2643383279\n"
     ]
    }
   ],
   "source": [
    "path = Path(\"pi_digits.txt\")\n",
    "contents = path.read_text()\n",
    "contents = contents.rstrip() # we can remove the extra blank line by using rstrip()\n",
    "print(contents) # Python’s rstrip() or strips, any whitespace characters from  right side of a string\n",
    "# contents = path.read_text().rstrip() for this purpose"
   ]
  },
  {
   "cell_type": "code",
   "execution_count": 7,
   "metadata": {},
   "outputs": [
    {
     "name": "stdout",
     "output_type": "stream",
     "text": [
      "3.1415926535\n",
      "  8979323846\n",
      "  2643383279\n"
     ]
    }
   ],
   "source": [
    "# relative path\n",
    "# A relative file path tells Python to look for a given location relative to the directory \n",
    "# where the currently running program file is stored\n",
    "# python_folder> file_folder> call_file and python_folder> program_file\n",
    "# path Path(\"file_folder/call_file\")\n",
    "\n",
    "# absolute path\n",
    "# You can also tell Python exactly where the file is on your computer, regardless of where the \n",
    "# program that’s being executed is stored. This is called an absolute file path.\n",
    "# path = Path('/home/eric/data_files/text_files/filename.txt')\n",
    "\n",
    "# If you’re planning to work with the individual lines in a file. The splitlines()method returns \n",
    "# a list of all lines in the file, and we assign this list to the variable lines\n",
    "\n",
    "from pathlib import Path\n",
    "path = Path(\"pi_digits.txt\")\n",
    "contents = path.read_text()\n",
    "\n",
    "lines = contents.splitlines()\n",
    "for line in lines:\n",
    "    print(line)"
   ]
  },
  {
   "cell_type": "code",
   "execution_count": 4,
   "metadata": {},
   "outputs": [
    {
     "name": "stdout",
     "output_type": "stream",
     "text": [
      "3.1415926535  8979323846  2643383279\n",
      "36\n"
     ]
    }
   ],
   "source": [
    "# to build a single string containing all the digits in the file with no whitespace in it\n",
    "from pathlib import Path\n",
    "path = Path(\"pi_digits.txt\")\n",
    "contents = path.read_text()\n",
    "one_string = \"\"\n",
    "lines = contents.splitlines()\n",
    "for line in lines:\n",
    "    one_string += line\n",
    "print(one_string)\n",
    "print(len(one_string))"
   ]
  },
  {
   "cell_type": "code",
   "execution_count": 5,
   "metadata": {},
   "outputs": [
    {
     "name": "stdout",
     "output_type": "stream",
     "text": [
      "3.141592653589793238462643383279\n",
      "32\n"
     ]
    }
   ],
   "source": [
    "# The variable pi_string contains the whitespace that was on the left side of the digits in each line,\n",
    "# but we can get rid of that by using lstrip() on each line\n",
    "\n",
    "from pathlib import Path\n",
    "path = Path(\"pi_digits.txt\")\n",
    "contents = path.read_text()\n",
    "one_string = \"\"\n",
    "lines = contents.splitlines()\n",
    "for line in lines:\n",
    "    one_string += line.lstrip()\n",
    "print(one_string)\n",
    "print(len(one_string))"
   ]
  },
  {
   "cell_type": "code",
   "execution_count": 6,
   "metadata": {},
   "outputs": [
    {
     "name": "stdout",
     "output_type": "stream",
     "text": [
      "3.141592653\n",
      "32\n"
     ]
    }
   ],
   "source": [
    "# Large Files: One Million Digits\n",
    "# If we start with a text file that contains pi to 1,000,000 decimal places, instead of just 30, we \n",
    "# can create a single string containing all these digits. We don’t need to change our program at all,\n",
    "# except to pass it a different file. We’ll also print just the first 10 decimal places\n",
    "\n",
    "from pathlib import Path\n",
    "path = Path(\"pi_digits.txt\")\n",
    "contents = path.read_text()\n",
    "one_string = \"\"\n",
    "lines = contents.splitlines()\n",
    "for line in lines:\n",
    "    one_string += line.lstrip()\n",
    "print(one_string[:11])\n",
    "print(len(one_string))"
   ]
  },
  {
   "cell_type": "code",
   "execution_count": 11,
   "metadata": {},
   "outputs": [
    {
     "name": "stdout",
     "output_type": "stream",
     "text": [
      "my birthday 15 is written in the 3.141592653589793238462643383279.\n"
     ]
    }
   ],
   "source": [
    "birthday = input(\"enter your birthday date i dd: \")\n",
    "if birthday in one_string:\n",
    "    print(f\"my birthday {birthday} is written in the {one_string}.\")\n",
    "else:\n",
    "    \n",
    "    print(f\"my birthday {birthday} is not written in the {one_string}.\")    "
   ]
  },
  {
   "cell_type": "code",
   "execution_count": 15,
   "metadata": {},
   "outputs": [
    {
     "data": {
      "text/plain": [
       "19"
      ]
     },
     "execution_count": 15,
     "metadata": {},
     "output_type": "execute_result"
    }
   ],
   "source": [
    "# Writing to a File Writing a Single Line\n",
    "# write a simple message and store it in a file instead of printing it to the screen\n",
    "\n",
    "from pathlib import Path\n",
    "path = Path(\"program.txt\")\n",
    "path.write_text(\"I love programming.\")\n",
    "# This file behaves like any other file on your computer. You can open it, write new text in it, \n",
    "# copy from it, paste to it, and so forth."
   ]
  },
  {
   "cell_type": "code",
   "execution_count": 4,
   "metadata": {},
   "outputs": [
    {
     "data": {
      "text/plain": [
       "110"
      ]
     },
     "execution_count": 4,
     "metadata": {},
     "output_type": "execute_result"
    }
   ],
   "source": [
    "# Writing Multiple Lines\n",
    "# You can also use spaces, tab characters, and blank lines to format your output\n",
    "# Be careful when calling write_text() on a path object. If the file already exists, \n",
    "# write_text() will erase the current contents of the file and write new contents to the file.\n",
    "\n",
    "from pathlib import Path\n",
    "content = \"I also like to work with data\\n\"\n",
    "content += \"I like to become a data analyst and work in industry.\\n\"\n",
    "content += \"This is greate job for me.\"\n",
    "path = Path(\"program.txt\")\n",
    "path.write_text(content)"
   ]
  },
  {
   "cell_type": "code",
   "execution_count": 1,
   "metadata": {},
   "outputs": [
    {
     "ename": "ZeroDivisionError",
     "evalue": "division by zero",
     "output_type": "error",
     "traceback": [
      "\u001b[1;31m---------------------------------------------------------------------------\u001b[0m",
      "\u001b[1;31mZeroDivisionError\u001b[0m                         Traceback (most recent call last)",
      "Cell \u001b[1;32mIn[1], line 9\u001b[0m\n\u001b[0;32m      1\u001b[0m \u001b[38;5;66;03m# Handling the ZeroDivisionError Exception\u001b[39;00m\n\u001b[0;32m      2\u001b[0m \u001b[38;5;66;03m# The error reported in the traceback, ZeroDivisionError, is an exception \u001b[39;00m\n\u001b[0;32m      3\u001b[0m \u001b[38;5;66;03m# object 1. Python creates this kind of object in response to a situation where \u001b[39;00m\n\u001b[1;32m   (...)\u001b[0m\n\u001b[0;32m      6\u001b[0m \u001b[38;5;66;03m# to modify our program. We’ll tell Python what to do when this kind of \u001b[39;00m\n\u001b[0;32m      7\u001b[0m \u001b[38;5;66;03m# exception occurs; that way, if it happens again, we’ll be prepared.\u001b[39;00m\n\u001b[1;32m----> 9\u001b[0m \u001b[38;5;28mprint\u001b[39m(\u001b[38;5;241;43m5\u001b[39;49m\u001b[38;5;241;43m/\u001b[39;49m\u001b[38;5;241;43m0\u001b[39;49m)\n",
      "\u001b[1;31mZeroDivisionError\u001b[0m: division by zero"
     ]
    }
   ],
   "source": [
    "# Handling the ZeroDivisionError Exception\n",
    "# The error reported in the traceback, ZeroDivisionError, is an exception \n",
    "# object 1. Python creates this kind of object in response to a situation where \n",
    "# it can’t do what we ask it to. When this happens, Python stops the program \n",
    "# and tells us the kind of exception that was raised. We can use this informa\u0002tion \n",
    "# to modify our program. We’ll tell Python what to do when this kind of \n",
    "# exception occurs; that way, if it happens again, we’ll be prepared.\n",
    "\n",
    "print(5/0)\n"
   ]
  },
  {
   "cell_type": "code",
   "execution_count": 2,
   "metadata": {},
   "outputs": [
    {
     "name": "stdout",
     "output_type": "stream",
     "text": [
      "you can't divide by zero.\n"
     ]
    }
   ],
   "source": [
    "# Using try-except Blocks\n",
    "try:\n",
    "    print(5/0)\n",
    "except ZeroDivisionError:\n",
    "    print(\"you can't divide by zero.\")"
   ]
  },
  {
   "cell_type": "code",
   "execution_count": 10,
   "metadata": {},
   "outputs": [
    {
     "name": "stdout",
     "output_type": "stream",
     "text": [
      "give two numbers and I will divide them.\n",
      "Enter 'q' to quit.\n",
      "0.8\n",
      "2.5\n"
     ]
    },
    {
     "ename": "ZeroDivisionError",
     "evalue": "division by zero",
     "output_type": "error",
     "traceback": [
      "\u001b[1;31m---------------------------------------------------------------------------\u001b[0m",
      "\u001b[1;31mZeroDivisionError\u001b[0m                         Traceback (most recent call last)",
      "Cell \u001b[1;32mIn[10], line 10\u001b[0m\n\u001b[0;32m      8\u001b[0m \u001b[38;5;28;01mif\u001b[39;00m second_number \u001b[38;5;241m==\u001b[39m \u001b[38;5;124m\"\u001b[39m\u001b[38;5;124mq\u001b[39m\u001b[38;5;124m\"\u001b[39m:\n\u001b[0;32m      9\u001b[0m     \u001b[38;5;28;01mbreak\u001b[39;00m\n\u001b[1;32m---> 10\u001b[0m answer \u001b[38;5;241m=\u001b[39m \u001b[38;5;28;43mint\u001b[39;49m\u001b[43m(\u001b[49m\u001b[43mfirst_number\u001b[49m\u001b[43m)\u001b[49m\u001b[43m \u001b[49m\u001b[38;5;241;43m/\u001b[39;49m\u001b[43m \u001b[49m\u001b[38;5;28;43mint\u001b[39;49m\u001b[43m(\u001b[49m\u001b[43msecond_number\u001b[49m\u001b[43m)\u001b[49m\n\u001b[0;32m     11\u001b[0m \u001b[38;5;28mprint\u001b[39m(answer)\n",
      "\u001b[1;31mZeroDivisionError\u001b[0m: division by zero"
     ]
    }
   ],
   "source": [
    "print(\"give two numbers and I will divide them.\")\n",
    "print(\"Enter 'q' to quit.\")\n",
    "while True:\n",
    "    first_number = input(\"enter first number: \")\n",
    "    if first_number == \"q\":\n",
    "        break\n",
    "    second_number = input(\"enter second number: \")\n",
    "    if second_number == \"q\":\n",
    "        break\n",
    "    answer = int(first_number) / int(second_number)\n",
    "    print(answer)\n",
    "# if you enter first 5 second 0 error will arrive and it causes to crash"
   ]
  },
  {
   "cell_type": "code",
   "execution_count": 11,
   "metadata": {},
   "outputs": [
    {
     "name": "stdout",
     "output_type": "stream",
     "text": [
      "give two numbers and I will divide them.\n",
      "Enter 'q' to quit.\n",
      "0.75\n",
      "2.5\n",
      "you can't divide by zero.\n",
      "0.75\n"
     ]
    }
   ],
   "source": [
    "# The else Block\n",
    "\n",
    "\n",
    "print(\"give two numbers and I will divide them.\")\n",
    "print(\"Enter 'q' to quit.\")\n",
    "while True:\n",
    "    first_number = input(\"enter first number: \")\n",
    "    if first_number == \"q\":\n",
    "        break\n",
    "    second_number = input(\"enter second number: \")\n",
    "    if second_number == \"q\":\n",
    "        break\n",
    "    try:\n",
    "        answer = int(first_number) / int(second_number)\n",
    "    except ZeroDivisionError:\n",
    "        print(\"you can't divide by zero.\")\n",
    "    else:\n",
    "        print(answer)\n",
    "# if you enter first 5 second 0 error will arrive and it causes to crash"
   ]
  },
  {
   "cell_type": "code",
   "execution_count": 10,
   "metadata": {},
   "outputs": [
    {
     "name": "stdout",
     "output_type": "stream",
     "text": [
      "I also like to work with data\n",
      "I like to become a data analyst and work in industry.\n",
      "This is greate job for me.\n"
     ]
    }
   ],
   "source": [
    "\n",
    "from pathlib import Path\n",
    "path = Path(\"program.txt\")\n",
    "contents = path.read_text()\n",
    "print(contents)"
   ]
  },
  {
   "cell_type": "code",
   "execution_count": 17,
   "metadata": {},
   "outputs": [
    {
     "name": "stdout",
     "output_type": "stream",
     "text": [
      "sory, the file progr.txt does not exit.\n"
     ]
    }
   ],
   "source": [
    "# Handling the FileNotFoundError Exception\n",
    "from pathlib import Path\n",
    "path = Path(\"progr.txt\")\n",
    "try:\n",
    "    contents = path.read_text()\n",
    "except FileNotFoundError:\n",
    "    print(f\"sory, the file {path} does not exit.\")"
   ]
  },
  {
   "cell_type": "code",
   "execution_count": 25,
   "metadata": {},
   "outputs": [
    {
     "name": "stdout",
     "output_type": "stream",
     "text": [
      "The file program.txt has about 24 words.\n"
     ]
    }
   ],
   "source": [
    "# Analyzing Text of a file\n",
    "from pathlib import Path\n",
    "\n",
    "path = Path(\"program.txt\")\n",
    "\n",
    "try:\n",
    "    content = path.read_text()\n",
    "except FileNotFoundError:\n",
    "    print(f\"Sorry, the file {path} does not exist.\")\n",
    "else:\n",
    "    words = content.split()\n",
    "    num_words = len(words)\n",
    "    print(f\"The file {path} has about {num_words} words.\")\n"
   ]
  },
  {
   "cell_type": "code",
   "execution_count": 42,
   "metadata": {},
   "outputs": [
    {
     "name": "stdout",
     "output_type": "stream",
     "text": [
      "The file pi_digits.txt has about 3 words.\n"
     ]
    }
   ],
   "source": [
    "# Analyzing Text of a file\n",
    "\n",
    "from pathlib import Path\n",
    "\n",
    "path = Path(\"pi_digits.txt\")\n",
    "\n",
    "try:\n",
    "    content = path.read_text()\n",
    "except FileNotFoundError:\n",
    "    print(f\"Sorry, the file {path} does not exist.\")\n",
    "else:\n",
    "    words = content.split()\n",
    "    num_words = len(words)\n",
    "    print(f\"The file {path} has about {num_words} words.\")\n"
   ]
  },
  {
   "cell_type": "code",
   "execution_count": 40,
   "metadata": {},
   "outputs": [
    {
     "name": "stdout",
     "output_type": "stream",
     "text": [
      "The file program.txt has about 24 words.\n"
     ]
    }
   ],
   "source": [
    "# Analyzing Text of a file through function\n",
    "from pathlib import Path\n",
    "\n",
    "def count_words(path):\n",
    "    \"\"\"count approximate number of words in a file.\"\"\"\n",
    "    \n",
    "    try:\n",
    "        content = path.read_text()\n",
    "    except FileNotFoundError:\n",
    "        print(f\"Sorry, the file {path} does not exist.\")\n",
    "    else:\n",
    "        words = content.split()\n",
    "        num_words = len(words)\n",
    "        print(f\"The file {path} has about {num_words} words.\")\n",
    "path = Path(\"program.txt\")\n",
    "count_words(path)\n",
    "#filenames = [\"program.txt\", \"pi_digits.txt\"]\n",
    "#for filename in filenames:\n",
    "#path = Path(filenames)\n",
    "\n"
   ]
  },
  {
   "cell_type": "code",
   "execution_count": 44,
   "metadata": {},
   "outputs": [
    {
     "name": "stdout",
     "output_type": "stream",
     "text": [
      "The file program.txt has about 24 words.\n",
      "The file pi_digits.txt has about 3 words.\n"
     ]
    }
   ],
   "source": [
    "# Analyzing Text of multiple files through function\n",
    "from pathlib import Path\n",
    "\n",
    "def count_words(path):\n",
    "    \"\"\"count approximate number of words in a file.\"\"\"\n",
    "    \n",
    "    try:\n",
    "        content = path.read_text()\n",
    "    except FileNotFoundError:\n",
    "        print(f\"Sorry, the file {path} does not exist.\")\n",
    "    else:\n",
    "        words = content.split()\n",
    "        num_words = len(words)\n",
    "        print(f\"The file {path} has about {num_words} words.\")\n",
    "        \n",
    "filenames = [\"program.txt\", \"pi_digits.txt\"]\n",
    "for filename in filenames:\n",
    "    path = Path(filename)\n",
    "    count_words(path)\n",
    "\n",
    "\n"
   ]
  },
  {
   "cell_type": "code",
   "execution_count": 1,
   "metadata": {},
   "outputs": [],
   "source": [
    "# Failing Silently\n",
    "# Sometimes, you’ll want the program to fail silently when an exception occurs and continue on \n",
    "# as if nothing happened.\n",
    "\n",
    "from pathlib import Path\n",
    "path = Path(\"progr.txt\")\n",
    "try:\n",
    "    contents = path.read_text()\n",
    "except FileNotFoundError:\n",
    "    pass"
   ]
  },
  {
   "cell_type": "code",
   "execution_count": 3,
   "metadata": {},
   "outputs": [
    {
     "name": "stdout",
     "output_type": "stream",
     "text": [
      "give two numbers and I will divide them.\n",
      "Enter 'q' to quit.\n",
      "0.75\n",
      "0.8333333333333334\n",
      "0.8571428571428571\n"
     ]
    }
   ],
   "source": [
    "print(\"give two numbers and I will divide them.\")\n",
    "print(\"Enter 'q' to quit.\")\n",
    "while True:\n",
    "    first_number = input(\"enter first number: \")\n",
    "    if first_number == \"q\":\n",
    "        break\n",
    "    second_number = input(\"enter second number: \")\n",
    "    if second_number == \"q\":\n",
    "        break\n",
    "    try:\n",
    "        answer = int(first_number) / int(second_number)\n",
    "    except ZeroDivisionError:\n",
    "        pass\n",
    "    else:\n",
    "        print(answer)"
   ]
  },
  {
   "cell_type": "code",
   "execution_count": 7,
   "metadata": {},
   "outputs": [
    {
     "name": "stdout",
     "output_type": "stream",
     "text": [
      "Error: Please enter valid numbers.\n"
     ]
    }
   ],
   "source": [
    "# practice\n",
    "def add_numbers():\n",
    "    try:\n",
    "        # Prompt for the first number\n",
    "        num1 = float(input(\"Enter the first number: \"))\n",
    "        \n",
    "        # Prompt for the second number\n",
    "        num2 = float(input(\"Enter the second number: \"))\n",
    "        \n",
    "        # Add the numbers\n",
    "        result = num1 + num2\n",
    "        \n",
    "        # Print the result\n",
    "        print(\"The sum of {} and {} is: {}\".format(num1, num2, result))\n",
    "        \n",
    "    except ValueError:\n",
    "        # Handle the ValueError if input is not a number\n",
    "        print(\"Error: Please enter valid numbers.\")\n",
    "\n",
    "# Test the program\n",
    "add_numbers()\n"
   ]
  },
  {
   "cell_type": "code",
   "execution_count": 13,
   "metadata": {},
   "outputs": [
    {
     "name": "stdout",
     "output_type": "stream",
     "text": [
      "The sum of 3.0 and 4.0 is: 7.0\n"
     ]
    }
   ],
   "source": [
    "def add_numbers():\n",
    "    while True:\n",
    "        try:\n",
    "            # Prompt for the first number\n",
    "            num1 = float(input(\"Enter the first number: \"))\n",
    "            \n",
    "            # Prompt for the second number\n",
    "            num2 = float(input(\"Enter the second number: \"))\n",
    "            \n",
    "            # Add the numbers\n",
    "            result = num1 + num2\n",
    "            \n",
    "            # Print the result\n",
    "            print(\"The sum of {} and {} is: {}\".format(num1, num2, result))\n",
    "            \n",
    "        except ValueError:\n",
    "            # Handle the ValueError if input is not a number\n",
    "            print(\"Error: Please enter valid numbers.\")\n",
    "            continue  # Continue the loop if there's an error\n",
    "        else:\n",
    "            # Ask the user if they want to continue\n",
    "            user_input = input(\"Do you want to enter more numbers? (yes/no): \").lower()\n",
    "            if user_input != 'yes':\n",
    "                break  # Exit the loop if the user doesn't want to continue\n",
    "\n",
    "# Run the program\n",
    "add_numbers()\n"
   ]
  },
  {
   "cell_type": "code",
   "execution_count": 14,
   "metadata": {},
   "outputs": [
    {
     "name": "stdout",
     "output_type": "stream",
     "text": [
      "The word 'a' appears 10 times in the file.\n",
      "The word 'to' appears 2 times in the file.\n"
     ]
    }
   ],
   "source": [
    "# Specify the file path\n",
    "file_path = 'program.txt'\n",
    "\n",
    "# Read the content of the file\n",
    "with open(file_path, 'r') as file:\n",
    "    content = file.read()\n",
    "\n",
    "# Count occurrences of the word 'a'\n",
    "count_a = content.lower().count('a')\n",
    "\n",
    "# Count occurrences of the word 'to'\n",
    "count_to = content.lower().count('to')\n",
    "\n",
    "# Print the results\n",
    "print(f\"The word 'a' appears {count_a} times in the file.\")\n",
    "print(f\"The word 'to' appears {count_to} times in the file.\")\n"
   ]
  },
  {
   "cell_type": "code",
   "execution_count": 4,
   "metadata": {},
   "outputs": [
    {
     "data": {
      "text/plain": [
       "27"
      ]
     },
     "execution_count": 4,
     "metadata": {},
     "output_type": "execute_result"
    }
   ],
   "source": [
    "# Storing Data\n",
    "# write a short program that stores a set of numbers, this program will use \n",
    "# json.dumps() to store the set of numbers\n",
    "# another program that reads these numbers back into memory, this program will use json.loads(). \n",
    "\n",
    "from pathlib import Path\n",
    "import json\n",
    "numbers = [1, 2, 3, 4, 5, 6, 7, 8, 9]\n",
    "path = Path('numbers.json')\n",
    "contents = json.dumps(numbers) # store data in json format\n",
    "path.write_text(contents) # write data in python language"
   ]
  },
  {
   "cell_type": "code",
   "execution_count": 7,
   "metadata": {},
   "outputs": [
    {
     "name": "stdout",
     "output_type": "stream",
     "text": [
      "[1, 2, 3, 4, 5, 6, 7, 8, 9]\n"
     ]
    }
   ],
   "source": [
    "from pathlib import Path\n",
    "import json\n",
    "path = Path(\"numbers.json\")\n",
    "contents = path.read_text()\n",
    "numbers = json.loads(contents)\n",
    "# We pass the contents of the file to json.loads() this function takes in a JSON-formatted string \n",
    "# and returns a Python object (in this case, a list), then we printrecovered list of umbers\n",
    "print(numbers)\n",
    "\n",
    "# This is a simple way to share data between two programs."
   ]
  },
  {
   "cell_type": "code",
   "execution_count": 18,
   "metadata": {},
   "outputs": [
    {
     "name": "stdout",
     "output_type": "stream",
     "text": [
      "we will remember you when you back, 7.\n"
     ]
    }
   ],
   "source": [
    "# Saving and Reading User-Generated Data in json format\n",
    "\n",
    "from pathlib import Path\n",
    "import json\n",
    "username = input(\"Enter your first name: \")\n",
    "path = Path(\"username.json\")\n",
    "contents = json.dumps(username)\n",
    "username = path.write_text(contents)\n",
    "print(f\"we will remember you when you back, {username}.\")"
   ]
  },
  {
   "cell_type": "code",
   "execution_count": 19,
   "metadata": {},
   "outputs": [
    {
     "name": "stdout",
     "output_type": "stream",
     "text": [
      "Welcome back, ahmed!\n"
     ]
    }
   ],
   "source": [
    "from pathlib import Path # now we say greeting to user that has already been stored.\n",
    "import json\n",
    "path = Path('username.json')\n",
    "contents = path.read_text()\n",
    "username = json.loads(contents)\n",
    "print(f\"Welcome back, {username}!\")"
   ]
  },
  {
   "cell_type": "code",
   "execution_count": 3,
   "metadata": {},
   "outputs": [
    {
     "ename": "JSONDecodeError",
     "evalue": "Expecting value: line 1 column 1 (char 0)",
     "output_type": "error",
     "traceback": [
      "\u001b[1;31m---------------------------------------------------------------------------\u001b[0m",
      "\u001b[1;31mJSONDecodeError\u001b[0m                           Traceback (most recent call last)",
      "Cell \u001b[1;32mIn[3], line 8\u001b[0m\n\u001b[0;32m      6\u001b[0m \u001b[38;5;28;01mif\u001b[39;00m path\u001b[38;5;241m.\u001b[39mexists():\n\u001b[0;32m      7\u001b[0m     contents \u001b[38;5;241m=\u001b[39m path\u001b[38;5;241m.\u001b[39mread_text()\n\u001b[1;32m----> 8\u001b[0m     username \u001b[38;5;241m=\u001b[39m \u001b[43mjson\u001b[49m\u001b[38;5;241;43m.\u001b[39;49m\u001b[43mloads\u001b[49m\u001b[43m(\u001b[49m\u001b[43mcontents\u001b[49m\u001b[43m)\u001b[49m\n\u001b[0;32m      9\u001b[0m     \u001b[38;5;28mprint\u001b[39m(\u001b[38;5;124mf\u001b[39m\u001b[38;5;124m\"\u001b[39m\u001b[38;5;124mWelcome back, \u001b[39m\u001b[38;5;132;01m{\u001b[39;00musername\u001b[38;5;132;01m}\u001b[39;00m\u001b[38;5;124m!\u001b[39m\u001b[38;5;124m\"\u001b[39m)\n\u001b[0;32m     10\u001b[0m \u001b[38;5;28;01melse\u001b[39;00m:\n",
      "File \u001b[1;32mc:\\Users\\Abdul Majeed\\AppData\\Local\\Programs\\Python\\Python311\\Lib\\json\\__init__.py:346\u001b[0m, in \u001b[0;36mloads\u001b[1;34m(s, cls, object_hook, parse_float, parse_int, parse_constant, object_pairs_hook, **kw)\u001b[0m\n\u001b[0;32m    341\u001b[0m     s \u001b[38;5;241m=\u001b[39m s\u001b[38;5;241m.\u001b[39mdecode(detect_encoding(s), \u001b[38;5;124m'\u001b[39m\u001b[38;5;124msurrogatepass\u001b[39m\u001b[38;5;124m'\u001b[39m)\n\u001b[0;32m    343\u001b[0m \u001b[38;5;28;01mif\u001b[39;00m (\u001b[38;5;28mcls\u001b[39m \u001b[38;5;129;01mis\u001b[39;00m \u001b[38;5;28;01mNone\u001b[39;00m \u001b[38;5;129;01mand\u001b[39;00m object_hook \u001b[38;5;129;01mis\u001b[39;00m \u001b[38;5;28;01mNone\u001b[39;00m \u001b[38;5;129;01mand\u001b[39;00m\n\u001b[0;32m    344\u001b[0m         parse_int \u001b[38;5;129;01mis\u001b[39;00m \u001b[38;5;28;01mNone\u001b[39;00m \u001b[38;5;129;01mand\u001b[39;00m parse_float \u001b[38;5;129;01mis\u001b[39;00m \u001b[38;5;28;01mNone\u001b[39;00m \u001b[38;5;129;01mand\u001b[39;00m\n\u001b[0;32m    345\u001b[0m         parse_constant \u001b[38;5;129;01mis\u001b[39;00m \u001b[38;5;28;01mNone\u001b[39;00m \u001b[38;5;129;01mand\u001b[39;00m object_pairs_hook \u001b[38;5;129;01mis\u001b[39;00m \u001b[38;5;28;01mNone\u001b[39;00m \u001b[38;5;129;01mand\u001b[39;00m \u001b[38;5;129;01mnot\u001b[39;00m kw):\n\u001b[1;32m--> 346\u001b[0m     \u001b[38;5;28;01mreturn\u001b[39;00m \u001b[43m_default_decoder\u001b[49m\u001b[38;5;241;43m.\u001b[39;49m\u001b[43mdecode\u001b[49m\u001b[43m(\u001b[49m\u001b[43ms\u001b[49m\u001b[43m)\u001b[49m\n\u001b[0;32m    347\u001b[0m \u001b[38;5;28;01mif\u001b[39;00m \u001b[38;5;28mcls\u001b[39m \u001b[38;5;129;01mis\u001b[39;00m \u001b[38;5;28;01mNone\u001b[39;00m:\n\u001b[0;32m    348\u001b[0m     \u001b[38;5;28mcls\u001b[39m \u001b[38;5;241m=\u001b[39m JSONDecoder\n",
      "File \u001b[1;32mc:\\Users\\Abdul Majeed\\AppData\\Local\\Programs\\Python\\Python311\\Lib\\json\\decoder.py:337\u001b[0m, in \u001b[0;36mJSONDecoder.decode\u001b[1;34m(self, s, _w)\u001b[0m\n\u001b[0;32m    332\u001b[0m \u001b[38;5;28;01mdef\u001b[39;00m \u001b[38;5;21mdecode\u001b[39m(\u001b[38;5;28mself\u001b[39m, s, _w\u001b[38;5;241m=\u001b[39mWHITESPACE\u001b[38;5;241m.\u001b[39mmatch):\n\u001b[0;32m    333\u001b[0m \u001b[38;5;250m    \u001b[39m\u001b[38;5;124;03m\"\"\"Return the Python representation of ``s`` (a ``str`` instance\u001b[39;00m\n\u001b[0;32m    334\u001b[0m \u001b[38;5;124;03m    containing a JSON document).\u001b[39;00m\n\u001b[0;32m    335\u001b[0m \n\u001b[0;32m    336\u001b[0m \u001b[38;5;124;03m    \"\"\"\u001b[39;00m\n\u001b[1;32m--> 337\u001b[0m     obj, end \u001b[38;5;241m=\u001b[39m \u001b[38;5;28;43mself\u001b[39;49m\u001b[38;5;241;43m.\u001b[39;49m\u001b[43mraw_decode\u001b[49m\u001b[43m(\u001b[49m\u001b[43ms\u001b[49m\u001b[43m,\u001b[49m\u001b[43m \u001b[49m\u001b[43midx\u001b[49m\u001b[38;5;241;43m=\u001b[39;49m\u001b[43m_w\u001b[49m\u001b[43m(\u001b[49m\u001b[43ms\u001b[49m\u001b[43m,\u001b[49m\u001b[43m \u001b[49m\u001b[38;5;241;43m0\u001b[39;49m\u001b[43m)\u001b[49m\u001b[38;5;241;43m.\u001b[39;49m\u001b[43mend\u001b[49m\u001b[43m(\u001b[49m\u001b[43m)\u001b[49m\u001b[43m)\u001b[49m\n\u001b[0;32m    338\u001b[0m     end \u001b[38;5;241m=\u001b[39m _w(s, end)\u001b[38;5;241m.\u001b[39mend()\n\u001b[0;32m    339\u001b[0m     \u001b[38;5;28;01mif\u001b[39;00m end \u001b[38;5;241m!=\u001b[39m \u001b[38;5;28mlen\u001b[39m(s):\n",
      "File \u001b[1;32mc:\\Users\\Abdul Majeed\\AppData\\Local\\Programs\\Python\\Python311\\Lib\\json\\decoder.py:355\u001b[0m, in \u001b[0;36mJSONDecoder.raw_decode\u001b[1;34m(self, s, idx)\u001b[0m\n\u001b[0;32m    353\u001b[0m     obj, end \u001b[38;5;241m=\u001b[39m \u001b[38;5;28mself\u001b[39m\u001b[38;5;241m.\u001b[39mscan_once(s, idx)\n\u001b[0;32m    354\u001b[0m \u001b[38;5;28;01mexcept\u001b[39;00m \u001b[38;5;167;01mStopIteration\u001b[39;00m \u001b[38;5;28;01mas\u001b[39;00m err:\n\u001b[1;32m--> 355\u001b[0m     \u001b[38;5;28;01mraise\u001b[39;00m JSONDecodeError(\u001b[38;5;124m\"\u001b[39m\u001b[38;5;124mExpecting value\u001b[39m\u001b[38;5;124m\"\u001b[39m, s, err\u001b[38;5;241m.\u001b[39mvalue) \u001b[38;5;28;01mfrom\u001b[39;00m \u001b[38;5;28;01mNone\u001b[39;00m\n\u001b[0;32m    356\u001b[0m \u001b[38;5;28;01mreturn\u001b[39;00m obj, end\n",
      "\u001b[1;31mJSONDecodeError\u001b[0m: Expecting value: line 1 column 1 (char 0)"
     ]
    }
   ],
   "source": [
    "# combine these two programs into one file\n",
    "from pathlib import Path\n",
    "import json\n",
    "\n",
    "path = Path(\"username.json\")\n",
    "\n",
    "if path.exists():\n",
    "    contents = path.read_text()\n",
    "    username = json.loads(contents)\n",
    "    print(f\"Welcome back, {username}!\")\n",
    "else:\n",
    "    username = input(\"Enter your name: \")\n",
    "    contents = json.dumps(username)\n",
    "    path.write_text(contents)\n",
    "    print(f\"We will remember you when you come back, {username}!\")\n"
   ]
  },
  {
   "cell_type": "code",
   "execution_count": 7,
   "metadata": {},
   "outputs": [],
   "source": [
    "# Refactoring into one or more functions\n",
    "from pathlib import Path\n",
    "import json\n",
    "def greet_user():\n",
    "    \"\"\"\"greet the user by name.\"\"\"\n",
    "    path = Path(\"username.json\")\n",
    "\n",
    "    if path.exists():\n",
    "        contents = path.read_text()\n",
    "        username = json.loads(contents)\n",
    "        print(f\"Welcome back, {username}!\")\n",
    "    else:\n",
    "        username = input(\"Enter your name: \")\n",
    "        contents = json.dumps(username)\n",
    "        path.write_text(contents)\n",
    "        print(f\"We will remember you when you come back, {username}!\")\n"
   ]
  },
  {
   "cell_type": "code",
   "execution_count": null,
   "metadata": {},
   "outputs": [],
   "source": [
    "greet_user()"
   ]
  },
  {
   "cell_type": "code",
   "execution_count": null,
   "metadata": {},
   "outputs": [],
   "source": []
  }
 ],
 "metadata": {
  "kernelspec": {
   "display_name": "Python 3",
   "language": "python",
   "name": "python3"
  },
  "language_info": {
   "codemirror_mode": {
    "name": "ipython",
    "version": 3
   },
   "file_extension": ".py",
   "mimetype": "text/x-python",
   "name": "python",
   "nbconvert_exporter": "python",
   "pygments_lexer": "ipython3",
   "version": "3.11.4"
  }
 },
 "nbformat": 4,
 "nbformat_minor": 2
}
