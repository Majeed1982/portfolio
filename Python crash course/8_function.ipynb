{
 "cells": [
  {
   "cell_type": "code",
   "execution_count": 1,
   "metadata": {},
   "outputs": [
    {
     "name": "stdout",
     "output_type": "stream",
     "text": [
      "hello everyone\n"
     ]
    }
   ],
   "source": [
    "# Defining a Function\n",
    "def greet_user():\n",
    "    print(\"hello everyone\") # this is define greeting\n",
    "greet_user() # this call the functin and print dreeting"
   ]
  },
  {
   "cell_type": "code",
   "execution_count": 3,
   "metadata": {},
   "outputs": [
    {
     "name": "stdout",
     "output_type": "stream",
     "text": [
      "hello Ahmed!\n"
     ]
    }
   ],
   "source": [
    "# Passing Information to a Function\n",
    "# The variable username in the definition of greet_user() is an example of a parameter, \n",
    "# a piece of information the function needs to do its job. The value 'jesse' in greet_user('jesse') \n",
    "# is an example of an argument. An argument is a piece of information that’s passed from \n",
    "# a function call to a function. \n",
    "\n",
    "def greet_user(username):\n",
    "    print(f\"hello {username.title()}!\") # this is define greeting\n",
    "greet_user(\"ahmed\") # this call the functin and print dreeting\n"
   ]
  },
  {
   "cell_type": "code",
   "execution_count": 2,
   "metadata": {},
   "outputs": [
    {
     "name": "stdout",
     "output_type": "stream",
     "text": [
      "I have a brid.\n",
      "my brid's name is parot.\n"
     ]
    }
   ],
   "source": [
    "\n",
    "# Positional Arguments\n",
    "# in the function definition. The simplest way to do this is based on the order of the arguments \n",
    "# provided. Values matched up this way are called positional arguments\n",
    "\n",
    "def describe_pet(animal_type, animal_name):\n",
    "    print(f\"I have a {animal_type}.\")\n",
    "    print(f\"my {animal_type}'s name is {animal_name}.\")\n",
    "describe_pet(\"brid\", \"parot\")"
   ]
  },
  {
   "cell_type": "code",
   "execution_count": 5,
   "metadata": {},
   "outputs": [
    {
     "name": "stdout",
     "output_type": "stream",
     "text": [
      "This is Cricker Palyer.\n",
      "this Cricker Palyer's name is Ahmed.\n"
     ]
    }
   ],
   "source": [
    "# Keyword Arguments\n",
    "#A keyword argument is a name-value pair that you pass to a function.\n",
    "def describe_player(player_type, player_name):\n",
    "    print(f\"This is {player_type.title()}.\")\n",
    "    print(f\"this {player_type.title()}'s name is {player_name.title()}.\")\n",
    "describe_player(player_type = \"cricker palyer\", player_name = \"ahmed\")"
   ]
  },
  {
   "cell_type": "code",
   "execution_count": 6,
   "metadata": {},
   "outputs": [
    {
     "name": "stdout",
     "output_type": "stream",
     "text": [
      "This is Cricker Palyer.\n",
      "this Cricker Palyer's name is Ahmed.\n"
     ]
    }
   ],
   "source": [
    "# Keyword Arguments\n",
    "#A keyword argument is a name-value pair that you pass to a function.\n",
    "def describe_player(player_type, player_name):\n",
    "    print(f\"This is {player_type.title()}.\")\n",
    "    print(f\"this {player_type.title()}'s name is {player_name.title()}.\")\n",
    "describe_player(player_name = \"ahmed\", player_type = \"cricker palyer\")"
   ]
  },
  {
   "cell_type": "code",
   "execution_count": 22,
   "metadata": {},
   "outputs": [
    {
     "name": "stdout",
     "output_type": "stream",
     "text": [
      "I have a bird.\n",
      "my bird's name is parot.\n",
      "I have a dog.\n",
      "my dog's name is pupi.\n",
      "I have a dog.\n",
      "my dog's name is pupi.\n",
      "I have a dog.\n",
      "my dog's name is pupi.\n"
     ]
    }
   ],
   "source": [
    "# Default Values\n",
    "#When writing a function, you can define a default value for each parameter. \n",
    "# the only argument left in the function call, Python still interprets this as a positional argument\n",
    "\n",
    "def describe_pet(animal_name, animal_type = \"bird\"):\n",
    "    print(f\"I have a {animal_type}.\")\n",
    "    print(f\"my {animal_type}'s name is {animal_name}.\")\n",
    "describe_pet(\"parot\")\n",
    "\n",
    "# Python will ignore the parameter’s default value if you set in call again\n",
    "describe_pet(\"pupi\", \"dog\")\n",
    "# Equivalent Function Calls\n",
    "# Because positional arguments, keyword arguments, and default values can all be used together\n",
    "describe_pet(animal_name=\"pupi\", animal_type=\"dog\")\n",
    "describe_pet(animal_type=\"dog\", animal_name=\"pupi\")"
   ]
  },
  {
   "cell_type": "code",
   "execution_count": 7,
   "metadata": {},
   "outputs": [
    {
     "name": "stdout",
     "output_type": "stream",
     "text": [
      "Ali Sher\n"
     ]
    }
   ],
   "source": [
    "# The value the function returns is called a return value. The return statement takes a value from\n",
    "# inside a function and sends it back to the line that called the function.\n",
    "\n",
    "def get_formatted_name (first_name, last_name):\n",
    "    full_name = f\"{first_name} {last_name}\"\n",
    "    return full_name.title()\n",
    "student = get_formatted_name(\"ali\", \"sher\")\n",
    "print(student)"
   ]
  },
  {
   "cell_type": "code",
   "execution_count": 23,
   "metadata": {},
   "outputs": [
    {
     "name": "stdout",
     "output_type": "stream",
     "text": [
      "Ahmed Dars\n",
      "Ahmed Ali Dars\n"
     ]
    }
   ],
   "source": [
    "# Making an Argument Optional\n",
    "# Sometimes it makes sense to make an argument optional, so that people using the function can choose\n",
    "# to provide extra information only if they want to. \n",
    "# You can use default values to make an argument optional.\n",
    "\n",
    "def get_formatted_name(first_name, last_name, middle_name = \"\"):\n",
    "    if middle_name:\n",
    "        full_name = f\"{first_name} {middle_name} {last_name}\"\n",
    "    else:\n",
    "        full_name = f\"{first_name} {last_name}\"\n",
    "    return full_name.title()\n",
    "employee = get_formatted_name(\"ahmed\", \"dars\")\n",
    "print(employee)\n",
    "employee = get_formatted_name(\"ahmed\", \"dars\", \"ali\")\n",
    "print(employee)\n"
   ]
  },
  {
   "cell_type": "code",
   "execution_count": 4,
   "metadata": {},
   "outputs": [
    {
     "data": {
      "text/plain": [
       "{'first': 'muhammad', 'last': 'ali'}"
      ]
     },
     "execution_count": 4,
     "metadata": {},
     "output_type": "execute_result"
    }
   ],
   "source": [
    "# Returning a Dictionary\n",
    "# A function can return any kind of value you need it to, including more com\u0002plicated data \n",
    "# structures like lists and dictionaries. For example, the follow\u0002ing function takes in parts \n",
    "# of a name and returns a dictionary representing a person\n",
    "\n",
    "def build_person(first_name, last_name):\n",
    "    '''retern a dictionary of information about a person'''\n",
    "    person = {\"first\": first_name, \"last\": last_name}\n",
    "    return person\n",
    "player = build_person(\"muhammad\", \"ali\")\n",
    "player"
   ]
  },
  {
   "cell_type": "code",
   "execution_count": 5,
   "metadata": {},
   "outputs": [
    {
     "data": {
      "text/plain": [
       "{'first': 'muhammad', 'last': 'ali', 'age': 34}"
      ]
     },
     "execution_count": 5,
     "metadata": {},
     "output_type": "execute_result"
    }
   ],
   "source": [
    "# You can easily extend this function to accept optional values like a middle name, \n",
    "#an age, an occupation, or any other information you want to store about a person.\n",
    "\n",
    "def build_person(first_name, last_name, age = None):\n",
    "    '''retern a dictionary of information about a person'''\n",
    "    person = {\"first\": first_name, \"last\": last_name}\n",
    "    if age:\n",
    "        person[\"age\"] = age\n",
    "    return person\n",
    "player = build_person(\"muhammad\", \"ali\", age = 34)\n",
    "player"
   ]
  },
  {
   "cell_type": "code",
   "execution_count": 8,
   "metadata": {},
   "outputs": [
    {
     "name": "stdout",
     "output_type": "stream",
     "text": [
      "\n",
      "please tell me your name?\n",
      "enter 'q' at any time to quit.\n",
      "hello Ahsan Rajar\n",
      "\n",
      "please tell me your name?\n",
      "enter 'q' at any time to quit.\n",
      "hello Akram Dars\n",
      "\n",
      "please tell me your name?\n",
      "enter 'q' at any time to quit.\n",
      "hello Muhsin Mangrio\n",
      "\n",
      "please tell me your name?\n",
      "enter 'q' at any time to quit.\n"
     ]
    }
   ],
   "source": [
    "# Using a Function with a while Loop\n",
    "def get_formatted_name(first_name, last_name):\n",
    "    full_name = f\"{first_name} {last_name}\"\n",
    "    return full_name.title()\n",
    "while True:\n",
    "    print(\"\\nplease tell me your name?\")\n",
    "    print(\"enter 'q' at any time to quit.\")\n",
    "    f_name = input(\"first_name: \")\n",
    "    if f_name == \"q\":\n",
    "        break\n",
    "    l_name = input(\"last_name: \")\n",
    "    if l_name == \"q\":\n",
    "        break\n",
    "\n",
    "    formatted_name = get_formatted_name(f_name, l_name)\n",
    "    print(f\"hello {formatted_name}\")\n",
    "\n",
    "\n"
   ]
  },
  {
   "cell_type": "code",
   "execution_count": 9,
   "metadata": {},
   "outputs": [
    {
     "name": "stdout",
     "output_type": "stream",
     "text": [
      "hello Ahsan\n",
      "hello Ali\n",
      "hello Akram\n",
      "hello Muhammad\n"
     ]
    }
   ],
   "source": [
    "# Passing a List\n",
    "# You’ll often find it useful to pass a list to a function, whether it’s a list of \n",
    "# names, numbers, or more complex objects, such as dictionaries\n",
    "\n",
    "def greet_users(names):\n",
    "    for name in names:\n",
    "        msg = f\"hello {name.title()}\"\n",
    "        print(msg)\n",
    "user_names = [\"ahsan\", \"ali\", \"akram\", \"muhammad\"]\n",
    "greet_users(user_names)\n"
   ]
  },
  {
   "cell_type": "code",
   "execution_count": 1,
   "metadata": {},
   "outputs": [
    {
     "name": "stdout",
     "output_type": "stream",
     "text": [
      "printing model squar\n",
      "printing model ractangle\n",
      "printing model circle\n",
      "\n",
      "following models are printed\n",
      "squar\n",
      "ractangle\n",
      "circle\n"
     ]
    }
   ],
   "source": [
    "# Modifying a List in a Function\n",
    "# start with some designs to be printed\n",
    "# now we create a programme\n",
    "\n",
    "unprinted_designs = [\"circle\", \"ractangle\", \"squar\"]\n",
    "completed_models = []\n",
    "\n",
    "# simulate printing each design until none are left.\n",
    "# move each design to completed_models after printing\n",
    "\n",
    "while unprinted_designs:\n",
    "    current_designs = unprinted_designs.pop()\n",
    "    print(f\"printing model {current_designs}\")\n",
    "    completed_models.append(current_designs)\n",
    "\n",
    "# dispaly all completed models\n",
    "print(\"\\nfollowing models are printed\")\n",
    "for completed_model in completed_models:\n",
    "    print(completed_model)"
   ]
  },
  {
   "cell_type": "code",
   "execution_count": 6,
   "metadata": {},
   "outputs": [],
   "source": [
    "# We can reorganize this code by writing two functions, each of which does one specific job.\n",
    "\n",
    "unprinted_designs = [\"circle\", \"trnagle\", \"square\"]\n",
    "completed_models = []\n",
    "\n",
    "def print_models(unprinted_designs, completed_models):\n",
    "    while unprinted_designs:\n",
    "        current_designs = unprinted_designs.pop()\n",
    "        print(f\"printing models: {current_designs}\")\n",
    "        completed_models.append(current_designs)\n",
    "\n",
    "def show_completed_models(completed_models):\n",
    "    print(\"\\nfollowing models are printed\")\n",
    "    for completed_model in completed_models:\n",
    "        print(completed_model)\n"
   ]
  },
  {
   "cell_type": "code",
   "execution_count": 7,
   "metadata": {},
   "outputs": [
    {
     "name": "stdout",
     "output_type": "stream",
     "text": [
      "printing models: square\n",
      "printing models: trnagle\n",
      "printing models: circle\n",
      "\n",
      "following models are printed\n",
      "square\n",
      "trnagle\n",
      "circle\n"
     ]
    }
   ],
   "source": [
    "print_models(unprinted_designs, completed_models)\n",
    "show_completed_models(completed_models)"
   ]
  },
  {
   "cell_type": "code",
   "execution_count": null,
   "metadata": {},
   "outputs": [],
   "source": [
    "# Preventing a Function from Modifying a List\n",
    "# Sometimes you’ll want to prevent a function from modifying a list. For \n",
    "# example, say that you start with a list of unprinted designs and write a \n",
    "# function to move them to a list of completed models, as in the previous example.\n",
    "\n",
    "# The slice notation [:] makes a copy of the list to send to the function. If \n",
    "# we didn’t want to empty the list of unprinted designs in printing_models.py, \n",
    "# we could call print_models() like this:\n",
    "\n",
    "print_models(unprinted_designs[:], completed_models) # this use for the call function\n",
    "\n",
    "# It’s more efficient for a function to \n",
    "# work with an existing list, because this avoids using the time and memory \n",
    "# needed to make a separate copy. This is especially true when working with \n",
    "# large lists.\n"
   ]
  },
  {
   "cell_type": "code",
   "execution_count": 15,
   "metadata": {},
   "outputs": [
    {
     "name": "stdout",
     "output_type": "stream",
     "text": [
      "wellcome\n",
      "call me\n",
      "wait for me\n"
     ]
    }
   ],
   "source": [
    "# practice\n",
    "text_messages = [\"wellcome\", \"call me\", \"wait for me\"]\n",
    "def show_messages(messages):\n",
    "    for message in text_messages:\n",
    "        print(message)\n",
    "show_messages(text_messages)"
   ]
  },
  {
   "cell_type": "code",
   "execution_count": 17,
   "metadata": {},
   "outputs": [
    {
     "name": "stdout",
     "output_type": "stream",
     "text": [
      "sending messages are:\n",
      "wait for me\n",
      "call me\n",
      "wellcome\n",
      "sent messages are:\n",
      "wait for me\n",
      "call me\n",
      "wellcome\n",
      "['wellcome', 'call me', 'wait for me']\n"
     ]
    }
   ],
   "source": [
    "sent_messages = []\n",
    "def send_messages(text_messages, sent_messages):\n",
    "    print(\"sending messages are:\")\n",
    "    while text_messages:\n",
    "        current_messages = text_messages.pop()\n",
    "        print(current_messages)\n",
    "        sent_messages.append(current_messages)\n",
    "    print(\"sent messages are:\")\n",
    "    for sent_message in sent_messages:\n",
    "        print(sent_message)\n",
    "send_messages(text_messages[:], sent_messages)\n",
    "print(text_messages)"
   ]
  },
  {
   "cell_type": "code",
   "execution_count": 20,
   "metadata": {},
   "outputs": [
    {
     "name": "stdout",
     "output_type": "stream",
     "text": [
      "\n",
      "following are the colors of piza:\n",
      "('white', 'green', 'yello', 'purple')\n",
      "\n",
      "following are the colors of piza:\n",
      "('black',)\n"
     ]
    }
   ],
   "source": [
    "# Passing an Arbitrary Number of Arguments\n",
    "# The asterisk in the parameter name *toppings tells Python to make a \n",
    "# tuple called toppings, containing all the values this function receives. The \n",
    "# print() call in the function body produces output showing that Python can \n",
    "# handle a function call with one value and a call with three values. \n",
    "\n",
    "def make_piza(*colors):\n",
    "    print(\"\\nfollowing are the colors of piza:\")\n",
    "    print(colors)\n",
    "make_piza(\"white\", \"green\", \"yello\", \"purple\")\n",
    "make_piza(\"black\")"
   ]
  },
  {
   "cell_type": "code",
   "execution_count": 26,
   "metadata": {},
   "outputs": [
    {
     "name": "stdout",
     "output_type": "stream",
     "text": [
      "\n",
      "following are 16 inches size piza with different colors:\n",
      "('white', 'green', 'yello', 'purple')\n"
     ]
    }
   ],
   "source": [
    "# Mixing Positional and Arbitrary Arguments\n",
    "# If you want a function to accept several different kinds of arguments, the \n",
    "#vparameter that accepts an arbitrary number of arguments must be placed \n",
    "# last in the function definition. Python matches positional and keyword \n",
    "# arguments first and then collects any remaining arguments in the final parameter\n",
    "\n",
    "def make_piza(size, *colors):\n",
    "    print(f\"\\nfollowing are {size} inches size piza with different colors:\")\n",
    "    print(colors)\n",
    "make_piza(16, \"white\", \"green\", \"yello\", \"purple\")"
   ]
  },
  {
   "cell_type": "code",
   "execution_count": 18,
   "metadata": {},
   "outputs": [],
   "source": [
    "# Using Arbitrary Keyword Arguments\n",
    "# Sometimes you’ll want to accept an arbitrary number of arguments, but you \n",
    "# won’t know ahead of time what kind of information will be passed to the function\n",
    "# The double asterisks before the parameter **user_info cause Python to create \n",
    "# a dictionary called user_info containing all the extra name-value pairs the function receives.\n",
    "\n",
    "def build_prof(first, last, **user_info):\n",
    "    user_info[\"first name\"] = first\n",
    "    user_info[\"last name\"] = last\n",
    "    return user_info\n",
    "\n"
   ]
  },
  {
   "cell_type": "code",
   "execution_count": 19,
   "metadata": {},
   "outputs": [
    {
     "data": {
      "text/plain": [
       "{'location': 'khipro',\n",
       " 'feild': 'physics',\n",
       " 'first name': 'ahmed',\n",
       " 'last name': 'ali'}"
      ]
     },
     "execution_count": 19,
     "metadata": {},
     "output_type": "execute_result"
    }
   ],
   "source": [
    "build_prof(\"ahmed\", \"ali\", location = \"khipro\", feild = \"physics\")"
   ]
  },
  {
   "cell_type": "code",
   "execution_count": null,
   "metadata": {},
   "outputs": [],
   "source": [
    "# Importing an Entire Module\n",
    "#create a module. A module is a file ending in .py that contains the code you want to import \n",
    "# into your pro\u0002gram. Let’s make a module that contains the function make_pizza().\n",
    "# module name is pizza.py function def Pizza_pack()\n",
    "# senond file make_pizza.py and import pizza then pizza.pizza_pack()\n",
    "\n",
    "# Importing Specific Functions\n",
    "# write in second file from pizza import piza_pack\n",
    "# or from module_name import function_0, function_1, function_2\n",
    "\n",
    "# Using as to Give a Function an Alias\n",
    "# from pizzz import piza_pazk as pk  then call  pk()\n",
    "\n",
    "# Using as to Give a Module an Alias\n",
    "# import pizza as p then call p.make_pizza()\n",
    "\n",
    "# Importing All Functions in a Module such as from pizza import *"
   ]
  },
  {
   "cell_type": "code",
   "execution_count": null,
   "metadata": {},
   "outputs": [],
   "source": [
    "# Styling Functions\n",
    "# 1 Functions should have descriptive names with lowercase letters and underscores\n",
    "# 2 Module names should use these conventions as well\n",
    "# 3 Every function should have a comment that explains what the function does. \n",
    "# 4 This comment should appear immediately after the function definition and use the docstring format.\n",
    "# 5 If you specify a default value for a parameter, no spaces should be used \n",
    "# on either side of the equal sign: dd=22\n",
    "# 6  same convention should be used for keyword arguments in func\u0002tion calls:\n",
    "# 7 limit lines of code to 79 characters\n",
    "# 8 If a set of parameters causes a function’s definition to \n",
    "# be longer than 79 characters, press ENTER after the opening parenthesis \n",
    "# on the definition line. On the next line, press the TAB key twice to separate \n",
    "# the list of arguments from the body of the function, such as\n",
    "# def function_name(\n",
    "#       parameter_0, parameter_1, parameter_2,\n",
    "#       parameter_3, parameter_4, parameter_5):\n",
    "#   function bod\n",
    "# 9 If your program or module has more than one function, you can sepa\u0002rate each by two blank \n",
    "# lines to make it easier to see where one function ends and the next one begins."
   ]
  }
 ],
 "metadata": {
  "kernelspec": {
   "display_name": "Python 3",
   "language": "python",
   "name": "python3"
  },
  "language_info": {
   "codemirror_mode": {
    "name": "ipython",
    "version": 3
   },
   "file_extension": ".py",
   "mimetype": "text/x-python",
   "name": "python",
   "nbconvert_exporter": "python",
   "pygments_lexer": "ipython3",
   "version": "3.11.4"
  }
 },
 "nbformat": 4,
 "nbformat_minor": 2
}
