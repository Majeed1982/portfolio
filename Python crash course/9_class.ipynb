{
 "cells": [
  {
   "cell_type": "code",
   "execution_count": 2,
   "metadata": {},
   "outputs": [],
   "source": [
    "class Cat:\n",
    "        #\"\"\"A simple attempt to model a dog.\"\"\"\n",
    "\n",
    "    def __init__(self, name, age):\n",
    "        #\"\"\"initialize name and age attribute.\"\"\"\n",
    "        self.name = name\n",
    "        self.age = age\n",
    "    \n",
    "    def sit(self):\n",
    "        #\"\"\"simulate a dog sitting in respnse to a commond.\"\"\"\n",
    "        print(f\"{self.name} in now sitting.\")\n",
    "\n",
    "    def roll_over(self):\n",
    "        #\"\"\"simulate rolling over in response to a commond.\"\"\"\n",
    "        print(f\"{self.name} rolled over!\")\n",
    "\n",
    "\n"
   ]
  },
  {
   "cell_type": "code",
   "execution_count": 3,
   "metadata": {},
   "outputs": [
    {
     "name": "stdout",
     "output_type": "stream",
     "text": [
      "my cat's name is puppi.\n",
      "my cat is 4 years old.\n",
      "puppi in now sitting.\n",
      "puppi rolled over!\n"
     ]
    }
   ],
   "source": [
    "my_cat = Cat(\"puppi\", 4)\n",
    "print(f\"my cat's name is {my_cat.name}.\")\n",
    "print(f\"my cat is {my_cat.age} years old.\")\n",
    "        #\"\"\"Calling Methods After we create an instance from the class Dog, we can use dot notation to call any method defined in Dog\"\"\"\n",
    "my_cat.sit()\n",
    "my_cat.roll_over()"
   ]
  },
  {
   "cell_type": "code",
   "execution_count": 4,
   "metadata": {},
   "outputs": [
    {
     "name": "stdout",
     "output_type": "stream",
     "text": [
      "your cat's name is gul.\n",
      "your cat is 6 years old.\n",
      "gul in now sitting.\n",
      "gul rolled over!\n"
     ]
    }
   ],
   "source": [
    "        #\"\"\"\"Creating Multiple Instances\"\"\"\n",
    "your_cat = Cat(\"gul\", 6)\n",
    "print(f\"your cat's name is {your_cat.name}.\")\n",
    "print(f\"your cat is {your_cat.age} years old.\")\n",
    "your_cat.sit()\n",
    "your_cat.roll_over()"
   ]
  },
  {
   "cell_type": "code",
   "execution_count": 5,
   "metadata": {},
   "outputs": [
    {
     "name": "stdout",
     "output_type": "stream",
     "text": [
      "Restaurant Name: Fine Dining Delight\n",
      "Cuisine Type: Italian\n",
      "Restaurant Name: Fine Dining Delight\n",
      "Cuisine Type: Italian\n",
      "Fine Dining Delight is now open!\n"
     ]
    }
   ],
   "source": [
    "# practice\n",
    "class Restaurant:\n",
    "    def __init__(self, restaurant_name, cuisine_type):\n",
    "        \"\"\"Initialize the Restaurant class with name and cuisine type.\"\"\"\n",
    "        self.restaurant_name = restaurant_name\n",
    "        self.cuisine_type = cuisine_type\n",
    "\n",
    "    def describe_restaurant(self):\n",
    "        \"\"\"Print information about the restaurant.\"\"\"\n",
    "        print(f\"Restaurant Name: {self.restaurant_name}\")\n",
    "        print(f\"Cuisine Type: {self.cuisine_type}\")\n",
    "\n",
    "    def open_restaurant(self):\n",
    "        \"\"\"Print a message indicating that the restaurant is open.\"\"\"\n",
    "        print(f\"{self.restaurant_name} is now open!\")\n",
    "\n",
    "# Create an instance of the Restaurant class\n",
    "restaurant = Restaurant(\"Fine Dining Delight\", \"Italian\")\n",
    "\n",
    "# Print the individual attributes\n",
    "print(f\"Restaurant Name: {restaurant.restaurant_name}\")\n",
    "print(f\"Cuisine Type: {restaurant.cuisine_type}\")\n",
    "\n",
    "# Call the methods\n",
    "restaurant.describe_restaurant()\n",
    "restaurant.open_restaurant()"
   ]
  },
  {
   "cell_type": "code",
   "execution_count": 6,
   "metadata": {},
   "outputs": [
    {
     "name": "stdout",
     "output_type": "stream",
     "text": [
      "user first name: abdul majeed\n",
      "user last name: dars\n",
      "user location: khipro\n",
      "user age: 42\n",
      "welcome to: abdul majeed\n",
      "\n",
      "\n",
      "user first name: ahmed ali\n",
      "user last name: rajar\n",
      "user location: sanghar\n",
      "user age: 34\n",
      "welcome to: ahmed ali\n"
     ]
    }
   ],
   "source": [
    "class User:\n",
    "    def __init__(self, first_name, last_name, location, age):\n",
    "        \"\"\"initialize the User class with first name and other attributes.\"\"\"\n",
    "        self.first_name = first_name\n",
    "        self.last_name = last_name\n",
    "        self.location = location\n",
    "        self.age = age\n",
    "    \n",
    "    def describe_user(self):\n",
    "        \"\"\"print information about user.\"\"\"\n",
    "        print(f\"user first name: {self.first_name}\")\n",
    "        print(f\"user last name: {self.last_name}\")\n",
    "        print(f\"user location: {self.location}\")\n",
    "        print(f\"user age: {self.age}\")\n",
    "\n",
    "    def greet_user(self):\n",
    "        \"\"\"print greeting message to user personally.\"\"\"\n",
    "        print(f\"welcome to: {self.first_name}\")\n",
    "\n",
    "# creaate an instanse of User class\n",
    "user1 = User(\"abdul majeed\", \"dars\", \"khipro\", 42)\n",
    "user2 = User(\"ahmed ali\", \"rajar\", \"sanghar\", 34)\n",
    "\n",
    "# call methods:\n",
    "user1.describe_user()\n",
    "user1.greet_user()\n",
    "print(\"\\n\") # for a line space\n",
    "user2.describe_user()\n",
    "user2.greet_user()\n"
   ]
  },
  {
   "cell_type": "code",
   "execution_count": 7,
   "metadata": {},
   "outputs": [
    {
     "data": {
      "text/plain": [
       "'X 2022 Honda'"
      ]
     },
     "execution_count": 7,
     "metadata": {},
     "output_type": "execute_result"
    }
   ],
   "source": [
    "# The Car class\n",
    "class Car:\n",
    "    \"\"\"A simple attempt to represent a car\"\"\"\n",
    "\n",
    "    def __init__(self, model, year, make):\n",
    "        self.model = model\n",
    "        self.year = year\n",
    "        self.make = make\n",
    "\n",
    "    def descriptive_name(self):\n",
    "        \"\"\"return a neatly formatted descriptive name.\"\"\"\n",
    "        long_name = f\"{self.model} {self.year} {self.make}\"\n",
    "        return(long_name.title())\n",
    "    \n",
    "car1 = Car(\"xl\", 2020, \"suzuki\")\n",
    "car1.descriptive_name()\n",
    "car2 = Car(\"x\", 2022, \"honda\")\n",
    "car2.descriptive_name()\n"
   ]
  },
  {
   "cell_type": "code",
   "execution_count": 8,
   "metadata": {},
   "outputs": [
    {
     "name": "stdout",
     "output_type": "stream",
     "text": [
      "Xl 2020 Suzuki\n",
      "this car has 0 mile on it\n"
     ]
    }
   ],
   "source": [
    "# Setting a Default Value for an Attribute\n",
    "class Car:\n",
    "    \"\"\"A simple attempt to represent a car\"\"\"\n",
    "\n",
    "    def __init__(self, model, year, make):\n",
    "        self.model = model\n",
    "        self.year = year\n",
    "        self.make = make\n",
    "        self.odometer_reading = 0\n",
    "\n",
    "    def descriptive_name(self):\n",
    "        \"\"\"return a neatly formatted descriptive name.\"\"\"\n",
    "        long_name = f\"{self.model} {self.year} {self.make}\"\n",
    "        return(long_name.title())\n",
    "    \n",
    "    def read_odometer(self):\n",
    "        \"\"\"print statement showing car1's mileage.\"\"\"\n",
    "        print(f\"this car has {self.odometer_reading} mile on it\")\n",
    "    \n",
    "car1 = Car(\"xl\", 2020, \"suzuki\")\n",
    "print(car1.descriptive_name())\n",
    "car1.read_odometer()"
   ]
  },
  {
   "cell_type": "code",
   "execution_count": 9,
   "metadata": {},
   "outputs": [
    {
     "name": "stdout",
     "output_type": "stream",
     "text": [
      "Xl 2020 Suzuki\n",
      "this car has 34 mile on it\n"
     ]
    }
   ],
   "source": [
    "# Modifying Attribute Values\n",
    "# The simplest way to modify the value of an attribute is to access the attribute\n",
    "# directly through an instance\n",
    "class Car:\n",
    "    \"\"\"A simple attempt to represent a car\"\"\"\n",
    "\n",
    "    def __init__(self, model, year, make):\n",
    "        self.model = model\n",
    "        self.year = year\n",
    "        self.make = make\n",
    "        self.odometer_reading = 0\n",
    "\n",
    "    def descriptive_name(self):\n",
    "        \"\"\"return a neatly formatted descriptive name.\"\"\"\n",
    "        long_name = f\"{self.model} {self.year} {self.make}\"\n",
    "        return(long_name.title())\n",
    "    \n",
    "    def read_odometer(self):\n",
    "        \"\"\"print statement showing car1's mileage.\"\"\"\n",
    "        print(f\"this car has {self.odometer_reading} mile on it\")\n",
    "    \n",
    "car1 = Car(\"xl\", 2020, \"suzuki\")\n",
    "print(car1.descriptive_name())\n",
    "car1.odometer_reading = 34\n",
    "car1.read_odometer()"
   ]
  },
  {
   "cell_type": "code",
   "execution_count": 10,
   "metadata": {},
   "outputs": [
    {
     "name": "stdout",
     "output_type": "stream",
     "text": [
      "Xl 2020 Suzuki\n",
      "this car has 36 mile on it\n"
     ]
    }
   ],
   "source": [
    "# Modifying an Attribute’s Value Through a Method\n",
    "class Car:\n",
    "    \"\"\"A simple attempt to represent a car\"\"\"\n",
    "\n",
    "    def __init__(self, model, year, make):\n",
    "        self.model = model\n",
    "        self.year = year\n",
    "        self.make = make\n",
    "        self.odometer_reading = 0\n",
    "\n",
    "    def descriptive_name(self):\n",
    "        \"\"\"return a neatly formatted descriptive name.\"\"\"\n",
    "        long_name = f\"{self.model} {self.year} {self.make}\"\n",
    "        return(long_name.title())\n",
    "    \n",
    "    def read_odometer(self):\n",
    "        \"\"\"print statement showing car1's mileage.\"\"\"\n",
    "        print(f\"this car has {self.odometer_reading} mile on it\")\n",
    "\n",
    "    def update_odometer(self, mileage):\n",
    "        \"\"\"set the odometer reading to the given value.\"\"\"\n",
    "        self.odometer_reading = mileage \n",
    "\n",
    "car1 = Car(\"xl\", 2020, \"suzuki\")\n",
    "print(car1.descriptive_name())\n",
    "car1.update_odometer(36)\n",
    "car1.read_odometer()"
   ]
  },
  {
   "cell_type": "code",
   "execution_count": 11,
   "metadata": {},
   "outputs": [
    {
     "name": "stdout",
     "output_type": "stream",
     "text": [
      "Xl 2020 Suzuki\n",
      "you can't roll back the odometer\n",
      "this car has 35 mile on it\n"
     ]
    }
   ],
   "source": [
    "# Modifying an Attribute’s Value Through a Method and with condition\n",
    "class Car:\n",
    "    \"\"\"A simple attempt to represent a car\"\"\"\n",
    "\n",
    "    def __init__(self, model, year, make):\n",
    "        self.model = model\n",
    "        self.year = year\n",
    "        self.make = make\n",
    "        self.odometer_reading = 35\n",
    "\n",
    "    def descriptive_name(self):\n",
    "        \"\"\"return a neatly formatted descriptive name.\"\"\"\n",
    "        long_name = f\"{self.model} {self.year} {self.make}\"\n",
    "        return(long_name.title())\n",
    "    \n",
    "    def read_odometer(self):\n",
    "        \"\"\"print statement showing car1's mileage.\"\"\"\n",
    "        print(f\"this car has {self.odometer_reading} mile on it\")\n",
    "\n",
    "    def update_odometer(self, mileage):\n",
    "        \"\"\"\n",
    "        set the odometer reading to the given value.\n",
    "        reject the change if it attempt to roll the odometer back.\n",
    "        \"\"\"\n",
    "        if mileage >= self.odometer_reading:\n",
    "            self.odometer_reading = mileage\n",
    "        else:\n",
    "            print(\"you can't roll back the odometer\") \n",
    "\n",
    "car1 = Car(\"xl\", 2020, \"suzuki\")\n",
    "print(car1.descriptive_name())\n",
    "car1.update_odometer(33)\n",
    "car1.read_odometer()"
   ]
  },
  {
   "cell_type": "code",
   "execution_count": 12,
   "metadata": {},
   "outputs": [
    {
     "name": "stdout",
     "output_type": "stream",
     "text": [
      "Xl 2020 Suzuki\n",
      "you can't roll back the odometer\n",
      "this car has 35500 mile on it\n",
      "this car has 35600 mile on it\n"
     ]
    }
   ],
   "source": [
    "# Incrementing an Attribute’s Value Through a Method\n",
    "class Car:\n",
    "    \"\"\"A simple attempt to represent a car\"\"\"\n",
    "\n",
    "    def __init__(self, model, year, make):\n",
    "        self.model = model\n",
    "        self.year = year\n",
    "        self.make = make\n",
    "        self.odometer_reading = 35\n",
    "\n",
    "    def descriptive_name(self):\n",
    "        \"\"\"return a neatly formatted descriptive name.\"\"\"\n",
    "        long_name = f\"{self.model} {self.year} {self.make}\"\n",
    "        return(long_name.title())\n",
    "    \n",
    "    def read_odometer(self):\n",
    "        \"\"\"print statement showing car1's mileage.\"\"\"\n",
    "        print(f\"this car has {self.odometer_reading} mile on it\")\n",
    "\n",
    "    def update_odometer(self, mileage):\n",
    "        \"\"\"\n",
    "        set the odometer reading to the given value.\n",
    "        reject the change if it attempt to roll the odometer back.\n",
    "        \"\"\"\n",
    "        self.odometer_reading = mileage\n",
    "        print(\"you can't roll back the odometer\") \n",
    "\n",
    "    def increment_odometer(self, miles):\n",
    "        \"\"\"add the given amount to odometer value.\"\"\"\n",
    "        self.odometer_reading += miles\n",
    "\n",
    "car1 = Car(\"xl\", 2020, \"suzuki\")\n",
    "print(car1.descriptive_name())\n",
    "car1.update_odometer(35500)\n",
    "car1.read_odometer()\n",
    "car1.increment_odometer(100)\n",
    "car1.read_odometer()"
   ]
  },
  {
   "cell_type": "code",
   "execution_count": 13,
   "metadata": {},
   "outputs": [
    {
     "name": "stdout",
     "output_type": "stream",
     "text": [
      "sindhu khipro has served to 67 customers.\n"
     ]
    }
   ],
   "source": [
    "# practice\n",
    "class Restaurant:\n",
    "    def __init__(self, name, location):\n",
    "        self.name = name\n",
    "        self.location = location\n",
    "        self.served_numbers = 40\n",
    "\n",
    "    def get_served_numbers(self):\n",
    "        print(f\"{self.name} {self.location} has served to {self.served_numbers} customers.\")\n",
    "\n",
    "    def update_served_numbers(self, numbers):\n",
    "        self.served_numbers = numbers\n",
    "        \n",
    "\n",
    "restaurant = Restaurant(\"sindhu\", \"khipro\")\n",
    "\n",
    "restaurant.update_served_numbers(67)\n",
    "restaurant.get_served_numbers()"
   ]
  },
  {
   "cell_type": "code",
   "execution_count": 14,
   "metadata": {},
   "outputs": [
    {
     "data": {
      "text/plain": [
       "'\\nYou don’t always have to start from scratch when writing a class. If the class \\nyou’re writing is a specialized version of another class you wrote, you can \\nuse inheritance. When one class inherits from another, it takes on the \\nattri\\x02butes and methods of the first class. The original class is called the parent \\nclass, and the new class is the child class. The child class can inherit any \\nor all of the attributes and methods of its parent class, but it’s also free to \\ndefine new attributes and methods of its own.\\n'"
      ]
     },
     "execution_count": 14,
     "metadata": {},
     "output_type": "execute_result"
    }
   ],
   "source": [
    "# inheritance\n",
    "\"\"\"\n",
    "You don’t always have to start from scratch when writing a class. If the class \n",
    "you’re writing is a specialized version of another class you wrote, you can \n",
    "use inheritance. When one class inherits from another, it takes on the \n",
    "attri\u0002butes and methods of the first class. The original class is called the parent \n",
    "class, and the new class is the child class. The child class can inherit any \n",
    "or all of the attributes and methods of its parent class, but it’s also free to \n",
    "define new attributes and methods of its own.\n",
    "\"\"\"\n"
   ]
  },
  {
   "cell_type": "code",
   "execution_count": 15,
   "metadata": {},
   "outputs": [
    {
     "data": {
      "text/plain": [
       "'Nissan Leaf 2024'"
      ]
     },
     "execution_count": 15,
     "metadata": {},
     "output_type": "execute_result"
    }
   ],
   "source": [
    "# The __init__() Method for a Child Class\n",
    "class Car:\n",
    "    \"\"\"A simple attempt to represent a car\"\"\"\n",
    "\n",
    "    def __init__(self, model, year, make):\n",
    "        self.model = model\n",
    "        self.year = year\n",
    "        self.make = make\n",
    "        self.odometer_reading = 35\n",
    "\n",
    "    def descriptive_name(self):\n",
    "        \"\"\"return a neatly formatted descriptive name.\"\"\"\n",
    "        long_name = f\"{self.model} {self.year} {self.make}\"\n",
    "        return(long_name.title())\n",
    "    \n",
    "    def read_odometer(self):\n",
    "        \"\"\"print statement showing car1's mileage.\"\"\"\n",
    "        print(f\"this car has {self.odometer_reading} mile on it\")\n",
    "\n",
    "    def update_odometer(self, mileage):\n",
    "        \"\"\"\n",
    "        set the odometer reading to the given value.\n",
    "        reject the change if it attempt to roll the odometer back.\n",
    "        \"\"\"\n",
    "        self.odometer_reading = mileage\n",
    "        print(\"you can't roll back the odometer\") \n",
    "\n",
    "    def increment_odometer(self, miles):\n",
    "        \"\"\"add the given amount to odometer value.\"\"\"\n",
    "        self.odometer_reading += miles\n",
    "\n",
    "class ElectricCar(Car):\n",
    "    \"\"\"Represent aspecta of a car, specific to electric vehicles.\"\"\"\n",
    "\n",
    "    def __init__(self, make, model, year):\n",
    "        \"\"\"initialize attributes of the parent class.\"\"\"\n",
    "        super().__init__(make, model, year)\n",
    "\n",
    "my_leaf = ElectricCar(\"nissan\", \"leaf\", 2024)\n",
    "my_leaf.descriptive_name()\n"
   ]
  },
  {
   "cell_type": "code",
   "execution_count": 16,
   "metadata": {},
   "outputs": [
    {
     "name": "stdout",
     "output_type": "stream",
     "text": [
      "Nissan Leaf 2024\n",
      "This car has a 40-kwh battery.\n"
     ]
    }
   ],
   "source": [
    "# # Defining Attributes and Methods for the Child Class\n",
    "#class Car:\n",
    "    #--snip--\n",
    "\n",
    "class ElectricCar(Car):\n",
    "    \"\"\"Represent aspecta of a car, specific to electric vehicles.\"\"\"\n",
    "\n",
    "    def __init__(self, make, model, year):\n",
    "        \"\"\"initialize attributes of the parent class.\"\"\"\n",
    "        \"\"\"then initialize the attributes specific to an electric car.\"\"\"\n",
    "        super().__init__(make, model, year)\n",
    "        self.battery_size = 40\n",
    "\n",
    "    def describe_battery(self):\n",
    "        \"\"\"print a statement describing the battery size.\"\"\"\n",
    "        print(f\"This car has a {self.battery_size}-kwh battery.\")\n",
    "\n",
    "my_leaf = ElectricCar(\"nissan\", \"leaf\", 2024)\n",
    "print(my_leaf.descriptive_name())\n",
    "my_leaf.describe_battery()\n"
   ]
  },
  {
   "cell_type": "code",
   "execution_count": 17,
   "metadata": {},
   "outputs": [
    {
     "name": "stdout",
     "output_type": "stream",
     "text": [
      "Generic animal sound\n",
      "Woof! Woof!\n",
      "Meow\n"
     ]
    }
   ],
   "source": [
    "# Overriding Methods from the Parent Class\n",
    "\n",
    "class Animal:\n",
    "    def speak(self):\n",
    "        print(\"Generic animal sound\")\n",
    "\n",
    "class Dog(Animal):\n",
    "    def speak(self):\n",
    "        print(\"Woof! Woof!\")\n",
    "\n",
    "class Cat(Animal):\n",
    "    def speak(self):\n",
    "        print(\"Meow\")\n",
    "\n",
    "# Creating objects\n",
    "animal = Animal()\n",
    "dog = Dog()\n",
    "cat = Cat()\n",
    "\n",
    "# Calling methods\n",
    "animal.speak()  # Output: Generic animal sound\n",
    "dog.speak()     # Output: Woof! Woof!\n",
    "cat.speak()     # Output: Meow\n"
   ]
  },
  {
   "cell_type": "code",
   "execution_count": 21,
   "metadata": {},
   "outputs": [
    {
     "name": "stdout",
     "output_type": "stream",
     "text": [
      "This battery has a 40-kwh battery.\n"
     ]
    }
   ],
   "source": [
    "# Instances as Attributes\n",
    "# composition break large class into smaller classes that work together.\n",
    "class Battery:\n",
    "    \"\"\"A simple attempt to model a battery for an electric car.\"\"\"\n",
    "    def __init__(self, battery_size=40):\n",
    "        \"\"\"Initialize the battery's attributes.\"\"\"\n",
    "        self.battery_size = battery_size\n",
    "\n",
    "    def describe_battery(self):\n",
    "        \"\"\"print a statement describing battery size.\"\"\"\n",
    "        print(f\"This battery has a {self.battery_size}-kwh battery.\")\n",
    "\n",
    "\n",
    "class ElectricCar(Car):\n",
    "    \"\"\"Represent aspecta of a car, specific to electric vehicles.\"\"\"\n",
    "\n",
    "    def __init__(self, make, model, year):\n",
    "        \"\"\"initialize attributes of the parent class.\"\"\"\n",
    "        super().__init__(make, model, year)\n",
    "        self.battery = Battery()\n",
    "\n",
    "my_leaf = ElectricCar(\"nissan\", \"leaf\", 2024)\n",
    "my_leaf.descriptive_name()\n",
    "my_leaf.battery.describe_battery()"
   ]
  },
  {
   "cell_type": "code",
   "execution_count": 33,
   "metadata": {},
   "outputs": [
    {
     "ename": "AttributeError",
     "evalue": "'Battery' object has no attribute 'describe_battery'",
     "output_type": "error",
     "traceback": [
      "\u001b[1;31m---------------------------------------------------------------------------\u001b[0m",
      "\u001b[1;31mAttributeError\u001b[0m                            Traceback (most recent call last)",
      "Cell \u001b[1;32mIn[33], line 14\u001b[0m\n\u001b[0;32m     12\u001b[0m my_leaf \u001b[38;5;241m=\u001b[39m ElectricCar(\u001b[38;5;124m\"\u001b[39m\u001b[38;5;124mnissan\u001b[39m\u001b[38;5;124m\"\u001b[39m, \u001b[38;5;124m\"\u001b[39m\u001b[38;5;124mleaf\u001b[39m\u001b[38;5;124m\"\u001b[39m, \u001b[38;5;241m2024\u001b[39m)\n\u001b[0;32m     13\u001b[0m my_leaf\u001b[38;5;241m.\u001b[39mdescriptive_name()\n\u001b[1;32m---> 14\u001b[0m \u001b[43mmy_leaf\u001b[49m\u001b[38;5;241;43m.\u001b[39;49m\u001b[43mbattery\u001b[49m\u001b[38;5;241;43m.\u001b[39;49m\u001b[43mdescribe_battery\u001b[49m()\n\u001b[0;32m     15\u001b[0m my_leaf\u001b[38;5;241m.\u001b[39mbattery\u001b[38;5;241m.\u001b[39mget_range()\n",
      "\u001b[1;31mAttributeError\u001b[0m: 'Battery' object has no attribute 'describe_battery'"
     ]
    }
   ],
   "source": [
    "# now we can describe the battery in as much detail as we want \n",
    "#without cluttering the ElectricCar class\n",
    "\n",
    "class Battery:\n",
    "    def get_range(self):\n",
    "        if self.battery_size == 40:\n",
    "            range = 150\n",
    "        elif self.battery_size == 65:\n",
    "            range = 225\n",
    "        print(f\"This car can go about {range} miles on full charge.\")\n",
    "\n",
    "my_leaf = ElectricCar(\"nissan\", \"leaf\", 2024)\n",
    "my_leaf.descriptive_name()\n",
    "my_leaf.battery.describe_battery()\n",
    "my_leaf.battery.get_range()\n",
    "    "
   ]
  },
  {
   "cell_type": "code",
   "execution_count": null,
   "metadata": {},
   "outputs": [],
   "source": [
    "# Styling Classes\n",
    "# 1 Class names should be written in CamelCase. to do this, capitalize the \n",
    "    # first letter of each word in the name, and don’t use underscores\n",
    "# 2 Instance and module names should be written in lowercase,\n",
    "    # with underscores between words\n",
    "# 3 Every class should have a docstring immediately \n",
    "    # following the class definition.\n",
    "# 4 Each module should also have a docstring describ\u0002ing what the classes \n",
    "    # in a module can be used for.\n",
    "# 4 Within a class you can use one blank line between methods, and within a \n",
    "    # module you can use two blank lines to separate classes.\n",
    "# 5 If you need to import a module from the standard library and a module \n",
    "    # that you wrote, place the import statement for the standard library \n",
    "    # module first. Then add a blank line and the import statement for the \n",
    "    # module you wrote"
   ]
  },
  {
   "cell_type": "code",
   "execution_count": null,
   "metadata": {},
   "outputs": [],
   "source": []
  },
  {
   "cell_type": "code",
   "execution_count": null,
   "metadata": {},
   "outputs": [],
   "source": []
  },
  {
   "cell_type": "code",
   "execution_count": null,
   "metadata": {},
   "outputs": [],
   "source": []
  },
  {
   "cell_type": "code",
   "execution_count": null,
   "metadata": {},
   "outputs": [],
   "source": []
  },
  {
   "cell_type": "code",
   "execution_count": null,
   "metadata": {},
   "outputs": [],
   "source": []
  }
 ],
 "metadata": {
  "kernelspec": {
   "display_name": "Python 3",
   "language": "python",
   "name": "python3"
  },
  "language_info": {
   "codemirror_mode": {
    "name": "ipython",
    "version": 3
   },
   "file_extension": ".py",
   "mimetype": "text/x-python",
   "name": "python",
   "nbconvert_exporter": "python",
   "pygments_lexer": "ipython3",
   "version": "3.11.4"
  }
 },
 "nbformat": 4,
 "nbformat_minor": 2
}
