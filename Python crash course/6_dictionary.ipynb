{
 "cells": [
  {
   "cell_type": "code",
   "execution_count": 7,
   "metadata": {},
   "outputs": [
    {
     "name": "stdout",
     "output_type": "stream",
     "text": [
      "white\n",
      "5\n",
      "you just earned 5 points.\n"
     ]
    }
   ],
   "source": [
    "# dictionaries\n",
    "ahmed = {'color': 'white', \"points\": 5}\n",
    "print(ahmed['color'])\n",
    "print(ahmed['points'])\n",
    "new_points = ahmed['points']\n",
    "print(f\"you just earned {new_points} points.\")"
   ]
  },
  {
   "cell_type": "code",
   "execution_count": 10,
   "metadata": {},
   "outputs": [
    {
     "name": "stdout",
     "output_type": "stream",
     "text": [
      "{'color': 'white', 'points': 5, 'x_value': 25, 'y_value': 100}\n"
     ]
    }
   ],
   "source": [
    "# Adding New Key-Value Pairs\n",
    "ahmed['x_value'] = 25\n",
    "ahmed['y_value'] = 100\n",
    "print(ahmed)"
   ]
  },
  {
   "cell_type": "code",
   "execution_count": 18,
   "metadata": {},
   "outputs": [
    {
     "name": "stdout",
     "output_type": "stream",
     "text": [
      "{'hieght': 5}\n",
      "saleem hieght is 7 feet.\n"
     ]
    }
   ],
   "source": [
    "# Starting with an Empty Dictionary then add key value\n",
    "saleem = {}\n",
    "saleem[\"hieght\"] = 5\n",
    "print(saleem)\n",
    "# Modifying Values in a Dictionary\n",
    "saleem = {\"hieght\": 7}\n",
    "print(f\"saleem hieght is {saleem['hieght']} feet.\")"
   ]
  },
  {
   "cell_type": "code",
   "execution_count": 6,
   "metadata": {},
   "outputs": [
    {
     "name": "stdout",
     "output_type": "stream",
     "text": [
      "new position: 2\n"
     ]
    }
   ],
   "source": [
    "car = {\"x_position\": 0, \"y_position\": 25, \"speed\": \"medium\"}\n",
    "if car[\"speed\"] == \"slow\":\n",
    "    x_increment = 1\n",
    "elif car[\"speed\"] == \"medium\":\n",
    "    x_increment = 2\n",
    "else:\n",
    "    x_increment = 3\n",
    "car[\"x_position\"] = car[\"x_position\"] + x_increment\n",
    "print(f\"new position: {car['x_position']}\")"
   ]
  },
  {
   "cell_type": "code",
   "execution_count": 8,
   "metadata": {},
   "outputs": [
    {
     "name": "stdout",
     "output_type": "stream",
     "text": [
      "{'color': 'white', 'weight': 9}\n",
      "{'weight': 9}\n"
     ]
    }
   ],
   "source": [
    "# Removing Key-Value Pairs\n",
    "sanam = {\"color\": \"white\", \"weight\": 9}\n",
    "print(sanam)\n",
    "del sanam['color']\n",
    "print(sanam)"
   ]
  },
  {
   "cell_type": "code",
   "execution_count": 12,
   "metadata": {},
   "outputs": [
    {
     "name": "stdout",
     "output_type": "stream",
     "text": [
      "{'ahmed': 'python', 'aslam': 'c plus', 'sanam': 'r'}\n",
      "sanam favourite language is R.\n"
     ]
    }
   ],
   "source": [
    "favourite_languages = {\n",
    "    \"ahmed\": \"python\",\n",
    "    \"aslam\": \"c plus\",\n",
    "    \"sanam\": \"r\",\n",
    "}\n",
    "print(favourite_languages)\n",
    "language = favourite_languages[\"sanam\"].title()\n",
    "print(f\"sanam favourite language is {language}.\")"
   ]
  },
  {
   "cell_type": "code",
   "execution_count": 20,
   "metadata": {},
   "outputs": [
    {
     "name": "stdout",
     "output_type": "stream",
     "text": [
      "{'color': 'white', 'weight': 9}\n",
      "white\n",
      "no point value assigned\n"
     ]
    }
   ],
   "source": [
    "sanam = {\"color\": \"white\", \"weight\": 9}\n",
    "print(sanam)\n",
    "print(sanam[\"color\"])\n",
    "# print(sanam[\"points\"])\n",
    "point_value =sanam.get(\"points\", \"no point value assigned\")\n",
    "print(point_value)\n",
    "# If the key 'points' exists in the dictionary, you’ll get the corresponding \n",
    "# value. If it doesn’t, you get the default value. In this case, points \n",
    "# doesn’t exist, and we get a clean message instead of an error:"
   ]
  },
  {
   "cell_type": "code",
   "execution_count": 23,
   "metadata": {},
   "outputs": [
    {
     "name": "stdout",
     "output_type": "stream",
     "text": [
      "{'first_name': 'ahmed', 'second_name': 'ali', 'last_name': 'dars'}\n",
      "\n",
      "key: first_name\n",
      "value: ahmed\n",
      "\n",
      "key: second_name\n",
      "value: ali\n",
      "\n",
      "key: last_name\n",
      "value: dars\n"
     ]
    }
   ],
   "source": [
    "user1 = {\n",
    "    \"first_name\": \"ahmed\",\n",
    "    \"second_name\": \"ali\",\n",
    "    \"last_name\": \"dars\"\n",
    "}\n",
    "print(user1)\n",
    "for key, value in user1.items():\n",
    "    print(f\"\\nkey: {key}\")\n",
    "    print(f\"value: {value}\")"
   ]
  },
  {
   "cell_type": "code",
   "execution_count": 24,
   "metadata": {},
   "outputs": [
    {
     "name": "stdout",
     "output_type": "stream",
     "text": [
      "\n",
      "key: last_name\n",
      "value: dars\n",
      "\n",
      "key: last_name\n",
      "value: dars\n",
      "\n",
      "key: last_name\n",
      "value: dars\n"
     ]
    }
   ],
   "source": [
    "for k, v in user1.items():\n",
    "    print(f\"\\nkey: {key}\")\n",
    "    print(f\"value: {value}\")"
   ]
  },
  {
   "cell_type": "code",
   "execution_count": 31,
   "metadata": {},
   "outputs": [
    {
     "name": "stdout",
     "output_type": "stream",
     "text": [
      "{'ahmed': 'python', 'aslam': 'c plus', 'sanam': 'r'}\n",
      "sanam favourite language is R.\n",
      "\n",
      "Ahmed's favourite language is Python.\n",
      "Aslam's favourite language is C Plus.\n",
      "Sanam's favourite language is R.\n"
     ]
    }
   ],
   "source": [
    "favourite_languages = {\n",
    "    \"ahmed\": \"python\",\n",
    "    \"aslam\": \"c plus\",\n",
    "    \"sanam\": \"r\",\n",
    "}\n",
    "print(favourite_languages)\n",
    "language = favourite_languages[\"sanam\"].title()\n",
    "print(f\"sanam favourite language is {language}.\\n\")\n",
    "for name, language in favourite_languages.items():\n",
    "    print(f\"{name.title()}'s favourite language is {language.title()}.\")"
   ]
  },
  {
   "cell_type": "code",
   "execution_count": 36,
   "metadata": {},
   "outputs": [
    {
     "name": "stdout",
     "output_type": "stream",
     "text": [
      "Ahmed\n",
      "Aslam\n",
      "Sanam\n",
      "Python\n",
      "C Plus\n",
      "R\n"
     ]
    }
   ],
   "source": [
    "\n",
    "for name in favourite_languages.keys():# for name in favourite_languages.keys():\n",
    "    print(name.title()) # you can use language without keys()as default \n",
    "for language in favourite_languages.values():\n",
    "    print(language.title())"
   ]
  },
  {
   "cell_type": "code",
   "execution_count": 1,
   "metadata": {},
   "outputs": [
    {
     "name": "stdout",
     "output_type": "stream",
     "text": [
      "hi Ahmed!\n",
      "hi Aslam!\n",
      "hi Sanam!\n",
      "\tSanam, I see you R!\n"
     ]
    }
   ],
   "source": [
    "favourite_languages = {\n",
    "    \"ahmed\": \"python\",\n",
    "    \"aslam\": \"c plus\",\n",
    "    \"sanam\": \"r\",\n",
    "}\n",
    "friends = [\"ali\", \"sanam\"]\n",
    "for name in favourite_languages.keys():\n",
    "    print(f'hi {name.title()}!')\n",
    "    if name in friends:\n",
    "        language = favourite_languages[name].title()\n",
    "        print(f\"\\t{name.title()}, I see you {language}!\")"
   ]
  },
  {
   "cell_type": "code",
   "execution_count": 2,
   "metadata": {},
   "outputs": [
    {
     "name": "stdout",
     "output_type": "stream",
     "text": [
      "shah, please take our pool.\n"
     ]
    }
   ],
   "source": [
    "if \"shah\" not in favourite_languages.keys():\n",
    "    print(\"shah, please take our pool.\")"
   ]
  },
  {
   "cell_type": "code",
   "execution_count": 4,
   "metadata": {},
   "outputs": [
    {
     "name": "stdout",
     "output_type": "stream",
     "text": [
      "Ahmed, thank you for taking pool!\n",
      "Aslam, thank you for taking pool!\n",
      "Sanam, thank you for taking pool!\n"
     ]
    }
   ],
   "source": [
    "# Looping Through a Dictionary’s Keys in a Particular Order\n",
    "for name in sorted(favourite_languages.keys()):  # sorted function\n",
    "    print(f\"{name.title()}, thank you for taking pool!\")"
   ]
  },
  {
   "cell_type": "code",
   "execution_count": 6,
   "metadata": {},
   "outputs": [
    {
     "name": "stdout",
     "output_type": "stream",
     "text": [
      "the following languages are mentioned.\n",
      "Python\n",
      "C Plus\n",
      "R\n"
     ]
    }
   ],
   "source": [
    "# Looping Through All Values in a Dictionary\n",
    "print(\"the following languages are mentioned.\")\n",
    "for language in favourite_languages.values():\n",
    "    print(language.title())"
   ]
  },
  {
   "cell_type": "code",
   "execution_count": 8,
   "metadata": {},
   "outputs": [
    {
     "name": "stdout",
     "output_type": "stream",
     "text": [
      "Python\n",
      "C Plus\n",
      "R\n"
     ]
    }
   ],
   "source": [
    "# in above statement, the result will be in a very repetitive list. \n",
    "# To see each language chosen without repetition, we can use a set. \n",
    "# A set is a collection in which each item must be unique:\n",
    "for language in set(favourite_languages.values()):\n",
    "    print(language.title())"
   ]
  },
  {
   "cell_type": "code",
   "execution_count": 9,
   "metadata": {},
   "outputs": [
    {
     "data": {
      "text/plain": [
       "{'c plus', 'jawa', 'python'}"
      ]
     },
     "execution_count": 9,
     "metadata": {},
     "output_type": "execute_result"
    }
   ],
   "source": [
    "# set\n",
    "set1 = {\"python\", 'c plus', \"jawa\"}\n",
    "set1"
   ]
  }
 ],
 "metadata": {
  "kernelspec": {
   "display_name": "Python 3",
   "language": "python",
   "name": "python3"
  },
  "language_info": {
   "codemirror_mode": {
    "name": "ipython",
    "version": 3
   },
   "file_extension": ".py",
   "mimetype": "text/x-python",
   "name": "python",
   "nbconvert_exporter": "python",
   "pygments_lexer": "ipython3",
   "version": "3.11.4"
  }
 },
 "nbformat": 4,
 "nbformat_minor": 2
}
