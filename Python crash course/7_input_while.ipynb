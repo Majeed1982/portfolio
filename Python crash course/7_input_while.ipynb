{
 "cells": [
  {
   "cell_type": "code",
   "execution_count": 4,
   "metadata": {},
   "outputs": [
    {
     "name": "stdout",
     "output_type": "stream",
     "text": [
      "wellcome\n"
     ]
    }
   ],
   "source": [
    "message = input(\"tell me something, and I will repeat it back to you: \")\n",
    "print(message)"
   ]
  },
  {
   "cell_type": "code",
   "execution_count": 6,
   "metadata": {},
   "outputs": [
    {
     "name": "stdout",
     "output_type": "stream",
     "text": [
      "hello, ahmed how are youW!\n"
     ]
    }
   ],
   "source": [
    "message = input(\"Please enter your name: \")\n",
    "print(f\"hello, {message} how are youW!\")"
   ]
  },
  {
   "cell_type": "code",
   "execution_count": 9,
   "metadata": {},
   "outputs": [
    {
     "name": "stdout",
     "output_type": "stream",
     "text": [
      "hello, saleem\n"
     ]
    }
   ],
   "source": [
    "# Sometimes you’ll want to write a prompt that’s longer than one line. \n",
    "# You can assign your prompt to a variable and pass that variable to the \n",
    "# input() function.\n",
    "prompt = \"If you share your name I personalize the message you see\"\n",
    "prompt += \"what is your name: \"\n",
    "name = input(prompt)\n",
    "print(f\"hello, {name}\")"
   ]
  },
  {
   "cell_type": "code",
   "execution_count": 6,
   "metadata": {},
   "outputs": [
    {
     "name": "stdout",
     "output_type": "stream",
     "text": [
      "12\n"
     ]
    },
    {
     "data": {
      "text/plain": [
       "True"
      ]
     },
     "execution_count": 6,
     "metadata": {},
     "output_type": "execute_result"
    }
   ],
   "source": [
    "# Python interpreted the input as a string\n",
    "# Using int() to Accept Numerical Input\n",
    "age = input(\"how old are you: \")\n",
    "print(age)\n",
    "age = int(age)\n",
    "age <= 15"
   ]
  },
  {
   "cell_type": "code",
   "execution_count": 8,
   "metadata": {},
   "outputs": [
    {
     "name": "stdout",
     "output_type": "stream",
     "text": [
      "you will be able to ride when you are a little older\n"
     ]
    }
   ],
   "source": [
    "height = input(\"how tall are yoy, in inches: \")\n",
    "height = int(height)\n",
    "if height >= 48:\n",
    "    print(\"you are able to ride.\")\n",
    "else:\n",
    "    print(\"you will be able to ride when you are a little older\")"
   ]
  },
  {
   "cell_type": "code",
   "execution_count": 20,
   "metadata": {},
   "outputs": [
    {
     "name": "stdout",
     "output_type": "stream",
     "text": [
      "\tthe number 4556 is even\n"
     ]
    }
   ],
   "source": [
    "# modulo operator (%), which divides one number by another number and \n",
    "# returns the remainder When one number is divisible by another number, \n",
    "# the remainder is 0, so the modulo operator always returns 0. \n",
    "# You can use this fact to determine if number is even or odd\n",
    "\n",
    "number = input(\"enter a number and i'll tell you if it is even or odd: \")\n",
    "number = int(number)\n",
    "if number % 2 == 0:\n",
    "    print(f\"\\tthe number {number} is even\")\n",
    "else:\n",
    "    print(f\"\\tthe number {number} is odd\")"
   ]
  },
  {
   "cell_type": "code",
   "execution_count": 21,
   "metadata": {},
   "outputs": [
    {
     "name": "stdout",
     "output_type": "stream",
     "text": [
      "let me see if I can find you a mehran\n"
     ]
    }
   ],
   "source": [
    "# practice\n",
    "rental_car = input(\"what kind of rental car would you like: \")\n",
    "print(f\"let me see if I can find you a {rental_car}\")\n"
   ]
  },
  {
   "cell_type": "code",
   "execution_count": 23,
   "metadata": {},
   "outputs": [
    {
     "name": "stdout",
     "output_type": "stream",
     "text": [
      "your table is ready.\n"
     ]
    }
   ],
   "source": [
    "# practice\n",
    "dinner = input(\"How many people are in your dinner group: \")\n",
    "dinner = int(dinner)\n",
    "if dinner >= 8:\n",
    "    print(\"they will have to wait a table.\")\n",
    "else:\n",
    "    print(\"your table is ready.\")"
   ]
  },
  {
   "cell_type": "code",
   "execution_count": 25,
   "metadata": {},
   "outputs": [
    {
     "name": "stdout",
     "output_type": "stream",
     "text": [
      "2340 is multiple of ten.\n"
     ]
    }
   ],
   "source": [
    "# practice facter of ten are 1 2 5 and multiple of ten are 20 30 etc.\n",
    "multiple_of_ten = input(\"enter a number and I'll tell you that number is multiple of ten ot not: \")\n",
    "multiple_of_ten =int(multiple_of_ten)\n",
    "if multiple_of_ten % 10 == 0:\n",
    "    print(f\"{multiple_of_ten} is multiple of ten.\")\n",
    "else:\n",
    "    print(f\"{multiple_of_ten} is not multiple of ten.\")"
   ]
  },
  {
   "cell_type": "code",
   "execution_count": 27,
   "metadata": {},
   "outputs": [
    {
     "name": "stdout",
     "output_type": "stream",
     "text": [
      "1\n",
      "2\n",
      "3\n",
      "4\n",
      "5\n"
     ]
    }
   ],
   "source": [
    "# while loop runs as long as, or while, a certain condition is true\n",
    "current_number = 1\n",
    "while current_number <= 5:\n",
    "    print(current_number)\n",
    "    current_number += 1"
   ]
  },
  {
   "cell_type": "code",
   "execution_count": 32,
   "metadata": {},
   "outputs": [
    {
     "name": "stdout",
     "output_type": "stream",
     "text": [
      "sdfd\n",
      "sdddf\n",
      "ddff\n",
      "quit\n"
     ]
    }
   ],
   "source": [
    "prompt = \"tell me something and I will repeat back to you:\"\n",
    "prompt += \"enter 'quit' to end.\"\n",
    "message = \"\"\n",
    "while message != \"quit\":\n",
    "    message = input(prompt)\n",
    "    print(message)"
   ]
  },
  {
   "cell_type": "code",
   "execution_count": 2,
   "metadata": {},
   "outputs": [
    {
     "name": "stdout",
     "output_type": "stream",
     "text": [
      "eeee\n",
      "dfg\n"
     ]
    }
   ],
   "source": [
    "# flag\n",
    "# For a program that should run only as long as many conditions are true, you can define \n",
    "# one variable that determines whether or not the entire program is active. \n",
    "# This variable, called a flag\n",
    "prompt = \"\"\n",
    "active = True\n",
    "while active:\n",
    "    message = input(prompt)\n",
    "    if message == \"quit\":\n",
    "        active = False\n",
    "    else:\n",
    "        print(message)"
   ]
  },
  {
   "cell_type": "code",
   "execution_count": 7,
   "metadata": {},
   "outputs": [
    {
     "name": "stdout",
     "output_type": "stream",
     "text": [
      "I would like to go Sangher\n",
      "I would like to go Khipro\n",
      "I would like to go Dado\n"
     ]
    }
   ],
   "source": [
    "prompt = \"please enter the name of city you visited.\" # Using break statement to Exit a Loop\n",
    "prompt += \"enter 'quit' to exit while loop.\"\n",
    "while True:\n",
    "    city = input(prompt)\n",
    "    if city == \"quit\":\n",
    "        break\n",
    "    else:\n",
    "        print(f\"I would like to go {city.title()}\")\n"
   ]
  },
  {
   "cell_type": "code",
   "execution_count": 28,
   "metadata": {},
   "outputs": [
    {
     "name": "stdout",
     "output_type": "stream",
     "text": [
      "1\n",
      "2\n",
      "3\n",
      "4\n",
      "5\n",
      "6\n"
     ]
    }
   ],
   "source": [
    "current_number = 0\n",
    "while current_number <= 5:\n",
    "    current_number += 1\n",
    "    print(current_number)\n",
    "    "
   ]
  },
  {
   "cell_type": "code",
   "execution_count": null,
   "metadata": {},
   "outputs": [
    {
     "name": "stdout",
     "output_type": "stream",
     "text": [
      "2\n",
      "4\n",
      "6\n"
     ]
    }
   ],
   "source": [
    "current_number = 0\n",
    "while current_number <= 5:\n",
    "    current_number += 1\n",
    "    if current_number % 2 == 0:\n",
    "        print(current_number)\n",
    "    "
   ]
  },
  {
   "cell_type": "code",
   "execution_count": 29,
   "metadata": {},
   "outputs": [
    {
     "name": "stdout",
     "output_type": "stream",
     "text": [
      "1\n",
      "3\n",
      "5\n"
     ]
    }
   ],
   "source": [
    "# Using continue in a Loop\n",
    "# you can use the continue statement to return to the beginning of the \n",
    "# loop, based on the result of a conditional test\n",
    "current_number = 0   \n",
    "while current_number <= 5:\n",
    "    current_number += 1\n",
    "    if current_number % 2 == 0:\n",
    "        continue\n",
    "    print(current_number)\n",
    "    "
   ]
  },
  {
   "cell_type": "code",
   "execution_count": 25,
   "metadata": {},
   "outputs": [
    {
     "name": "stdout",
     "output_type": "stream",
     "text": [
      "0\n",
      "1\n",
      "2\n",
      "3\n",
      "4\n",
      "5\n"
     ]
    }
   ],
   "source": [
    "current_number = 0\n",
    "while current_number <= 5:\n",
    "    \n",
    "    print(current_number)\n",
    "    current_number += 1"
   ]
  },
  {
   "cell_type": "code",
   "execution_count": 7,
   "metadata": {},
   "outputs": [
    {
     "name": "stdout",
     "output_type": "stream",
     "text": [
      "vrifying users: Usman\n",
      "vrifying users: Ali\n",
      "vrifying users: Ahmed\n"
     ]
    },
    {
     "data": {
      "text/plain": [
       "['usman', 'ali', 'ahmed']"
      ]
     },
     "execution_count": 7,
     "metadata": {},
     "output_type": "execute_result"
    }
   ],
   "source": [
    "# Using a while Loop with Lists and Dictionaries\n",
    "# Moving Items from One List to Another\n",
    "\n",
    "unconfirmed_users = [\"ahmed\", \"ali\", \"usman\"]\n",
    "confirmed_users = [  ]\n",
    "while unconfirmed_users:\n",
    "    current_users = unconfirmed_users.pop()\n",
    "    print(f\"vrifying users: {current_users.title()}\")\n",
    "    confirmed_users.append(current_users)\n",
    "confirmed_users\n"
   ]
  },
  {
   "cell_type": "code",
   "execution_count": 9,
   "metadata": {},
   "outputs": [
    {
     "name": "stdout",
     "output_type": "stream",
     "text": [
      "['cat', 'dog', 'cat', 'cow', 'buffalow', 'cat']\n",
      "['dog', 'cow', 'buffalow']\n"
     ]
    }
   ],
   "source": [
    "# Removing All Instances of Specific Values from a List through while loop\n",
    "pets = [\"cat\", \"dog\", \"cat\", \"cow\", \"buffalow\", \"cat\"]\n",
    "print(pets)\n",
    "while \"cat\" in pets:\n",
    "    pets.remove(\"cat\")\n",
    "print(pets)\n"
   ]
  },
  {
   "cell_type": "code",
   "execution_count": 14,
   "metadata": {},
   "outputs": [
    {
     "name": "stdout",
     "output_type": "stream",
     "text": [
      "{'ahmed': 'k2', 'saleem': 'k2', 'ahsan': 'k2'}\n",
      "\n",
      "--- show result---\n",
      "ahmed would like to climb k2.\n",
      "saleem would like to climb k2.\n",
      "ahsan would like to climb k2.\n"
     ]
    }
   ],
   "source": [
    "# Filling a Dictionary with User Input through while loop\n",
    "responses = {}\n",
    "# set a flag to indicate the polling is active\n",
    "polling_active = True\n",
    "while polling_active:\n",
    "    # prompt for the person's name and response\n",
    "    name = input(\"what is your name: \")\n",
    "    response = input(\"which mountain whould yoy like to climb the sameday? \")\n",
    "    # store the response in dictionary\n",
    "    responses[name] = response\n",
    "    # find out if anyone else is going to take the vote\n",
    "    repeat = input(\"would yor like to let another person respond? yes/no: \")\n",
    "    if repeat == \"no\":\n",
    "        polling_active = False\n",
    "print(responses)\n",
    "# polling is complete show the result\n",
    "print(\"\\n--- show result---\")\n",
    "for name, response in responses.items():\n",
    "    print(f\"{name} would like to climb {response}.\")\n"
   ]
  },
  {
   "cell_type": "code",
   "execution_count": null,
   "metadata": {},
   "outputs": [],
   "source": []
  },
  {
   "cell_type": "code",
   "execution_count": null,
   "metadata": {},
   "outputs": [],
   "source": []
  }
 ],
 "metadata": {
  "kernelspec": {
   "display_name": "Python 3",
   "language": "python",
   "name": "python3"
  },
  "language_info": {
   "codemirror_mode": {
    "name": "ipython",
    "version": 3
   },
   "file_extension": ".py",
   "mimetype": "text/x-python",
   "name": "python",
   "nbconvert_exporter": "python",
   "pygments_lexer": "ipython3",
   "version": "3.11.4"
  }
 },
 "nbformat": 4,
 "nbformat_minor": 2
}
