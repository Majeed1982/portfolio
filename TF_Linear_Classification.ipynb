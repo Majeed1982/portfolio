{
  "nbformat": 4,
  "nbformat_minor": 0,
  "metadata": {
    "colab": {
      "provenance": [],
      "authorship_tag": "ABX9TyPeQ9Sp7VKsmdQXMvi9AscY",
      "include_colab_link": true
    },
    "kernelspec": {
      "name": "python3",
      "display_name": "Python 3"
    },
    "language_info": {
      "name": "python"
    }
  },
  "cells": [
    {
      "cell_type": "markdown",
      "metadata": {
        "id": "view-in-github",
        "colab_type": "text"
      },
      "source": [
        "<a href=\"https://colab.research.google.com/github/Majeed1982/portfolio/blob/main/TF_Linear_Classification.ipynb\" target=\"_parent\"><img src=\"https://colab.research.google.com/assets/colab-badge.svg\" alt=\"Open In Colab\"/></a>"
      ]
    },
    {
      "cell_type": "code",
      "execution_count": null,
      "metadata": {
        "colab": {
          "base_uri": "https://localhost:8080/"
        },
        "id": "LLeTCECFHL7-",
        "outputId": "5371bbc2-a7ce-4b36-d8c1-a9234b8b7219"
      },
      "outputs": [
        {
          "output_type": "stream",
          "name": "stdout",
          "text": [
            "Colab only includes TensorFlow 2.x; %tensorflow_version has no effect.\n",
            "2.17.0\n"
          ]
        }
      ],
      "source": [
        "# Install TensorFlow\n",
        "# !pip install -q tensorflow-gpu==2.0.0-beta1\n",
        "\n",
        "try:\n",
        "  %tensorflow_version 2.x  # Colab only.\n",
        "except Exception:\n",
        "  pass\n",
        "\n",
        "import tensorflow as tf\n",
        "print(tf.__version__)"
      ]
    },
    {
      "cell_type": "markdown",
      "source": [
        "This code snippet is designed to install TensorFlow and verify that it's set up correctly, particularly in a Colab environment. Let's break it down step by step:\n",
        "\n",
        "1. # !pip install -q tensorflow-gpu==2.0.0-beta1\n",
        "This is a commented-out line, meaning it's not currently active. If you remove the #, it would install a specific version of TensorFlow (version 2.0.0-beta1) with GPU support. Here's the breakdown:\n",
        "pip install: Command to install Python packages.\n",
        "-q: Quiet mode (suppresses the output of the installation process).\n",
        "tensorflow-gpu==2.0.0-beta1: This specifies that you're trying to install TensorFlow version 2.0.0-beta1, which has support for running on GPUs.\n",
        "Since the line is commented out, the installation command will not run. You can remove the # to install the package.\n",
        "\n",
        "2. try: %tensorflow_version 2.x # Colab only.\n",
        "%tensorflow_version 2.x is a magic command in Google Colab that switches the TensorFlow version to 2.x, ensuring you're using TensorFlow 2.x (and not an older version like 1.x).\n",
        "The try block is used to run this command in Colab, and if this code is run in a non-Colab environment (e.g., your local machine), the command would fail.\n",
        "The # Colab only. comment indicates that this command only works in Colab.\n",
        "3. except Exception: pass\n",
        "If the %tensorflow_version command fails (likely because you're not using Colab), this except block ensures that the program will continue without crashing. It does nothing (pass) when the exception is encountered.\n",
        "4. import tensorflow as tf\n",
        "This imports the TensorFlow library, giving you access to its functions and tools for machine learning and deep learning. tensorflow is imported with the alias tf, so you can reference it easily (e.g., tf.function()).\n",
        "5. print(tf.__version__)\n",
        "This prints the version of TensorFlow that is currently installed and being used. It's a common way to verify that the installation was successful and that the correct version is in use.\n",
        "Overall Purpose\n",
        "The script:\n",
        "\n",
        "Tries to switch to TensorFlow 2.x in Google Colab.\n",
        "Imports TensorFlow.\n",
        "Prints the installed TensorFlow version, allowing you to verify whether everything is correctly set up.\n",
        "If this code runs successfully, it will display the version of TensorFlow you have installed."
      ],
      "metadata": {
        "id": "ULb5ArjXe3w3"
      }
    },
    {
      "cell_type": "code",
      "source": [
        "# Load in the data\n",
        "from sklearn.datasets import load_breast_cancer"
      ],
      "metadata": {
        "id": "kVKOX8FQHjJ_"
      },
      "execution_count": null,
      "outputs": []
    },
    {
      "cell_type": "code",
      "source": [
        "# load the data\n",
        "data = load_breast_cancer()"
      ],
      "metadata": {
        "id": "BqoTkfTWHxn3"
      },
      "execution_count": null,
      "outputs": []
    },
    {
      "cell_type": "code",
      "source": [
        "# check the type of 'data'\n",
        "type(data)"
      ],
      "metadata": {
        "colab": {
          "base_uri": "https://localhost:8080/",
          "height": 187
        },
        "id": "GWMa81MnH47F",
        "outputId": "81571b1d-b256-43f3-9534-f37c7699a7a2"
      },
      "execution_count": null,
      "outputs": [
        {
          "output_type": "execute_result",
          "data": {
            "text/plain": [
              "sklearn.utils._bunch.Bunch"
            ],
            "text/html": [
              "<div style=\"max-width:800px; border: 1px solid var(--colab-border-color);\"><style>\n",
              "      pre.function-repr-contents {\n",
              "        overflow-x: auto;\n",
              "        padding: 8px 12px;\n",
              "        max-height: 500px;\n",
              "      }\n",
              "\n",
              "      pre.function-repr-contents.function-repr-contents-collapsed {\n",
              "        cursor: pointer;\n",
              "        max-height: 100px;\n",
              "      }\n",
              "    </style>\n",
              "    <pre style=\"white-space: initial; background:\n",
              "         var(--colab-secondary-surface-color); padding: 8px 12px;\n",
              "         border-bottom: 1px solid var(--colab-border-color);\"><b>sklearn.utils._bunch.Bunch</b><br/>def __init__(**kwargs)</pre><pre class=\"function-repr-contents function-repr-contents-collapsed\" style=\"\"><a class=\"filepath\" style=\"display:none\" href=\"#\">/usr/local/lib/python3.10/dist-packages/sklearn/utils/_bunch.py</a>Container object exposing keys as attributes.\n",
              "\n",
              "Bunch objects are sometimes used as an output for functions and methods.\n",
              "They extend dictionaries by enabling values to be accessed by key,\n",
              "`bunch[&quot;value_key&quot;]`, or by an attribute, `bunch.value_key`.\n",
              "\n",
              "Examples\n",
              "--------\n",
              "&gt;&gt;&gt; from sklearn.utils import Bunch\n",
              "&gt;&gt;&gt; b = Bunch(a=1, b=2)\n",
              "&gt;&gt;&gt; b[&#x27;b&#x27;]\n",
              "2\n",
              "&gt;&gt;&gt; b.b\n",
              "2\n",
              "&gt;&gt;&gt; b.a = 3\n",
              "&gt;&gt;&gt; b[&#x27;a&#x27;]\n",
              "3\n",
              "&gt;&gt;&gt; b.c = 6\n",
              "&gt;&gt;&gt; b[&#x27;c&#x27;]\n",
              "6</pre>\n",
              "      <script>\n",
              "      if (google.colab.kernel.accessAllowed && google.colab.files && google.colab.files.view) {\n",
              "        for (const element of document.querySelectorAll('.filepath')) {\n",
              "          element.style.display = 'block'\n",
              "          element.onclick = (event) => {\n",
              "            event.preventDefault();\n",
              "            event.stopPropagation();\n",
              "            google.colab.files.view(element.textContent, 4);\n",
              "          };\n",
              "        }\n",
              "      }\n",
              "      for (const element of document.querySelectorAll('.function-repr-contents')) {\n",
              "        element.onclick = (event) => {\n",
              "          event.preventDefault();\n",
              "          event.stopPropagation();\n",
              "          element.classList.toggle('function-repr-contents-collapsed');\n",
              "        };\n",
              "      }\n",
              "      </script>\n",
              "      </div>"
            ]
          },
          "metadata": {},
          "execution_count": 4
        }
      ]
    },
    {
      "cell_type": "code",
      "source": [
        "# note: it is a Bunch object\n",
        "# this basically acts like a dictionary where you can treat the keys like attributes\n",
        "data.keys()"
      ],
      "metadata": {
        "colab": {
          "base_uri": "https://localhost:8080/"
        },
        "id": "e_An0PS-H-_a",
        "outputId": "346c171f-0c24-4d55-e29b-3e7324a404a3"
      },
      "execution_count": null,
      "outputs": [
        {
          "output_type": "execute_result",
          "data": {
            "text/plain": [
              "dict_keys(['data', 'target', 'frame', 'target_names', 'DESCR', 'feature_names', 'filename', 'data_module'])"
            ]
          },
          "metadata": {},
          "execution_count": 5
        }
      ]
    },
    {
      "cell_type": "code",
      "source": [
        "# 'data' (the attribute) means the input data\n",
        "data.data.shape\n",
        "# it has 569 samples, 30 features"
      ],
      "metadata": {
        "colab": {
          "base_uri": "https://localhost:8080/"
        },
        "id": "4o56GFgiIgZp",
        "outputId": "ae9dc04d-b383-4718-d67a-294652e94d2a"
      },
      "execution_count": null,
      "outputs": [
        {
          "output_type": "execute_result",
          "data": {
            "text/plain": [
              "(569, 30)"
            ]
          },
          "metadata": {},
          "execution_count": 6
        }
      ]
    },
    {
      "cell_type": "code",
      "source": [
        "# 'targets'\n",
        "data.target\n",
        "# note how the targets are just 0s and 1s\n",
        "# normally, when you have K targets, they are labeled 0..K-1"
      ],
      "metadata": {
        "colab": {
          "base_uri": "https://localhost:8080/"
        },
        "id": "1tNYPRjkIulE",
        "outputId": "187e119a-2649-41ad-85df-071cf22993fd"
      },
      "execution_count": null,
      "outputs": [
        {
          "output_type": "execute_result",
          "data": {
            "text/plain": [
              "array([0, 0, 0, 0, 0, 0, 0, 0, 0, 0, 0, 0, 0, 0, 0, 0, 0, 0, 0, 1, 1, 1,\n",
              "       0, 0, 0, 0, 0, 0, 0, 0, 0, 0, 0, 0, 0, 0, 0, 1, 0, 0, 0, 0, 0, 0,\n",
              "       0, 0, 1, 0, 1, 1, 1, 1, 1, 0, 0, 1, 0, 0, 1, 1, 1, 1, 0, 1, 0, 0,\n",
              "       1, 1, 1, 1, 0, 1, 0, 0, 1, 0, 1, 0, 0, 1, 1, 1, 0, 0, 1, 0, 0, 0,\n",
              "       1, 1, 1, 0, 1, 1, 0, 0, 1, 1, 1, 0, 0, 1, 1, 1, 1, 0, 1, 1, 0, 1,\n",
              "       1, 1, 1, 1, 1, 1, 1, 0, 0, 0, 1, 0, 0, 1, 1, 1, 0, 0, 1, 0, 1, 0,\n",
              "       0, 1, 0, 0, 1, 1, 0, 1, 1, 0, 1, 1, 1, 1, 0, 1, 1, 1, 1, 1, 1, 1,\n",
              "       1, 1, 0, 1, 1, 1, 1, 0, 0, 1, 0, 1, 1, 0, 0, 1, 1, 0, 0, 1, 1, 1,\n",
              "       1, 0, 1, 1, 0, 0, 0, 1, 0, 1, 0, 1, 1, 1, 0, 1, 1, 0, 0, 1, 0, 0,\n",
              "       0, 0, 1, 0, 0, 0, 1, 0, 1, 0, 1, 1, 0, 1, 0, 0, 0, 0, 1, 1, 0, 0,\n",
              "       1, 1, 1, 0, 1, 1, 1, 1, 1, 0, 0, 1, 1, 0, 1, 1, 0, 0, 1, 0, 1, 1,\n",
              "       1, 1, 0, 1, 1, 1, 1, 1, 0, 1, 0, 0, 0, 0, 0, 0, 0, 0, 0, 0, 0, 0,\n",
              "       0, 0, 1, 1, 1, 1, 1, 1, 0, 1, 0, 1, 1, 0, 1, 1, 0, 1, 0, 0, 1, 1,\n",
              "       1, 1, 1, 1, 1, 1, 1, 1, 1, 1, 1, 0, 1, 1, 0, 1, 0, 1, 1, 1, 1, 1,\n",
              "       1, 1, 1, 1, 1, 1, 1, 1, 1, 0, 1, 1, 1, 0, 1, 0, 1, 1, 1, 1, 0, 0,\n",
              "       0, 1, 1, 1, 1, 0, 1, 0, 1, 0, 1, 1, 1, 0, 1, 1, 1, 1, 1, 1, 1, 0,\n",
              "       0, 0, 1, 1, 1, 1, 1, 1, 1, 1, 1, 1, 1, 0, 0, 1, 0, 0, 0, 1, 0, 0,\n",
              "       1, 1, 1, 1, 1, 0, 1, 1, 1, 1, 1, 0, 1, 1, 1, 0, 1, 1, 0, 0, 1, 1,\n",
              "       1, 1, 1, 1, 0, 1, 1, 1, 1, 1, 1, 1, 0, 1, 1, 1, 1, 1, 0, 1, 1, 0,\n",
              "       1, 1, 1, 1, 1, 1, 1, 1, 1, 1, 1, 1, 0, 1, 0, 0, 1, 0, 1, 1, 1, 1,\n",
              "       1, 0, 1, 1, 0, 1, 0, 1, 1, 0, 1, 0, 1, 1, 1, 1, 1, 1, 1, 1, 0, 0,\n",
              "       1, 1, 1, 1, 1, 1, 0, 1, 1, 1, 1, 1, 1, 1, 1, 1, 1, 0, 1, 1, 1, 1,\n",
              "       1, 1, 1, 0, 1, 0, 1, 1, 0, 1, 1, 1, 1, 1, 0, 0, 1, 0, 1, 0, 1, 1,\n",
              "       1, 1, 1, 0, 1, 1, 0, 1, 0, 1, 0, 0, 1, 1, 1, 0, 1, 1, 1, 1, 1, 1,\n",
              "       1, 1, 1, 1, 1, 0, 1, 0, 0, 1, 1, 1, 1, 1, 1, 1, 1, 1, 1, 1, 1, 1,\n",
              "       1, 1, 1, 1, 1, 1, 1, 1, 1, 1, 1, 1, 0, 0, 0, 0, 0, 0, 1])"
            ]
          },
          "metadata": {},
          "execution_count": 7
        }
      ]
    },
    {
      "cell_type": "code",
      "source": [
        "# their meaning is not lost\n",
        "data.target_names"
      ],
      "metadata": {
        "colab": {
          "base_uri": "https://localhost:8080/"
        },
        "id": "NKtDZ057I477",
        "outputId": "1c57b678-9ae0-40b4-c4f6-75424ac648d1"
      },
      "execution_count": null,
      "outputs": [
        {
          "output_type": "execute_result",
          "data": {
            "text/plain": [
              "array(['malignant', 'benign'], dtype='<U9')"
            ]
          },
          "metadata": {},
          "execution_count": 8
        }
      ]
    },
    {
      "cell_type": "code",
      "source": [
        "# there are also 569 corresponding targets\n",
        "data.target.shape"
      ],
      "metadata": {
        "colab": {
          "base_uri": "https://localhost:8080/"
        },
        "id": "LsOI7xo2JHfG",
        "outputId": "04cae63e-4267-4935-9bde-fe0e0d8ddf60"
      },
      "execution_count": null,
      "outputs": [
        {
          "output_type": "execute_result",
          "data": {
            "text/plain": [
              "(569,)"
            ]
          },
          "metadata": {},
          "execution_count": 9
        }
      ]
    },
    {
      "cell_type": "code",
      "source": [
        "# you can also determine the meaning of each feature\n",
        "data.feature_names"
      ],
      "metadata": {
        "colab": {
          "base_uri": "https://localhost:8080/"
        },
        "id": "EaFB275yJMkN",
        "outputId": "047d738b-b0b8-4369-92d2-a5bd911ec5b9"
      },
      "execution_count": null,
      "outputs": [
        {
          "output_type": "execute_result",
          "data": {
            "text/plain": [
              "array(['mean radius', 'mean texture', 'mean perimeter', 'mean area',\n",
              "       'mean smoothness', 'mean compactness', 'mean concavity',\n",
              "       'mean concave points', 'mean symmetry', 'mean fractal dimension',\n",
              "       'radius error', 'texture error', 'perimeter error', 'area error',\n",
              "       'smoothness error', 'compactness error', 'concavity error',\n",
              "       'concave points error', 'symmetry error',\n",
              "       'fractal dimension error', 'worst radius', 'worst texture',\n",
              "       'worst perimeter', 'worst area', 'worst smoothness',\n",
              "       'worst compactness', 'worst concavity', 'worst concave points',\n",
              "       'worst symmetry', 'worst fractal dimension'], dtype='<U23')"
            ]
          },
          "metadata": {},
          "execution_count": 10
        }
      ]
    },
    {
      "cell_type": "code",
      "source": [
        "# normally we would put all of our imports at the top\n",
        "# but this lets us tell a story\n",
        "from sklearn.model_selection import train_test_split\n",
        "\n",
        "# split the data into train and test sets\n",
        "# this lets us simulate how our model will perform in the future\n",
        "# Get the number of samples (N) and number of features (D) in the training set (X_train)\n",
        "X_train, X_test, y_train, y_test = train_test_split(data.data, data.target, test_size=0.33)\n",
        "N, D = X_train.shape\n",
        "\n",
        "# test_size=0.33: This specifies that 33% of the data will be set aside for the test set, while\n",
        "# 'N' represents the number of training samples (rows), and 'D' represents the number of features (columns)."
      ],
      "metadata": {
        "id": "MblWU-DCJW3z"
      },
      "execution_count": null,
      "outputs": []
    },
    {
      "cell_type": "code",
      "source": [
        "# Scale the data to ensure all features contribute equally to the model training\n",
        "# Scaling is important for many machine learning algorithms, particularly those\n",
        "# that rely on distance calculations or gradient descent. You'll learn more about\n",
        "# why scaling is needed in a later course.\n",
        "\n",
        "from sklearn.preprocessing import StandardScaler\n",
        "\n",
        "# Create an instance of StandardScaler for feature scaling\n",
        "scaler = StandardScaler()\n",
        "\n",
        "# Fit the scaler on the training data and transform it\n",
        "# This standardizes the training data by removing the mean and scaling to unit variance\n",
        "X_train = scaler.fit_transform(X_train)\n",
        "\n",
        "# Transform the test data using the same scaling parameters from the training data\n",
        "# This ensures that the test data is scaled consistently with the training data\n",
        "X_test = scaler.transform(X_test)\n"
      ],
      "metadata": {
        "id": "ljys3NWvJoqo"
      },
      "execution_count": null,
      "outputs": []
    },
    {
      "cell_type": "code",
      "source": [
        "# Now all the fun Tensorflow stuff\n",
        "# Build the model\n",
        "\n",
        "model = tf.keras.models.Sequential([\n",
        "  tf.keras.layers.Input(shape=(D,)),\n",
        "  tf.keras.layers.Dense(1, activation='sigmoid')\n",
        "])\n",
        "\n",
        "# The shape=(D,) specifies that the input data will have D features (columns).\n",
        "# D comes from the earlier line where you defined it as the number of features in your training data.\n",
        "\n",
        "# This model is essentially implementing a logistic regression, but within a neural network framework.\n",
        "# It takes in D input features and produces a single output (between 0 and 1) using the sigmoid function.\n",
        "\n",
        "# Logistic regression is a statistical method used for binary classification, meaning it predicts the probability that a given input belongs to one of two\n",
        "# possible categories or classes. While the name \"regression\" suggests a continuous output, logistic regression actually maps inputs to a probability that\n",
        "# falls between 0 and 1, which can be used to classify data into categories (e.g., 0 or 1).\n",
        "\n",
        "# This output is interpreted as a probability for class 1 (positive class).\n",
        "# Alternatively, you can do:\n",
        "# model = tf.keras.models.Sequential()\n",
        "# model.add(tf.keras.layers.Dense(1, input_shape=(D,), activation='sigmoid'))\n",
        "\n",
        "model.compile(optimizer='adam',\n",
        "              loss='binary_crossentropy',\n",
        "              metrics=['accuracy'])\n",
        "\n",
        "# In a neural network, the model learns by adjusting the weights (values that affect how inputs are transformed into outputs) to minimize errors or loss.\n",
        "# Optimizers tell the model how to change its weights so that it makes fewer mistakes in the future.\n",
        "\n",
        "\n",
        "\n",
        "# Train the model\n",
        "r = model.fit(X_train, y_train, validation_data=(X_test, y_test), epochs=100)\n",
        "\n",
        "# model.fit() trains your model on the training data X_train and y_train.\n",
        "# It also checks the model's performance on the validation data X_test and y_test.\n",
        "# The model runs through the data 100 times (epochs=100) to adjust and optimize its parameters.\n",
        "\n",
        "# Evaluate the model - evaluate() returns loss and accuracy\n",
        "print(\"Train score:\", model.evaluate(X_train, y_train))\n",
        "print(\"Test score:\", model.evaluate(X_test, y_test))\n",
        "\n",
        "# print(\"Train score:\", model.evaluate(X_train, y_train)):\n",
        "# This line evaluates how well the model performs on the training dataset (X_train, y_train), where it learned the patterns during training.\n",
        "# It prints the result as the train score (loss and accuracy).\n",
        "\n",
        "# rint(\"Test score:\", model.evaluate(X_test, y_test)):\n",
        "# This line evaluates the model's performance on the test dataset (X_test, y_test), which is unseen by the model during training.\n",
        "# It prints the result as the test score (loss and accuracy).\n",
        "\n",
        "# Train score: [0.2, 0.95]  # This means loss is 0.2, accuracy is 95% on training data\n",
        "# Test score: [0.25, 0.92]  # This means loss is 0.25, accuracy is 92% on test data\n",
        "\n",
        "# Summary:\n",
        "# model.evaluate() checks how well the model performs on both the training data and the test data.\n",
        "# It returns loss (error) and accuracy (correctness) for both datasets.\n",
        "# Evaluating on both datasets ensures the model is performing well and not overfitting."
      ],
      "metadata": {
        "id": "P_U3FaLDJ1_2",
        "colab": {
          "base_uri": "https://localhost:8080/"
        },
        "outputId": "5a973097-9f34-4325-cb13-5571d7950a5c"
      },
      "execution_count": null,
      "outputs": [
        {
          "output_type": "stream",
          "name": "stdout",
          "text": [
            "Epoch 1/100\n",
            "\u001b[1m12/12\u001b[0m \u001b[32m━━━━━━━━━━━━━━━━━━━━\u001b[0m\u001b[37m\u001b[0m \u001b[1m4s\u001b[0m 44ms/step - accuracy: 0.2653 - loss: 1.1563 - val_accuracy: 0.3138 - val_loss: 1.0042\n",
            "Epoch 2/100\n",
            "\u001b[1m12/12\u001b[0m \u001b[32m━━━━━━━━━━━━━━━━━━━━\u001b[0m\u001b[37m\u001b[0m \u001b[1m0s\u001b[0m 12ms/step - accuracy: 0.3343 - loss: 0.9901 - val_accuracy: 0.3564 - val_loss: 0.9209\n",
            "Epoch 3/100\n",
            "\u001b[1m12/12\u001b[0m \u001b[32m━━━━━━━━━━━━━━━━━━━━\u001b[0m\u001b[37m\u001b[0m \u001b[1m0s\u001b[0m 16ms/step - accuracy: 0.3769 - loss: 0.9010 - val_accuracy: 0.4202 - val_loss: 0.8430\n",
            "Epoch 4/100\n",
            "\u001b[1m12/12\u001b[0m \u001b[32m━━━━━━━━━━━━━━━━━━━━\u001b[0m\u001b[37m\u001b[0m \u001b[1m0s\u001b[0m 18ms/step - accuracy: 0.4935 - loss: 0.8238 - val_accuracy: 0.5053 - val_loss: 0.7748\n",
            "Epoch 5/100\n",
            "\u001b[1m12/12\u001b[0m \u001b[32m━━━━━━━━━━━━━━━━━━━━\u001b[0m\u001b[37m\u001b[0m \u001b[1m0s\u001b[0m 9ms/step - accuracy: 0.5626 - loss: 0.7168 - val_accuracy: 0.5479 - val_loss: 0.7139\n",
            "Epoch 6/100\n",
            "\u001b[1m12/12\u001b[0m \u001b[32m━━━━━━━━━━━━━━━━━━━━\u001b[0m\u001b[37m\u001b[0m \u001b[1m0s\u001b[0m 19ms/step - accuracy: 0.6314 - loss: 0.6534 - val_accuracy: 0.6011 - val_loss: 0.6614\n",
            "Epoch 7/100\n",
            "\u001b[1m12/12\u001b[0m \u001b[32m━━━━━━━━━━━━━━━━━━━━\u001b[0m\u001b[37m\u001b[0m \u001b[1m0s\u001b[0m 13ms/step - accuracy: 0.6787 - loss: 0.5947 - val_accuracy: 0.6489 - val_loss: 0.6154\n",
            "Epoch 8/100\n",
            "\u001b[1m12/12\u001b[0m \u001b[32m━━━━━━━━━━━━━━━━━━━━\u001b[0m\u001b[37m\u001b[0m \u001b[1m0s\u001b[0m 9ms/step - accuracy: 0.7231 - loss: 0.5861 - val_accuracy: 0.6915 - val_loss: 0.5750\n",
            "Epoch 9/100\n",
            "\u001b[1m12/12\u001b[0m \u001b[32m━━━━━━━━━━━━━━━━━━━━\u001b[0m\u001b[37m\u001b[0m \u001b[1m0s\u001b[0m 8ms/step - accuracy: 0.7860 - loss: 0.5124 - val_accuracy: 0.7340 - val_loss: 0.5402\n",
            "Epoch 10/100\n",
            "\u001b[1m12/12\u001b[0m \u001b[32m━━━━━━━━━━━━━━━━━━━━\u001b[0m\u001b[37m\u001b[0m \u001b[1m0s\u001b[0m 17ms/step - accuracy: 0.8208 - loss: 0.4751 - val_accuracy: 0.7766 - val_loss: 0.5099\n",
            "Epoch 11/100\n",
            "\u001b[1m12/12\u001b[0m \u001b[32m━━━━━━━━━━━━━━━━━━━━\u001b[0m\u001b[37m\u001b[0m \u001b[1m0s\u001b[0m 14ms/step - accuracy: 0.8538 - loss: 0.4297 - val_accuracy: 0.8085 - val_loss: 0.4832\n",
            "Epoch 12/100\n",
            "\u001b[1m12/12\u001b[0m \u001b[32m━━━━━━━━━━━━━━━━━━━━\u001b[0m\u001b[37m\u001b[0m \u001b[1m0s\u001b[0m 14ms/step - accuracy: 0.8676 - loss: 0.4035 - val_accuracy: 0.8298 - val_loss: 0.4594\n",
            "Epoch 13/100\n",
            "\u001b[1m12/12\u001b[0m \u001b[32m━━━━━━━━━━━━━━━━━━━━\u001b[0m\u001b[37m\u001b[0m \u001b[1m0s\u001b[0m 8ms/step - accuracy: 0.8874 - loss: 0.3894 - val_accuracy: 0.8404 - val_loss: 0.4384\n",
            "Epoch 14/100\n",
            "\u001b[1m12/12\u001b[0m \u001b[32m━━━━━━━━━━━━━━━━━━━━\u001b[0m\u001b[37m\u001b[0m \u001b[1m0s\u001b[0m 8ms/step - accuracy: 0.9122 - loss: 0.3608 - val_accuracy: 0.8564 - val_loss: 0.4195\n",
            "Epoch 15/100\n",
            "\u001b[1m12/12\u001b[0m \u001b[32m━━━━━━━━━━━━━━━━━━━━\u001b[0m\u001b[37m\u001b[0m \u001b[1m0s\u001b[0m 18ms/step - accuracy: 0.8967 - loss: 0.3595 - val_accuracy: 0.8723 - val_loss: 0.4025\n",
            "Epoch 16/100\n",
            "\u001b[1m12/12\u001b[0m \u001b[32m━━━━━━━━━━━━━━━━━━━━\u001b[0m\u001b[37m\u001b[0m \u001b[1m1s\u001b[0m 18ms/step - accuracy: 0.9322 - loss: 0.3258 - val_accuracy: 0.8830 - val_loss: 0.3873\n",
            "Epoch 17/100\n",
            "\u001b[1m12/12\u001b[0m \u001b[32m━━━━━━━━━━━━━━━━━━━━\u001b[0m\u001b[37m\u001b[0m \u001b[1m0s\u001b[0m 13ms/step - accuracy: 0.9022 - loss: 0.3272 - val_accuracy: 0.8830 - val_loss: 0.3735\n",
            "Epoch 18/100\n",
            "\u001b[1m12/12\u001b[0m \u001b[32m━━━━━━━━━━━━━━━━━━━━\u001b[0m\u001b[37m\u001b[0m \u001b[1m0s\u001b[0m 9ms/step - accuracy: 0.9279 - loss: 0.3203 - val_accuracy: 0.8830 - val_loss: 0.3607\n",
            "Epoch 19/100\n",
            "\u001b[1m12/12\u001b[0m \u001b[32m━━━━━━━━━━━━━━━━━━━━\u001b[0m\u001b[37m\u001b[0m \u001b[1m0s\u001b[0m 16ms/step - accuracy: 0.9044 - loss: 0.3264 - val_accuracy: 0.8830 - val_loss: 0.3493\n",
            "Epoch 20/100\n",
            "\u001b[1m12/12\u001b[0m \u001b[32m━━━━━━━━━━━━━━━━━━━━\u001b[0m\u001b[37m\u001b[0m \u001b[1m0s\u001b[0m 11ms/step - accuracy: 0.9258 - loss: 0.3064 - val_accuracy: 0.8936 - val_loss: 0.3387\n",
            "Epoch 21/100\n",
            "\u001b[1m12/12\u001b[0m \u001b[32m━━━━━━━━━━━━━━━━━━━━\u001b[0m\u001b[37m\u001b[0m \u001b[1m0s\u001b[0m 10ms/step - accuracy: 0.9159 - loss: 0.3038 - val_accuracy: 0.8936 - val_loss: 0.3289\n",
            "Epoch 22/100\n",
            "\u001b[1m12/12\u001b[0m \u001b[32m━━━━━━━━━━━━━━━━━━━━\u001b[0m\u001b[37m\u001b[0m \u001b[1m0s\u001b[0m 10ms/step - accuracy: 0.9356 - loss: 0.2564 - val_accuracy: 0.8936 - val_loss: 0.3197\n",
            "Epoch 23/100\n",
            "\u001b[1m12/12\u001b[0m \u001b[32m━━━━━━━━━━━━━━━━━━━━\u001b[0m\u001b[37m\u001b[0m \u001b[1m0s\u001b[0m 17ms/step - accuracy: 0.9370 - loss: 0.2613 - val_accuracy: 0.9043 - val_loss: 0.3112\n",
            "Epoch 24/100\n",
            "\u001b[1m12/12\u001b[0m \u001b[32m━━━━━━━━━━━━━━━━━━━━\u001b[0m\u001b[37m\u001b[0m \u001b[1m0s\u001b[0m 10ms/step - accuracy: 0.9452 - loss: 0.2412 - val_accuracy: 0.9096 - val_loss: 0.3034\n",
            "Epoch 25/100\n",
            "\u001b[1m12/12\u001b[0m \u001b[32m━━━━━━━━━━━━━━━━━━━━\u001b[0m\u001b[37m\u001b[0m \u001b[1m0s\u001b[0m 9ms/step - accuracy: 0.9310 - loss: 0.2562 - val_accuracy: 0.9096 - val_loss: 0.2962\n",
            "Epoch 26/100\n",
            "\u001b[1m12/12\u001b[0m \u001b[32m━━━━━━━━━━━━━━━━━━━━\u001b[0m\u001b[37m\u001b[0m \u001b[1m0s\u001b[0m 22ms/step - accuracy: 0.9641 - loss: 0.2285 - val_accuracy: 0.9096 - val_loss: 0.2893\n",
            "Epoch 27/100\n",
            "\u001b[1m12/12\u001b[0m \u001b[32m━━━━━━━━━━━━━━━━━━━━\u001b[0m\u001b[37m\u001b[0m \u001b[1m0s\u001b[0m 17ms/step - accuracy: 0.9481 - loss: 0.2351 - val_accuracy: 0.9096 - val_loss: 0.2829\n",
            "Epoch 28/100\n",
            "\u001b[1m12/12\u001b[0m \u001b[32m━━━━━━━━━━━━━━━━━━━━\u001b[0m\u001b[37m\u001b[0m \u001b[1m0s\u001b[0m 7ms/step - accuracy: 0.9645 - loss: 0.2000 - val_accuracy: 0.9149 - val_loss: 0.2768\n",
            "Epoch 29/100\n",
            "\u001b[1m12/12\u001b[0m \u001b[32m━━━━━━━━━━━━━━━━━━━━\u001b[0m\u001b[37m\u001b[0m \u001b[1m0s\u001b[0m 8ms/step - accuracy: 0.9471 - loss: 0.2204 - val_accuracy: 0.9149 - val_loss: 0.2711\n",
            "Epoch 30/100\n",
            "\u001b[1m12/12\u001b[0m \u001b[32m━━━━━━━━━━━━━━━━━━━━\u001b[0m\u001b[37m\u001b[0m \u001b[1m0s\u001b[0m 8ms/step - accuracy: 0.9712 - loss: 0.2090 - val_accuracy: 0.9149 - val_loss: 0.2655\n",
            "Epoch 31/100\n",
            "\u001b[1m12/12\u001b[0m \u001b[32m━━━━━━━━━━━━━━━━━━━━\u001b[0m\u001b[37m\u001b[0m \u001b[1m0s\u001b[0m 8ms/step - accuracy: 0.9540 - loss: 0.2130 - val_accuracy: 0.9202 - val_loss: 0.2601\n",
            "Epoch 32/100\n",
            "\u001b[1m12/12\u001b[0m \u001b[32m━━━━━━━━━━━━━━━━━━━━\u001b[0m\u001b[37m\u001b[0m \u001b[1m0s\u001b[0m 20ms/step - accuracy: 0.9565 - loss: 0.2131 - val_accuracy: 0.9255 - val_loss: 0.2553\n",
            "Epoch 33/100\n",
            "\u001b[1m12/12\u001b[0m \u001b[32m━━━━━━━━━━━━━━━━━━━━\u001b[0m\u001b[37m\u001b[0m \u001b[1m0s\u001b[0m 9ms/step - accuracy: 0.9757 - loss: 0.2022 - val_accuracy: 0.9255 - val_loss: 0.2507\n",
            "Epoch 34/100\n",
            "\u001b[1m12/12\u001b[0m \u001b[32m━━━━━━━━━━━━━━━━━━━━\u001b[0m\u001b[37m\u001b[0m \u001b[1m0s\u001b[0m 35ms/step - accuracy: 0.9739 - loss: 0.1989 - val_accuracy: 0.9255 - val_loss: 0.2464\n",
            "Epoch 35/100\n",
            "\u001b[1m12/12\u001b[0m \u001b[32m━━━━━━━━━━━━━━━━━━━━\u001b[0m\u001b[37m\u001b[0m \u001b[1m0s\u001b[0m 17ms/step - accuracy: 0.9746 - loss: 0.1969 - val_accuracy: 0.9255 - val_loss: 0.2424\n",
            "Epoch 36/100\n",
            "\u001b[1m12/12\u001b[0m \u001b[32m━━━━━━━━━━━━━━━━━━━━\u001b[0m\u001b[37m\u001b[0m \u001b[1m0s\u001b[0m 14ms/step - accuracy: 0.9769 - loss: 0.1889 - val_accuracy: 0.9255 - val_loss: 0.2385\n",
            "Epoch 37/100\n",
            "\u001b[1m12/12\u001b[0m \u001b[32m━━━━━━━━━━━━━━━━━━━━\u001b[0m\u001b[37m\u001b[0m \u001b[1m0s\u001b[0m 14ms/step - accuracy: 0.9818 - loss: 0.1712 - val_accuracy: 0.9255 - val_loss: 0.2347\n",
            "Epoch 38/100\n",
            "\u001b[1m12/12\u001b[0m \u001b[32m━━━━━━━━━━━━━━━━━━━━\u001b[0m\u001b[37m\u001b[0m \u001b[1m0s\u001b[0m 22ms/step - accuracy: 0.9793 - loss: 0.1782 - val_accuracy: 0.9255 - val_loss: 0.2312\n",
            "Epoch 39/100\n",
            "\u001b[1m12/12\u001b[0m \u001b[32m━━━━━━━━━━━━━━━━━━━━\u001b[0m\u001b[37m\u001b[0m \u001b[1m0s\u001b[0m 13ms/step - accuracy: 0.9624 - loss: 0.2045 - val_accuracy: 0.9309 - val_loss: 0.2277\n",
            "Epoch 40/100\n",
            "\u001b[1m12/12\u001b[0m \u001b[32m━━━━━━━━━━━━━━━━━━━━\u001b[0m\u001b[37m\u001b[0m \u001b[1m0s\u001b[0m 7ms/step - accuracy: 0.9792 - loss: 0.1778 - val_accuracy: 0.9309 - val_loss: 0.2245\n",
            "Epoch 41/100\n",
            "\u001b[1m12/12\u001b[0m \u001b[32m━━━━━━━━━━━━━━━━━━━━\u001b[0m\u001b[37m\u001b[0m \u001b[1m0s\u001b[0m 8ms/step - accuracy: 0.9906 - loss: 0.1478 - val_accuracy: 0.9309 - val_loss: 0.2214\n",
            "Epoch 42/100\n",
            "\u001b[1m12/12\u001b[0m \u001b[32m━━━━━━━━━━━━━━━━━━━━\u001b[0m\u001b[37m\u001b[0m \u001b[1m0s\u001b[0m 7ms/step - accuracy: 0.9846 - loss: 0.1448 - val_accuracy: 0.9309 - val_loss: 0.2186\n",
            "Epoch 43/100\n",
            "\u001b[1m12/12\u001b[0m \u001b[32m━━━━━━━━━━━━━━━━━━━━\u001b[0m\u001b[37m\u001b[0m \u001b[1m0s\u001b[0m 6ms/step - accuracy: 0.9641 - loss: 0.1699 - val_accuracy: 0.9309 - val_loss: 0.2155\n",
            "Epoch 44/100\n",
            "\u001b[1m12/12\u001b[0m \u001b[32m━━━━━━━━━━━━━━━━━━━━\u001b[0m\u001b[37m\u001b[0m \u001b[1m0s\u001b[0m 7ms/step - accuracy: 0.9744 - loss: 0.1733 - val_accuracy: 0.9309 - val_loss: 0.2127\n",
            "Epoch 45/100\n",
            "\u001b[1m12/12\u001b[0m \u001b[32m━━━━━━━━━━━━━━━━━━━━\u001b[0m\u001b[37m\u001b[0m \u001b[1m0s\u001b[0m 7ms/step - accuracy: 0.9765 - loss: 0.1687 - val_accuracy: 0.9309 - val_loss: 0.2100\n",
            "Epoch 46/100\n",
            "\u001b[1m12/12\u001b[0m \u001b[32m━━━━━━━━━━━━━━━━━━━━\u001b[0m\u001b[37m\u001b[0m \u001b[1m0s\u001b[0m 6ms/step - accuracy: 0.9816 - loss: 0.1614 - val_accuracy: 0.9309 - val_loss: 0.2078\n",
            "Epoch 47/100\n",
            "\u001b[1m12/12\u001b[0m \u001b[32m━━━━━━━━━━━━━━━━━━━━\u001b[0m\u001b[37m\u001b[0m \u001b[1m0s\u001b[0m 8ms/step - accuracy: 0.9851 - loss: 0.1584 - val_accuracy: 0.9309 - val_loss: 0.2053\n",
            "Epoch 48/100\n",
            "\u001b[1m12/12\u001b[0m \u001b[32m━━━━━━━━━━━━━━━━━━━━\u001b[0m\u001b[37m\u001b[0m \u001b[1m0s\u001b[0m 5ms/step - accuracy: 0.9838 - loss: 0.1477 - val_accuracy: 0.9309 - val_loss: 0.2029\n",
            "Epoch 49/100\n",
            "\u001b[1m12/12\u001b[0m \u001b[32m━━━━━━━━━━━━━━━━━━━━\u001b[0m\u001b[37m\u001b[0m \u001b[1m0s\u001b[0m 6ms/step - accuracy: 0.9756 - loss: 0.1502 - val_accuracy: 0.9309 - val_loss: 0.2007\n",
            "Epoch 50/100\n",
            "\u001b[1m12/12\u001b[0m \u001b[32m━━━━━━━━━━━━━━━━━━━━\u001b[0m\u001b[37m\u001b[0m \u001b[1m0s\u001b[0m 5ms/step - accuracy: 0.9760 - loss: 0.1560 - val_accuracy: 0.9309 - val_loss: 0.1984\n",
            "Epoch 51/100\n",
            "\u001b[1m12/12\u001b[0m \u001b[32m━━━━━━━━━━━━━━━━━━━━\u001b[0m\u001b[37m\u001b[0m \u001b[1m0s\u001b[0m 5ms/step - accuracy: 0.9860 - loss: 0.1374 - val_accuracy: 0.9309 - val_loss: 0.1964\n",
            "Epoch 52/100\n",
            "\u001b[1m12/12\u001b[0m \u001b[32m━━━━━━━━━━━━━━━━━━━━\u001b[0m\u001b[37m\u001b[0m \u001b[1m0s\u001b[0m 6ms/step - accuracy: 0.9752 - loss: 0.1544 - val_accuracy: 0.9309 - val_loss: 0.1944\n",
            "Epoch 53/100\n",
            "\u001b[1m12/12\u001b[0m \u001b[32m━━━━━━━━━━━━━━━━━━━━\u001b[0m\u001b[37m\u001b[0m \u001b[1m0s\u001b[0m 6ms/step - accuracy: 0.9798 - loss: 0.1449 - val_accuracy: 0.9309 - val_loss: 0.1924\n",
            "Epoch 54/100\n",
            "\u001b[1m12/12\u001b[0m \u001b[32m━━━━━━━━━━━━━━━━━━━━\u001b[0m\u001b[37m\u001b[0m \u001b[1m0s\u001b[0m 5ms/step - accuracy: 0.9790 - loss: 0.1384 - val_accuracy: 0.9309 - val_loss: 0.1905\n",
            "Epoch 55/100\n",
            "\u001b[1m12/12\u001b[0m \u001b[32m━━━━━━━━━━━━━━━━━━━━\u001b[0m\u001b[37m\u001b[0m \u001b[1m0s\u001b[0m 6ms/step - accuracy: 0.9748 - loss: 0.1485 - val_accuracy: 0.9309 - val_loss: 0.1887\n",
            "Epoch 56/100\n",
            "\u001b[1m12/12\u001b[0m \u001b[32m━━━━━━━━━━━━━━━━━━━━\u001b[0m\u001b[37m\u001b[0m \u001b[1m0s\u001b[0m 5ms/step - accuracy: 0.9819 - loss: 0.1296 - val_accuracy: 0.9309 - val_loss: 0.1870\n",
            "Epoch 57/100\n",
            "\u001b[1m12/12\u001b[0m \u001b[32m━━━━━━━━━━━━━━━━━━━━\u001b[0m\u001b[37m\u001b[0m \u001b[1m0s\u001b[0m 5ms/step - accuracy: 0.9760 - loss: 0.1426 - val_accuracy: 0.9309 - val_loss: 0.1853\n",
            "Epoch 58/100\n",
            "\u001b[1m12/12\u001b[0m \u001b[32m━━━━━━━━━━━━━━━━━━━━\u001b[0m\u001b[37m\u001b[0m \u001b[1m0s\u001b[0m 6ms/step - accuracy: 0.9706 - loss: 0.1454 - val_accuracy: 0.9309 - val_loss: 0.1836\n",
            "Epoch 59/100\n",
            "\u001b[1m12/12\u001b[0m \u001b[32m━━━━━━━━━━━━━━━━━━━━\u001b[0m\u001b[37m\u001b[0m \u001b[1m0s\u001b[0m 6ms/step - accuracy: 0.9872 - loss: 0.1347 - val_accuracy: 0.9309 - val_loss: 0.1820\n",
            "Epoch 60/100\n",
            "\u001b[1m12/12\u001b[0m \u001b[32m━━━━━━━━━━━━━━━━━━━━\u001b[0m\u001b[37m\u001b[0m \u001b[1m0s\u001b[0m 5ms/step - accuracy: 0.9825 - loss: 0.1257 - val_accuracy: 0.9362 - val_loss: 0.1805\n",
            "Epoch 61/100\n",
            "\u001b[1m12/12\u001b[0m \u001b[32m━━━━━━━━━━━━━━━━━━━━\u001b[0m\u001b[37m\u001b[0m \u001b[1m0s\u001b[0m 6ms/step - accuracy: 0.9674 - loss: 0.1425 - val_accuracy: 0.9415 - val_loss: 0.1790\n",
            "Epoch 62/100\n",
            "\u001b[1m12/12\u001b[0m \u001b[32m━━━━━━━━━━━━━━━━━━━━\u001b[0m\u001b[37m\u001b[0m \u001b[1m0s\u001b[0m 7ms/step - accuracy: 0.9837 - loss: 0.1243 - val_accuracy: 0.9415 - val_loss: 0.1776\n",
            "Epoch 63/100\n",
            "\u001b[1m12/12\u001b[0m \u001b[32m━━━━━━━━━━━━━━━━━━━━\u001b[0m\u001b[37m\u001b[0m \u001b[1m0s\u001b[0m 6ms/step - accuracy: 0.9810 - loss: 0.1146 - val_accuracy: 0.9415 - val_loss: 0.1762\n",
            "Epoch 64/100\n",
            "\u001b[1m12/12\u001b[0m \u001b[32m━━━━━━━━━━━━━━━━━━━━\u001b[0m\u001b[37m\u001b[0m \u001b[1m0s\u001b[0m 5ms/step - accuracy: 0.9835 - loss: 0.1187 - val_accuracy: 0.9415 - val_loss: 0.1749\n",
            "Epoch 65/100\n",
            "\u001b[1m12/12\u001b[0m \u001b[32m━━━━━━━━━━━━━━━━━━━━\u001b[0m\u001b[37m\u001b[0m \u001b[1m0s\u001b[0m 6ms/step - accuracy: 0.9734 - loss: 0.1409 - val_accuracy: 0.9415 - val_loss: 0.1735\n",
            "Epoch 66/100\n",
            "\u001b[1m12/12\u001b[0m \u001b[32m━━━━━━━━━━━━━━━━━━━━\u001b[0m\u001b[37m\u001b[0m \u001b[1m0s\u001b[0m 5ms/step - accuracy: 0.9781 - loss: 0.1503 - val_accuracy: 0.9415 - val_loss: 0.1723\n",
            "Epoch 67/100\n",
            "\u001b[1m12/12\u001b[0m \u001b[32m━━━━━━━━━━━━━━━━━━━━\u001b[0m\u001b[37m\u001b[0m \u001b[1m0s\u001b[0m 6ms/step - accuracy: 0.9829 - loss: 0.1185 - val_accuracy: 0.9415 - val_loss: 0.1710\n",
            "Epoch 68/100\n",
            "\u001b[1m12/12\u001b[0m \u001b[32m━━━━━━━━━━━━━━━━━━━━\u001b[0m\u001b[37m\u001b[0m \u001b[1m0s\u001b[0m 6ms/step - accuracy: 0.9721 - loss: 0.1346 - val_accuracy: 0.9415 - val_loss: 0.1697\n",
            "Epoch 69/100\n",
            "\u001b[1m12/12\u001b[0m \u001b[32m━━━━━━━━━━━━━━━━━━━━\u001b[0m\u001b[37m\u001b[0m \u001b[1m0s\u001b[0m 5ms/step - accuracy: 0.9857 - loss: 0.1169 - val_accuracy: 0.9415 - val_loss: 0.1684\n",
            "Epoch 70/100\n",
            "\u001b[1m12/12\u001b[0m \u001b[32m━━━━━━━━━━━━━━━━━━━━\u001b[0m\u001b[37m\u001b[0m \u001b[1m0s\u001b[0m 5ms/step - accuracy: 0.9803 - loss: 0.1113 - val_accuracy: 0.9415 - val_loss: 0.1674\n",
            "Epoch 71/100\n",
            "\u001b[1m12/12\u001b[0m \u001b[32m━━━━━━━━━━━━━━━━━━━━\u001b[0m\u001b[37m\u001b[0m \u001b[1m0s\u001b[0m 4ms/step - accuracy: 0.9807 - loss: 0.1140 - val_accuracy: 0.9415 - val_loss: 0.1662\n",
            "Epoch 72/100\n",
            "\u001b[1m12/12\u001b[0m \u001b[32m━━━━━━━━━━━━━━━━━━━━\u001b[0m\u001b[37m\u001b[0m \u001b[1m0s\u001b[0m 5ms/step - accuracy: 0.9767 - loss: 0.1258 - val_accuracy: 0.9468 - val_loss: 0.1651\n",
            "Epoch 73/100\n",
            "\u001b[1m12/12\u001b[0m \u001b[32m━━━━━━━━━━━━━━━━━━━━\u001b[0m\u001b[37m\u001b[0m \u001b[1m0s\u001b[0m 6ms/step - accuracy: 0.9826 - loss: 0.1157 - val_accuracy: 0.9468 - val_loss: 0.1642\n",
            "Epoch 74/100\n",
            "\u001b[1m12/12\u001b[0m \u001b[32m━━━━━━━━━━━━━━━━━━━━\u001b[0m\u001b[37m\u001b[0m \u001b[1m0s\u001b[0m 5ms/step - accuracy: 0.9744 - loss: 0.1221 - val_accuracy: 0.9468 - val_loss: 0.1633\n",
            "Epoch 75/100\n",
            "\u001b[1m12/12\u001b[0m \u001b[32m━━━━━━━━━━━━━━━━━━━━\u001b[0m\u001b[37m\u001b[0m \u001b[1m0s\u001b[0m 5ms/step - accuracy: 0.9793 - loss: 0.1189 - val_accuracy: 0.9468 - val_loss: 0.1622\n",
            "Epoch 76/100\n",
            "\u001b[1m12/12\u001b[0m \u001b[32m━━━━━━━━━━━━━━━━━━━━\u001b[0m\u001b[37m\u001b[0m \u001b[1m0s\u001b[0m 4ms/step - accuracy: 0.9820 - loss: 0.1149 - val_accuracy: 0.9521 - val_loss: 0.1612\n",
            "Epoch 77/100\n",
            "\u001b[1m12/12\u001b[0m \u001b[32m━━━━━━━━━━━━━━━━━━━━\u001b[0m\u001b[37m\u001b[0m \u001b[1m0s\u001b[0m 7ms/step - accuracy: 0.9788 - loss: 0.1076 - val_accuracy: 0.9521 - val_loss: 0.1603\n",
            "Epoch 78/100\n",
            "\u001b[1m12/12\u001b[0m \u001b[32m━━━━━━━━━━━━━━━━━━━━\u001b[0m\u001b[37m\u001b[0m \u001b[1m0s\u001b[0m 6ms/step - accuracy: 0.9754 - loss: 0.1231 - val_accuracy: 0.9521 - val_loss: 0.1592\n",
            "Epoch 79/100\n",
            "\u001b[1m12/12\u001b[0m \u001b[32m━━━━━━━━━━━━━━━━━━━━\u001b[0m\u001b[37m\u001b[0m \u001b[1m0s\u001b[0m 6ms/step - accuracy: 0.9839 - loss: 0.0903 - val_accuracy: 0.9521 - val_loss: 0.1582\n",
            "Epoch 80/100\n",
            "\u001b[1m12/12\u001b[0m \u001b[32m━━━━━━━━━━━━━━━━━━━━\u001b[0m\u001b[37m\u001b[0m \u001b[1m0s\u001b[0m 6ms/step - accuracy: 0.9854 - loss: 0.0967 - val_accuracy: 0.9521 - val_loss: 0.1575\n",
            "Epoch 81/100\n",
            "\u001b[1m12/12\u001b[0m \u001b[32m━━━━━━━━━━━━━━━━━━━━\u001b[0m\u001b[37m\u001b[0m \u001b[1m0s\u001b[0m 5ms/step - accuracy: 0.9784 - loss: 0.1122 - val_accuracy: 0.9574 - val_loss: 0.1565\n",
            "Epoch 82/100\n",
            "\u001b[1m12/12\u001b[0m \u001b[32m━━━━━━━━━━━━━━━━━━━━\u001b[0m\u001b[37m\u001b[0m \u001b[1m0s\u001b[0m 5ms/step - accuracy: 0.9776 - loss: 0.0992 - val_accuracy: 0.9574 - val_loss: 0.1557\n",
            "Epoch 83/100\n",
            "\u001b[1m12/12\u001b[0m \u001b[32m━━━━━━━━━━━━━━━━━━━━\u001b[0m\u001b[37m\u001b[0m \u001b[1m0s\u001b[0m 7ms/step - accuracy: 0.9829 - loss: 0.1053 - val_accuracy: 0.9574 - val_loss: 0.1550\n",
            "Epoch 84/100\n",
            "\u001b[1m12/12\u001b[0m \u001b[32m━━━━━━━━━━━━━━━━━━━━\u001b[0m\u001b[37m\u001b[0m \u001b[1m0s\u001b[0m 6ms/step - accuracy: 0.9772 - loss: 0.1356 - val_accuracy: 0.9574 - val_loss: 0.1541\n",
            "Epoch 85/100\n",
            "\u001b[1m12/12\u001b[0m \u001b[32m━━━━━━━━━━━━━━━━━━━━\u001b[0m\u001b[37m\u001b[0m \u001b[1m0s\u001b[0m 5ms/step - accuracy: 0.9790 - loss: 0.1102 - val_accuracy: 0.9574 - val_loss: 0.1533\n",
            "Epoch 86/100\n",
            "\u001b[1m12/12\u001b[0m \u001b[32m━━━━━━━━━━━━━━━━━━━━\u001b[0m\u001b[37m\u001b[0m \u001b[1m0s\u001b[0m 4ms/step - accuracy: 0.9848 - loss: 0.1006 - val_accuracy: 0.9574 - val_loss: 0.1525\n",
            "Epoch 87/100\n",
            "\u001b[1m12/12\u001b[0m \u001b[32m━━━━━━━━━━━━━━━━━━━━\u001b[0m\u001b[37m\u001b[0m \u001b[1m0s\u001b[0m 4ms/step - accuracy: 0.9838 - loss: 0.1054 - val_accuracy: 0.9574 - val_loss: 0.1518\n",
            "Epoch 88/100\n",
            "\u001b[1m12/12\u001b[0m \u001b[32m━━━━━━━━━━━━━━━━━━━━\u001b[0m\u001b[37m\u001b[0m \u001b[1m0s\u001b[0m 6ms/step - accuracy: 0.9813 - loss: 0.0990 - val_accuracy: 0.9574 - val_loss: 0.1510\n",
            "Epoch 89/100\n",
            "\u001b[1m12/12\u001b[0m \u001b[32m━━━━━━━━━━━━━━━━━━━━\u001b[0m\u001b[37m\u001b[0m \u001b[1m0s\u001b[0m 4ms/step - accuracy: 0.9865 - loss: 0.0965 - val_accuracy: 0.9574 - val_loss: 0.1503\n",
            "Epoch 90/100\n",
            "\u001b[1m12/12\u001b[0m \u001b[32m━━━━━━━━━━━━━━━━━━━━\u001b[0m\u001b[37m\u001b[0m \u001b[1m0s\u001b[0m 6ms/step - accuracy: 0.9804 - loss: 0.1145 - val_accuracy: 0.9574 - val_loss: 0.1495\n",
            "Epoch 91/100\n",
            "\u001b[1m12/12\u001b[0m \u001b[32m━━━━━━━━━━━━━━━━━━━━\u001b[0m\u001b[37m\u001b[0m \u001b[1m0s\u001b[0m 5ms/step - accuracy: 0.9716 - loss: 0.1261 - val_accuracy: 0.9574 - val_loss: 0.1489\n",
            "Epoch 92/100\n",
            "\u001b[1m12/12\u001b[0m \u001b[32m━━━━━━━━━━━━━━━━━━━━\u001b[0m\u001b[37m\u001b[0m \u001b[1m0s\u001b[0m 7ms/step - accuracy: 0.9789 - loss: 0.0897 - val_accuracy: 0.9574 - val_loss: 0.1481\n",
            "Epoch 93/100\n",
            "\u001b[1m12/12\u001b[0m \u001b[32m━━━━━━━━━━━━━━━━━━━━\u001b[0m\u001b[37m\u001b[0m \u001b[1m0s\u001b[0m 5ms/step - accuracy: 0.9730 - loss: 0.1272 - val_accuracy: 0.9574 - val_loss: 0.1474\n",
            "Epoch 94/100\n",
            "\u001b[1m12/12\u001b[0m \u001b[32m━━━━━━━━━━━━━━━━━━━━\u001b[0m\u001b[37m\u001b[0m \u001b[1m0s\u001b[0m 5ms/step - accuracy: 0.9778 - loss: 0.0988 - val_accuracy: 0.9574 - val_loss: 0.1468\n",
            "Epoch 95/100\n",
            "\u001b[1m12/12\u001b[0m \u001b[32m━━━━━━━━━━━━━━━━━━━━\u001b[0m\u001b[37m\u001b[0m \u001b[1m0s\u001b[0m 5ms/step - accuracy: 0.9702 - loss: 0.1267 - val_accuracy: 0.9574 - val_loss: 0.1461\n",
            "Epoch 96/100\n",
            "\u001b[1m12/12\u001b[0m \u001b[32m━━━━━━━━━━━━━━━━━━━━\u001b[0m\u001b[37m\u001b[0m \u001b[1m0s\u001b[0m 5ms/step - accuracy: 0.9803 - loss: 0.0984 - val_accuracy: 0.9574 - val_loss: 0.1456\n",
            "Epoch 97/100\n",
            "\u001b[1m12/12\u001b[0m \u001b[32m━━━━━━━━━━━━━━━━━━━━\u001b[0m\u001b[37m\u001b[0m \u001b[1m0s\u001b[0m 6ms/step - accuracy: 0.9816 - loss: 0.1192 - val_accuracy: 0.9574 - val_loss: 0.1449\n",
            "Epoch 98/100\n",
            "\u001b[1m12/12\u001b[0m \u001b[32m━━━━━━━━━━━━━━━━━━━━\u001b[0m\u001b[37m\u001b[0m \u001b[1m0s\u001b[0m 5ms/step - accuracy: 0.9822 - loss: 0.1053 - val_accuracy: 0.9574 - val_loss: 0.1443\n",
            "Epoch 99/100\n",
            "\u001b[1m12/12\u001b[0m \u001b[32m━━━━━━━━━━━━━━━━━━━━\u001b[0m\u001b[37m\u001b[0m \u001b[1m0s\u001b[0m 6ms/step - accuracy: 0.9850 - loss: 0.1022 - val_accuracy: 0.9574 - val_loss: 0.1437\n",
            "Epoch 100/100\n",
            "\u001b[1m12/12\u001b[0m \u001b[32m━━━━━━━━━━━━━━━━━━━━\u001b[0m\u001b[37m\u001b[0m \u001b[1m0s\u001b[0m 6ms/step - accuracy: 0.9822 - loss: 0.0824 - val_accuracy: 0.9574 - val_loss: 0.1432\n",
            "\u001b[1m12/12\u001b[0m \u001b[32m━━━━━━━━━━━━━━━━━━━━\u001b[0m\u001b[37m\u001b[0m \u001b[1m0s\u001b[0m 2ms/step - accuracy: 0.9786 - loss: 0.0953 \n",
            "Train score: [0.09819938242435455, 0.9790025949478149]\n",
            "\u001b[1m6/6\u001b[0m \u001b[32m━━━━━━━━━━━━━━━━━━━━\u001b[0m\u001b[37m\u001b[0m \u001b[1m0s\u001b[0m 3ms/step - accuracy: 0.9637 - loss: 0.1459 \n",
            "Test score: [0.14320972561836243, 0.957446813583374]\n"
          ]
        }
      ]
    },
    {
      "cell_type": "markdown",
      "source": [
        "Explanation:\n",
        "tf.keras.models.Sequential([]):\n",
        "\n",
        "This defines a sequential model, which means that the layers will be stacked one after another in a linear manner.\n",
        "A sequential model is ideal when your model consists of a simple sequence of layers without branching or complex connections.\n",
        "tf.keras.layers.Input(shape=(D,)):\n",
        "\n",
        "This defines the input layer of the model.\n",
        "The shape=(D,) argument means that the model expects input data with D features (where D is a placeholder for the number of features or dimensions in your input data). This is usually the number of columns in your training data.\n",
        "Example: If you’re working with a dataset that has 30 features, like the breast cancer dataset from earlier, you would set D = 30.\n",
        "tf.keras.layers.Dense(1, activation='sigmoid'):\n",
        "\n",
        "Dense is a fully connected (or dense) layer, meaning each neuron in the layer is connected to every neuron in the previous layer.\n",
        "1: This indicates that the output layer has 1 neuron. In binary classification, we need only one output neuron because the model is predicting one of two classes (0 or 1).\n",
        "activation='sigmoid': The sigmoid activation function is used in the output layer for binary classification tasks. The sigmoid function squashes the output to a range between 0 and 1, which represents the probability of the class being 1 (positive class).\n",
        "If the output is close to 1, it indicates that the model predicts the positive class (e.g., benign).\n",
        "If the output is close to 0, it predicts the negative class (e.g., malignant).\n",
        "Purpose of this Model:\n",
        "This model is a logistic regression-like model but implemented using a neural network framework.\n",
        "It’s useful for binary classification problems, such as determining whether a breast cancer tumor is malignant (0) or benign (1).\n",
        "The single neuron with the sigmoid activation function gives a probability that the input belongs to class 1 (positive class).\n",
        "Example of How It Works:\n",
        "You feed the model an input vector (like a patient's medical features).\n",
        "The model processes the input through the dense layer.\n",
        "The single neuron in the output layer produces a number between 0 and 1 (after applying the sigmoid function), which can be interpreted as the probability of the input belonging to the positive class.\n",
        "Summary:\n",
        "Input layer: Accepts input data with D features.\n",
        "Dense layer: Contains 1 neuron, outputting a probability (between 0 and 1) for binary classification.\n",
        "Sigmoid activation: Converts the output into a probability for the positive class.\n",
        "This is a very basic neural network model but is useful for tasks like binary classification. You can later add more layers and complexity if needed!"
      ],
      "metadata": {
        "id": "p41xdcUTD-c4"
      }
    },
    {
      "cell_type": "markdown",
      "source": [
        "Step 1: The formula for the sigmoid function is:\n",
        "𝜎\n",
        "(\n",
        "𝑥\n",
        ")\n",
        "=\n",
        "1\n",
        "1\n",
        "+\n",
        "𝑒\n",
        "−\n",
        "𝑥\n",
        "σ(x)=\n",
        "1+e\n",
        "−x\n",
        "\n",
        "1\n",
        "​\n",
        "\n",
        "Step 2: Substitute\n",
        "𝑥\n",
        "=\n",
        "2\n",
        "x=2 into the formula:\n",
        "𝜎\n",
        "(\n",
        "2\n",
        ")\n",
        "=\n",
        "1\n",
        "1\n",
        "+\n",
        "𝑒\n",
        "−\n",
        "2\n",
        "σ(2)=\n",
        "1+e\n",
        "−2\n",
        "\n",
        "1\n",
        "​\n",
        "\n",
        "Step 3: Calculate\n",
        "𝑒\n",
        "−\n",
        "2\n",
        "e\n",
        "−2\n",
        " :\n",
        "To make it simple,\n",
        "𝑒\n",
        "e is approximately 2.718, so:\n",
        "\n",
        "𝑒\n",
        "−\n",
        "2\n",
        "=\n",
        "1\n",
        "𝑒\n",
        "2\n",
        "=\n",
        "1\n",
        "2.71\n",
        "8\n",
        "2\n",
        "≈\n",
        "1\n",
        "7.389\n",
        "≈\n",
        "0.135\n",
        "e\n",
        "−2\n",
        " =\n",
        "e\n",
        "2\n",
        "\n",
        "1\n",
        "​\n",
        " =\n",
        "2.718\n",
        "2\n",
        "\n",
        "1\n",
        "​\n",
        " ≈\n",
        "7.389\n",
        "1\n",
        "​\n",
        " ≈0.135\n",
        "So,\n",
        "𝑒\n",
        "−\n",
        "2\n",
        "≈\n",
        "0.135\n",
        "e\n",
        "−2\n",
        " ≈0.135.\n",
        "\n",
        "Step 4: Now plug that value back into the sigmoid formula:\n",
        "𝜎\n",
        "(\n",
        "2\n",
        ")\n",
        "=\n",
        "1\n",
        "1\n",
        "+\n",
        "0.135\n",
        "σ(2)=\n",
        "1+0.135\n",
        "1\n",
        "​\n",
        "\n",
        "Step 5: Simplify the denominator:\n",
        "1\n",
        "+\n",
        "0.135\n",
        "=\n",
        "1.135\n",
        "1+0.135=1.135\n",
        "Step 6: Now, divide:\n",
        "𝜎\n",
        "(\n",
        "2\n",
        ")\n",
        "=\n",
        "1\n",
        "1.135\n",
        "≈\n",
        "0.88\n",
        "σ(2)=\n",
        "1.135\n",
        "1\n",
        "​\n",
        " ≈0.88\n",
        "Final Answer:\n",
        "So, when\n",
        "𝑥\n",
        "=\n",
        "2\n",
        "x=2, the sigmoid function gives you a value of approximately 0.88.\n",
        "\n",
        "Summary of Steps:\n",
        "Start with the sigmoid formula.\n",
        "Substitute the value of\n",
        "𝑥\n",
        "x.\n",
        "Calculate\n",
        "𝑒\n",
        "−\n",
        "𝑥\n",
        "e\n",
        "−x\n",
        " .\n",
        "Plug that into the formula and simplify.\n",
        "Get the result!\n",
        "This means that for an input of\n",
        "𝑥\n",
        "=\n",
        "2\n",
        "x=2, the sigmoid function returns 0.88, which is a number between 0 and 1, as expected."
      ],
      "metadata": {
        "id": "zSq_jvJ1SR9l"
      }
    },
    {
      "cell_type": "code",
      "source": [
        "# Plot what's returned by model.fit()\n",
        "import matplotlib.pyplot as plt\n",
        "plt.plot(r.history['loss'], label='loss')\n",
        "plt.plot(r.history['val_loss'], label='val_loss')\n",
        "plt.legend()\n",
        "\n",
        "# plt.legend():\n",
        "# This command adds a legend to the plot, helping distinguish between the training loss and validation loss lines.\n",
        "# What the Plot Represents:\n",
        "# The x-axis represents the epochs (how many times the model has been trained on the entire dataset).\n",
        "# The y-axis represents the loss (how far the model’s predictions are from the actual target values).\n",
        "# Loss typically decreases over time as the model learns.\n",
        "# The 'loss' line shows how the model's error decreases on the training data.\n",
        "# The 'val_loss' line shows how the error decreases on the validation (test) data."
      ],
      "metadata": {
        "id": "nsUXT720KLO1",
        "colab": {
          "base_uri": "https://localhost:8080/",
          "height": 447
        },
        "outputId": "fa008c35-2e38-4499-e32e-c891e4e9a634"
      },
      "execution_count": null,
      "outputs": [
        {
          "output_type": "execute_result",
          "data": {
            "text/plain": [
              "<matplotlib.legend.Legend at 0x7bb8d77eeef0>"
            ]
          },
          "metadata": {},
          "execution_count": 14
        },
        {
          "output_type": "display_data",
          "data": {
            "text/plain": [
              "<Figure size 640x480 with 1 Axes>"
            ],
            "image/png": "[encoded data removed]"
          },
          "metadata": {}
        }
      ]
    },
    {
      "cell_type": "code",
      "source": [
        "# Plot the accuracy too\n",
        "plt.plot(r.history['accuracy'], label='acc')\n",
        "plt.plot(r.history['val_accuracy'], label='val_acc')\n",
        "plt.legend()"
      ],
      "metadata": {
        "id": "QgTXifxmKwQ1",
        "colab": {
          "base_uri": "https://localhost:8080/",
          "height": 447
        },
        "outputId": "940f02cd-f531-4d00-d6eb-c12934aec4ad"
      },
      "execution_count": null,
      "outputs": [
        {
          "output_type": "execute_result",
          "data": {
            "text/plain": [
              "<matplotlib.legend.Legend at 0x7bb8d3384fa0>"
            ]
          },
          "metadata": {},
          "execution_count": 15
        },
        {
          "output_type": "display_data",
          "data": {
            "text/plain": [
              "<Figure size 640x480 with 1 Axes>"
            ],
            "image/png": "[encoded data removed]"
          },
          "metadata": {}
        }
      ]
    },
    {
      "cell_type": "markdown",
      "source": [
        "#Part 2: Making Predictions\n",
        "This goes with the lecture \"Making Predictions\"#"
      ],
      "metadata": {
        "id": "J9C3JlmwLD_k"
      }
    },
    {
      "cell_type": "code",
      "source": [
        "# Make predictions\n",
        "P = model.predict(X_test)\n",
        "print(P) # they are outputs of the sigmoid, interpreted as probabilities p(y = 1 | x)"
      ],
      "metadata": {
        "id": "M7N90J-vK7By",
        "colab": {
          "base_uri": "https://localhost:8080/"
        },
        "outputId": "e87e4e71-62e8-486d-ccd6-ef14e3a7525f"
      },
      "execution_count": null,
      "outputs": [
        {
          "output_type": "stream",
          "name": "stdout",
          "text": [
            "\u001b[1m6/6\u001b[0m \u001b[32m━━━━━━━━━━━━━━━━━━━━\u001b[0m\u001b[37m\u001b[0m \u001b[1m0s\u001b[0m 6ms/step \n",
            "[[8.67233992e-01]\n",
            " [5.43092072e-01]\n",
            " [9.45117354e-01]\n",
            " [6.45894051e-01]\n",
            " [9.63507295e-01]\n",
            " [8.78048658e-01]\n",
            " [9.89925325e-01]\n",
            " [8.48447800e-01]\n",
            " [2.70878372e-04]\n",
            " [9.95128036e-01]\n",
            " [9.64515626e-01]\n",
            " [2.69836318e-02]\n",
            " [8.10441226e-02]\n",
            " [9.64284539e-01]\n",
            " [9.71753836e-01]\n",
            " [9.88930762e-01]\n",
            " [7.47945845e-01]\n",
            " [2.74063088e-02]\n",
            " [9.73291159e-01]\n",
            " [3.72842606e-03]\n",
            " [9.71274078e-01]\n",
            " [9.84665513e-01]\n",
            " [9.05266047e-01]\n",
            " [9.68257725e-01]\n",
            " [8.48266065e-01]\n",
            " [1.25666231e-01]\n",
            " [3.75269428e-02]\n",
            " [5.20245265e-03]\n",
            " [1.64311957e-02]\n",
            " [9.98196006e-01]\n",
            " [9.61581051e-01]\n",
            " [1.47124156e-01]\n",
            " [9.91090000e-01]\n",
            " [6.51792526e-01]\n",
            " [9.17625248e-01]\n",
            " [9.98120606e-01]\n",
            " [8.88082385e-01]\n",
            " [9.92599726e-01]\n",
            " [3.60671147e-05]\n",
            " [9.97846782e-01]\n",
            " [9.77611184e-01]\n",
            " [8.98935497e-01]\n",
            " [1.35017648e-01]\n",
            " [8.62448514e-01]\n",
            " [3.00193060e-04]\n",
            " [9.83903468e-01]\n",
            " [1.32535025e-03]\n",
            " [9.52795565e-01]\n",
            " [9.51785922e-01]\n",
            " [1.07239373e-01]\n",
            " [1.27927306e-05]\n",
            " [9.74080265e-01]\n",
            " [4.74692293e-04]\n",
            " [9.58842933e-01]\n",
            " [4.35921401e-01]\n",
            " [2.95643695e-02]\n",
            " [9.94036496e-01]\n",
            " [9.95600522e-01]\n",
            " [9.80419397e-01]\n",
            " [9.93070126e-01]\n",
            " [9.91431832e-01]\n",
            " [5.53669408e-04]\n",
            " [1.16960984e-03]\n",
            " [8.36118579e-01]\n",
            " [9.59537745e-01]\n",
            " [5.01342025e-03]\n",
            " [3.41403894e-02]\n",
            " [9.65537727e-01]\n",
            " [9.13658023e-01]\n",
            " [9.73824799e-01]\n",
            " [2.09669974e-02]\n",
            " [4.06096503e-03]\n",
            " [1.67846410e-05]\n",
            " [9.18542564e-01]\n",
            " [9.36947286e-01]\n",
            " [9.29560065e-01]\n",
            " [9.78924870e-01]\n",
            " [9.95280206e-01]\n",
            " [2.57883310e-01]\n",
            " [9.94819701e-01]\n",
            " [9.56129516e-04]\n",
            " [4.29232210e-01]\n",
            " [9.55612779e-01]\n",
            " [6.36080444e-01]\n",
            " [9.99038517e-01]\n",
            " [8.48820806e-01]\n",
            " [8.83221865e-01]\n",
            " [9.81850207e-01]\n",
            " [1.29807286e-03]\n",
            " [9.70023155e-01]\n",
            " [9.35119331e-01]\n",
            " [7.69827142e-02]\n",
            " [8.90747607e-01]\n",
            " [8.36950302e-01]\n",
            " [9.79814768e-01]\n",
            " [9.71594572e-01]\n",
            " [9.99530733e-01]\n",
            " [9.99235392e-01]\n",
            " [9.98406827e-01]\n",
            " [1.17454922e-03]\n",
            " [6.12640202e-01]\n",
            " [7.97743499e-01]\n",
            " [9.83221769e-01]\n",
            " [9.33087289e-01]\n",
            " [9.52409089e-01]\n",
            " [8.94887388e-01]\n",
            " [7.61881649e-01]\n",
            " [3.60265520e-04]\n",
            " [9.18932736e-01]\n",
            " [1.06450103e-01]\n",
            " [9.89368439e-01]\n",
            " [8.93608570e-01]\n",
            " [9.80510116e-01]\n",
            " [2.81069404e-03]\n",
            " [9.76976573e-01]\n",
            " [6.08006027e-03]\n",
            " [9.75786090e-01]\n",
            " [1.04083762e-01]\n",
            " [9.91671205e-01]\n",
            " [9.77479875e-01]\n",
            " [1.91976175e-01]\n",
            " [9.74798262e-01]\n",
            " [4.30491567e-01]\n",
            " [4.12440300e-01]\n",
            " [9.13651228e-01]\n",
            " [9.84435618e-01]\n",
            " [9.98194337e-01]\n",
            " [2.88354419e-02]\n",
            " [9.73223388e-01]\n",
            " [9.59783435e-01]\n",
            " [7.86222816e-01]\n",
            " [9.85007465e-01]\n",
            " [9.49280322e-01]\n",
            " [1.62122056e-01]\n",
            " [6.76764967e-03]\n",
            " [9.54902172e-01]\n",
            " [9.80407774e-01]\n",
            " [9.74642098e-01]\n",
            " [9.99442995e-01]\n",
            " [5.19054711e-01]\n",
            " [1.49298031e-02]\n",
            " [9.63862985e-03]\n",
            " [7.05435932e-01]\n",
            " [1.94447227e-02]\n",
            " [9.73548710e-01]\n",
            " [9.07814801e-01]\n",
            " [7.71010101e-01]\n",
            " [1.64421462e-02]\n",
            " [9.53487992e-01]\n",
            " [9.65522468e-01]\n",
            " [5.41615725e-01]\n",
            " [9.88897324e-01]\n",
            " [9.72779572e-01]\n",
            " [9.75531518e-01]\n",
            " [2.37332419e-01]\n",
            " [4.49016131e-03]\n",
            " [9.96696234e-01]\n",
            " [9.57745433e-01]\n",
            " [9.85489070e-01]\n",
            " [5.76370955e-02]\n",
            " [9.85806406e-01]\n",
            " [9.67345119e-01]\n",
            " [8.50971103e-01]\n",
            " [9.95889962e-01]\n",
            " [1.98920816e-02]\n",
            " [1.19398035e-04]\n",
            " [8.69165957e-01]\n",
            " [1.08588021e-03]\n",
            " [9.97892022e-01]\n",
            " [6.53007627e-01]\n",
            " [3.88675043e-03]\n",
            " [9.53709543e-01]\n",
            " [9.88796890e-01]\n",
            " [9.89916146e-01]\n",
            " [6.46564877e-04]\n",
            " [9.46443737e-01]\n",
            " [9.34156552e-02]\n",
            " [9.93684769e-01]\n",
            " [5.17078303e-02]\n",
            " [1.01911770e-02]\n",
            " [3.18249688e-02]\n",
            " [9.58459496e-01]\n",
            " [8.00525025e-02]\n",
            " [9.66740012e-01]\n",
            " [1.13879330e-03]\n",
            " [5.75343302e-06]\n",
            " [9.25602138e-01]\n",
            " [3.59915197e-01]]\n"
          ]
        }
      ]
    },
    {
      "cell_type": "code",
      "source": [
        "# Round to get the actual predictions\n",
        "# Note: has to be flattened since the targets are size (N,) while the predictions are size (N,1)\n",
        "\n",
        "# Round the predicted probabilities to get the actual class predictions (0 or 1)\n",
        "# This converts probabilities >= 0.5 to 1 and < 0.5 to 0.\n",
        "# The predictions are then flattened from shape (N, 1) to (N,)\n",
        "# to match the shape of the target values for easier comparison.\n",
        "\n",
        "import numpy as np\n",
        "P = np.round(P).flatten()\n",
        "print(P)"
      ],
      "metadata": {
        "id": "tqfhOzvhLPJD",
        "colab": {
          "base_uri": "https://localhost:8080/"
        },
        "outputId": "c305c735-115f-4974-91fe-0ed95d436b64"
      },
      "execution_count": null,
      "outputs": [
        {
          "output_type": "stream",
          "name": "stdout",
          "text": [
            "[1. 1. 1. 1. 1. 1. 1. 1. 0. 1. 1. 0. 0. 1. 1. 1. 1. 0. 1. 0. 1. 1. 1. 1.\n",
            " 1. 0. 0. 0. 0. 1. 1. 0. 1. 1. 1. 1. 1. 1. 0. 1. 1. 1. 0. 1. 0. 1. 0. 1.\n",
            " 1. 0. 0. 1. 0. 1. 0. 0. 1. 1. 1. 1. 1. 0. 0. 1. 1. 0. 0. 1. 1. 1. 0. 0.\n",
            " 0. 1. 1. 1. 1. 1. 0. 1. 0. 0. 1. 1. 1. 1. 1. 1. 0. 1. 1. 0. 1. 1. 1. 1.\n",
            " 1. 1. 1. 0. 1. 1. 1. 1. 1. 1. 1. 0. 1. 0. 1. 1. 1. 0. 1. 0. 1. 0. 1. 1.\n",
            " 0. 1. 0. 0. 1. 1. 1. 0. 1. 1. 1. 1. 1. 0. 0. 1. 1. 1. 1. 1. 0. 0. 1. 0.\n",
            " 1. 1. 1. 0. 1. 1. 1. 1. 1. 1. 0. 0. 1. 1. 1. 0. 1. 1. 1. 1. 0. 0. 1. 0.\n",
            " 1. 1. 0. 1. 1. 1. 0. 1. 0. 1. 0. 0. 0. 1. 0. 1. 0. 0. 1. 0.]\n"
          ]
        }
      ]
    },
    {
      "cell_type": "code",
      "source": [
        "# Calculate the accuracy, compare it to evaluate() output\n",
        "print(\"Manually calculated accuracy:\", np.mean(P == y_test))\n",
        "print(\"Evaluate output:\", model.evaluate(X_test, y_test))"
      ],
      "metadata": {
        "id": "zWwdP8b-Lb2s",
        "colab": {
          "base_uri": "https://localhost:8080/"
        },
        "outputId": "7d4c7e47-23a9-408e-e429-2f3fb3c8bb18"
      },
      "execution_count": null,
      "outputs": [
        {
          "output_type": "stream",
          "name": "stdout",
          "text": [
            "Manually calculated accuracy: 0.9574468085106383\n",
            "\u001b[1m6/6\u001b[0m \u001b[32m━━━━━━━━━━━━━━━━━━━━\u001b[0m\u001b[37m\u001b[0m \u001b[1m0s\u001b[0m 2ms/step - accuracy: 0.9637 - loss: 0.1459 \n",
            "Evaluate output: [0.14320972561836243, 0.957446813583374]\n"
          ]
        }
      ]
    },
    {
      "cell_type": "markdown",
      "source": [
        "#Part 3: Saving and Loading a Model#\n",
        "This goes with the lecture \"Saving and Loading a Model\""
      ],
      "metadata": {
        "id": "kqm3t59uL2ai"
      }
    },
    {
      "cell_type": "code",
      "source": [
        "# Let's now save our model to a file\n",
        "# Save the trained model to a file for future use\n",
        "# This saves the model architecture, weights, and training configuration\n",
        "# in HDF5 format, allowing for easy loading and deployment later.\n",
        "model.save('linearclassifier.h5')"
      ],
      "metadata": {
        "id": "ru5w4EAiLgnW",
        "colab": {
          "base_uri": "https://localhost:8080/"
        },
        "outputId": "c40c5037-35a7-43ed-8177-d6eb585c49b9"
      },
      "execution_count": null,
      "outputs": [
        {
          "output_type": "stream",
          "name": "stderr",
          "text": [
            "WARNING:absl:You are saving your model as an HDF5 file via `model.save()` or `keras.saving.save_model(model)`. This file format is considered legacy. We recommend using instead the native Keras format, e.g. `model.save('my_model.keras')` or `keras.saving.save_model(model, 'my_model.keras')`. \n"
          ]
        }
      ]
    },
    {
      "cell_type": "code",
      "source": [
        "# Check that the model file exists\n",
        "# Check that the model file exists by listing all files in the current directory\n",
        "# The command 'ls -lh' provides detailed information about each file,\n",
        "# including file size in a human-readable format, allowing us to confirm\n",
        "# that 'linearclassifier.h5' has been created and saved successfully.\n",
        "!ls -lh"
      ],
      "metadata": {
        "id": "KaD4mDnWMBUC",
        "colab": {
          "base_uri": "https://localhost:8080/"
        },
        "outputId": "335904a6-04a7-430f-b45f-b593acd8343b"
      },
      "execution_count": null,
      "outputs": [
        {
          "output_type": "stream",
          "name": "stdout",
          "text": [
            "total 24K\n",
            "-rw-r--r-- 1 root root  18K Oct 20 08:52 linearclassifier.h5\n",
            "drwxr-xr-x 1 root root 4.0K Oct 17 13:21 sample_data\n"
          ]
        }
      ]
    },
    {
      "cell_type": "code",
      "source": [
        "# Let's load the model and confirm that it still works\n",
        "# Note: there is a bug in Keras where load/save only works if you DON'T use the Input() layer explicitly\n",
        "# So, make sure you define the model with ONLY Dense(1, input_shape=(D,))\n",
        "# At least, until the bug is fixed\n",
        "# https://github.com/keras-team/keras/issues/10417\n",
        "model = tf.keras.models.load_model('linearclassifier.h5')\n",
        "print(model.layers)\n",
        "model.evaluate(X_test, y_test)"
      ],
      "metadata": {
        "id": "LznHeXGHMJHd",
        "colab": {
          "base_uri": "https://localhost:8080/"
        },
        "outputId": "3733eb63-a73b-4868-d58e-dbfb235316b8"
      },
      "execution_count": null,
      "outputs": [
        {
          "output_type": "stream",
          "name": "stderr",
          "text": [
            "WARNING:absl:Compiled the loaded model, but the compiled metrics have yet to be built. `model.compile_metrics` will be empty until you train or evaluate the model.\n"
          ]
        },
        {
          "output_type": "stream",
          "name": "stdout",
          "text": [
            "[<Dense name=dense, built=True>]\n",
            "\u001b[1m6/6\u001b[0m \u001b[32m━━━━━━━━━━━━━━━━━━━━\u001b[0m\u001b[37m\u001b[0m \u001b[1m0s\u001b[0m 3ms/step - accuracy: 0.9637 - loss: 0.1459  \n"
          ]
        },
        {
          "output_type": "execute_result",
          "data": {
            "text/plain": [
              "[0.14320972561836243, 0.957446813583374]"
            ]
          },
          "metadata": {},
          "execution_count": 21
        }
      ]
    },
    {
      "cell_type": "code",
      "source": [
        "# Download the file - requires Chrome (at this point)\n",
        "from google.colab import files\n",
        "files.download('linearclassifier.h5')"
      ],
      "metadata": {
        "id": "E75flGh-MVGo",
        "colab": {
          "base_uri": "https://localhost:8080/",
          "height": 17
        },
        "outputId": "5d475b76-1f3b-4143-b9f2-5823df628c29"
      },
      "execution_count": null,
      "outputs": [
        {
          "output_type": "display_data",
          "data": {
            "text/plain": [
              "<IPython.core.display.Javascript object>"
            ],
            "application/javascript": [
              "\n",
              "    async function download(id, filename, size) {\n",
              "      if (!google.colab.kernel.accessAllowed) {\n",
              "        return;\n",
              "      }\n",
              "      const div = document.createElement('div');\n",
              "      const label = document.createElement('label');\n",
              "      label.textContent = `Downloading \"${filename}\": `;\n",
              "      div.appendChild(label);\n",
              "      const progress = document.createElement('progress');\n",
              "      progress.max = size;\n",
              "      div.appendChild(progress);\n",
              "      document.body.appendChild(div);\n",
              "\n",
              "      const buffers = [];\n",
              "      let downloaded = 0;\n",
              "\n",
              "      const channel = await google.colab.kernel.comms.open(id);\n",
              "      // Send a message to notify the kernel that we're ready.\n",
              "      channel.send({})\n",
              "\n",
              "      for await (const message of channel.messages) {\n",
              "        // Send a message to notify the kernel that we're ready.\n",
              "        channel.send({})\n",
              "        if (message.buffers) {\n",
              "          for (const buffer of message.buffers) {\n",
              "            buffers.push(buffer);\n",
              "            downloaded += buffer.byteLength;\n",
              "            progress.value = downloaded;\n",
              "          }\n",
              "        }\n",
              "      }\n",
              "      const blob = new Blob(buffers, {type: 'application/binary'});\n",
              "      const a = document.createElement('a');\n",
              "      a.href = window.URL.createObjectURL(blob);\n",
              "      a.download = filename;\n",
              "      div.appendChild(a);\n",
              "      a.click();\n",
              "      div.remove();\n",
              "    }\n",
              "  "
            ]
          },
          "metadata": {}
        },
        {
          "output_type": "display_data",
          "data": {
            "text/plain": [
              "<IPython.core.display.Javascript object>"
            ],
            "application/javascript": [
              "download(\"download_0eaab7df-1e66-4a4d-903e-f48b4e8a8da9\", \"linearclassifier.h5\", 17960)"
            ]
          },
          "metadata": {}
        }
      ]
    },
    {
      "cell_type": "code",
      "source": [],
      "metadata": {
        "id": "8ps1GdSMMdA7"
      },
      "execution_count": null,
      "outputs": []
    }
  ]
}